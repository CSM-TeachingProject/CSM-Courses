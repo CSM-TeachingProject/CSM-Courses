{
 "cells": [
  {
   "cell_type": "code",
   "execution_count": 22,
   "metadata": {},
   "outputs": [],
   "source": [
    "import nltk\n",
    "#importa o porter stemmer\n",
    "from nltk.stem import PorterStemmer\n",
    "\n",
    "# inserimos um texto aleatório\n",
    "texto = \"\"\"France, in Western Europe, encompasses medieval cities, alpine villages and Mediterranean beaches. Paris, its capital, is famed for its fashion houses, classical art museums including the Louvre and monuments like the Eiffel Tower. The country is also renowned for its wines and sophisticated cuisine. Lascaux’s ancient cave drawings, Lyon’s Roman theater and the vast Palace of Versailles attest to its rich history.\"\"\"\n",
    "sentences = nltk.sent_tokenize(texto)\n",
    "wordstokenized = nltk.word_tokenize(texto)"
   ]
  },
  {
   "cell_type": "code",
   "execution_count": 14,
   "metadata": {},
   "outputs": [
    {
     "name": "stdout",
     "output_type": "stream",
     "text": [
      "['franc , in western europ , encompass mediev citi , alpin villag and mediterranean beach .', 'pari , it capit , is fame for it fashion hous , classic art museum includ the louvr and monument like the eiffel tower .', 'the countri is also renown for it wine and sophist cuisin .', 'lascaux ’ s ancient cave draw , lyon ’ s roman theater and the vast palac of versail attest to it rich histori .']\n"
     ]
    }
   ],
   "source": [
    "# Para reduzirmos um termo para sua raiz realizamos o processo de stemming - Essas palavras podem ou não ter um sentido\n",
    "# por exemplo: intelligently - intelligen\n",
    "\n",
    "# instancia o porter stemmer\n",
    "stemmer = PorterStemmer()\n",
    "\n",
    "# primeira forma => output: uma string contendo tudo junto\n",
    "for i in range(len(sentences)):\n",
    "    words = nltk.word_tokenize(sentences[i])\n",
    "    newwords = [stemmer.stem(word) for word in words]\n",
    "    sentences[i] = ' '.join(newwords)\n",
    "\n",
    "print (sentences)"
   ]
  },
  {
   "cell_type": "code",
   "execution_count": 18,
   "metadata": {},
   "outputs": [],
   "source": [
    "# segunda forma => output: uma lista de palavras\n",
    "newd = []\n",
    "for i in range(len(wordstokenized)):\n",
    "    newd.append(stemmer.stem(wordstokenized[i]))\n",
    "    \n",
    "    "
   ]
  },
  {
   "cell_type": "code",
   "execution_count": 24,
   "metadata": {},
   "outputs": [
    {
     "name": "stdout",
     "output_type": "stream",
     "text": [
      "['France , in Western Europe , encompasses medieval city , alpine village and Mediterranean beach .', 'Paris , it capital , is famed for it fashion house , classical art museum including the Louvre and monument like the Eiffel Tower .', 'The country is also renowned for it wine and sophisticated cuisine .', 'Lascaux ’ s ancient cave drawing , Lyon ’ s Roman theater and the vast Palace of Versailles attest to it rich history .']\n"
     ]
    }
   ],
   "source": [
    "# se queremos extrair o \"lemma\" de uma palavra estaremos reduzindo essa palavra a sua forma raiz\n",
    "# por exemplo: intelligently - inteligent\n",
    "\n",
    "from nltk.stem import WordNetLemmatizer\n",
    "lemmatizer = WordNetLemmatizer()\n",
    "\n",
    "for i in range (len(sentences)):\n",
    "    words = nltk.word_tokenize(sentences[i])\n",
    "    newwords = [lemmatizer.lemmatize(word) for word in words]\n",
    "    sentences[i] = ' '.join(newwords)\n",
    "print (sentences)"
   ]
  }
 ],
 "metadata": {
  "kernelspec": {
   "display_name": "Python 3",
   "language": "python",
   "name": "python3"
  },
  "language_info": {
   "codemirror_mode": {
    "name": "ipython",
    "version": 3
   },
   "file_extension": ".py",
   "mimetype": "text/x-python",
   "name": "python",
   "nbconvert_exporter": "python",
   "pygments_lexer": "ipython3",
   "version": "3.7.0"
  }
 },
 "nbformat": 4,
 "nbformat_minor": 2
}
