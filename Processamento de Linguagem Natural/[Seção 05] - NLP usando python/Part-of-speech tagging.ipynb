{
 "cells": [
  {
   "cell_type": "code",
   "execution_count": 6,
   "metadata": {},
   "outputs": [],
   "source": [
    "import nltk "
   ]
  },
  {
   "cell_type": "code",
   "execution_count": 8,
   "metadata": {},
   "outputs": [],
   "source": [
    "# realizar o part-of-speech tokenizing significa dar a cada palavra da frase um \"token\" que diz que tipo de função aquela\n",
    "#palafra possui na frase.\n",
    "\n",
    "# inserimos um texto aleatório\n",
    "texto = \"\"\"France, in Western Europe, encompasses medieval cities, alpine villages and Mediterranean beaches. Paris, its capital, is famed for its fashion houses, classical art museums including the Louvre and monuments like the Eiffel Tower. The country is also renowned for its wines and sophisticated cuisine. Lascaux’s ancient cave drawings, Lyon’s Roman theater and the vast Palace of Versailles attest to its rich history.\"\"\"\n",
    "\n",
    "words = nltk.word_tokenize(texto)\n",
    "tagged_words = nltk.pos_tag(words)\n",
    "\n",
    "word_tags = []\n",
    "\n",
    "for tw in tagged_words:\n",
    "    word_tags.append(tw[0] + \"_\" + tw[1])\n",
    "                     \n",
    "tagged_paragraph = ' '.join(word_tags)\n",
    "                     "
   ]
  },
  {
   "cell_type": "code",
   "execution_count": null,
   "metadata": {},
   "outputs": [],
   "source": []
  },
  {
   "cell_type": "code",
   "execution_count": 14,
   "metadata": {},
   "outputs": [
    {
     "name": "stdout",
     "output_type": "stream",
     "text": [
      "('France', 'NNP')\n"
     ]
    }
   ],
   "source": [
    "print (tagged_words[0])"
   ]
  }
 ],
 "metadata": {
  "kernelspec": {
   "display_name": "Python 3",
   "language": "python",
   "name": "python3"
  },
  "language_info": {
   "codemirror_mode": {
    "name": "ipython",
    "version": 3
   },
   "file_extension": ".py",
   "mimetype": "text/x-python",
   "name": "python",
   "nbconvert_exporter": "python",
   "pygments_lexer": "ipython3",
   "version": "3.7.0"
  }
 },
 "nbformat": 4,
 "nbformat_minor": 2
}
