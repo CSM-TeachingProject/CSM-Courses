{
 "cells": [
  {
   "cell_type": "code",
   "execution_count": 23,
   "metadata": {},
   "outputs": [],
   "source": [
    "import random"
   ]
  },
  {
   "cell_type": "code",
   "execution_count": 24,
   "metadata": {},
   "outputs": [],
   "source": [
    "# inserimos um texto aleatório\n",
    "text = \"\"\"France, in Western Europe, encompasses medieval cities, alpine villages and Mediterranean beaches. Paris, its capital, is famed for its fashion houses, classical art museums including the Louvre and monuments like the Eiffel Tower. The country is also renowned for its wines and sophisticated cuisine. Lascaux’s ancient cave drawings, Lyon’s Roman theater and the vast Palace of Versailles attest to its rich history.\"\"\"\n"
   ]
  },
  {
   "cell_type": "code",
   "execution_count": 25,
   "metadata": {},
   "outputs": [
    {
     "name": "stdout",
     "output_type": "stream",
     "text": [
      "{'Fran': ['c'], 'ranc': ['e'], 'ance': [','], 'nce,': [' '], 'ce, ': ['i'], 'e, i': ['n'], ', in': [' '], ' in ': ['W'], 'in W': ['e'], 'n We': ['s'], ' Wes': ['t'], 'West': ['e'], 'este': ['r'], 'ster': ['n'], 'tern': [' '], 'ern ': ['E'], 'rn E': ['u'], 'n Eu': ['r'], ' Eur': ['o'], 'Euro': ['p'], 'urop': ['e'], 'rope': [','], 'ope,': [' '], 'pe, ': ['e'], 'e, e': ['n'], ', en': ['c'], ' enc': ['o'], 'enco': ['m'], 'ncom': ['p'], 'comp': ['a'], 'ompa': ['s'], 'mpas': ['s'], 'pass': ['e'], 'asse': ['s'], 'sses': [' '], 'ses ': ['m'], 'es m': ['e'], 's me': ['d'], ' med': ['i'], 'medi': ['e'], 'edie': ['v'], 'diev': ['a'], 'ieva': ['l'], 'eval': [' '], 'val ': ['c'], 'al c': ['i'], 'l ci': ['t'], ' cit': ['i'], 'citi': ['e'], 'itie': ['s'], 'ties': [','], 'ies,': [' '], 'es, ': ['a', 'c'], 's, a': ['l'], ', al': ['p'], ' alp': ['i'], 'alpi': ['n'], 'lpin': ['e'], 'pine': [' '], 'ine ': ['v'], 'ne v': ['i'], 'e vi': ['l'], ' vil': ['l'], 'vill': ['a'], 'illa': ['g'], 'llag': ['e'], 'lage': ['s'], 'ages': [' '], 'ges ': ['a'], 'es a': ['n', 'n', 't'], 's an': ['d', 'd', 'c'], ' and': [' ', ' ', ' ', ' '], 'and ': ['M', 'm', 's', 't'], 'nd M': ['e'], 'd Me': ['d'], ' Med': ['i'], 'Medi': ['t'], 'edit': ['e'], 'dite': ['r'], 'iter': ['r'], 'terr': ['a'], 'erra': ['n'], 'rran': ['e'], 'rane': ['a'], 'anea': ['n'], 'nean': [' '], 'ean ': ['b'], 'an b': ['e'], 'n be': ['a'], ' bea': ['c'], 'beac': ['h'], 'each': ['e'], 'ache': ['s'], 'ches': ['.'], 'hes.': [' '], 'es. ': ['P'], 's. P': ['a'], '. Pa': ['r'], ' Par': ['i'], 'Pari': ['s'], 'aris': [','], 'ris,': [' '], 'is, ': ['i'], 's, i': ['t'], ', it': ['s'], ' its': [' ', ' ', ' ', ' '], 'its ': ['c', 'f', 'w', 'r'], 'ts c': ['a'], 's ca': ['p'], ' cap': ['i'], 'capi': ['t'], 'apit': ['a'], 'pita': ['l'], 'ital': [','], 'tal,': [' '], 'al, ': ['i'], 'l, i': ['s'], ', is': [' '], ' is ': ['f', 'a'], 'is f': ['a'], 's fa': ['m', 's'], ' fam': ['e'], 'fame': ['d'], 'amed': [' '], 'med ': ['f'], 'ed f': ['o', 'o'], 'd fo': ['r', 'r'], ' for': [' ', ' '], 'for ': ['i', 'i'], 'or i': ['t', 't'], 'r it': ['s', 's'], 'ts f': ['a'], ' fas': ['h'], 'fash': ['i'], 'ashi': ['o'], 'shio': ['n'], 'hion': [' '], 'ion ': ['h'], 'on h': ['o'], 'n ho': ['u'], ' hou': ['s'], 'hous': ['e'], 'ouse': ['s'], 'uses': [','], 'ses,': [' '], 's, c': ['l'], ', cl': ['a'], ' cla': ['s'], 'clas': ['s'], 'lass': ['i'], 'assi': ['c'], 'ssic': ['a'], 'sica': ['l'], 'ical': [' '], 'cal ': ['a'], 'al a': ['r'], 'l ar': ['t'], ' art': [' '], 'art ': ['m'], 'rt m': ['u'], 't mu': ['s'], ' mus': ['e'], 'muse': ['u'], 'useu': ['m'], 'seum': ['s'], 'eums': [' '], 'ums ': ['i'], 'ms i': ['n'], 's in': ['c'], ' inc': ['l'], 'incl': ['u'], 'nclu': ['d'], 'clud': ['i'], 'ludi': ['n'], 'udin': ['g'], 'ding': [' '], 'ing ': ['t'], 'ng t': ['h'], 'g th': ['e'], ' the': [' ', ' ', 'a', ' '], 'the ': ['L', 'E', 'v'], 'he L': ['o'], 'e Lo': ['u'], ' Lou': ['v'], 'Louv': ['r'], 'ouvr': ['e'], 'uvre': [' '], 'vre ': ['a'], 're a': ['n'], 'e an': ['d'], 'nd m': ['o'], 'd mo': ['n'], ' mon': ['u'], 'monu': ['m'], 'onum': ['e'], 'nume': ['n'], 'umen': ['t'], 'ment': ['s'], 'ents': [' '], 'nts ': ['l'], 'ts l': ['i'], 's li': ['k'], ' lik': ['e'], 'like': [' '], 'ike ': ['t'], 'ke t': ['h'], 'e th': ['e'], 'he E': ['i'], 'e Ei': ['f'], ' Eif': ['f'], 'Eiff': ['e'], 'iffe': ['l'], 'ffel': [' '], 'fel ': ['T'], 'el T': ['o'], 'l To': ['w'], ' Tow': ['e'], 'Towe': ['r'], 'ower': ['.'], 'wer.': [' '], 'er. ': ['T'], 'r. T': ['h'], '. Th': ['e'], ' The': [' '], 'The ': ['c'], 'he c': ['o'], 'e co': ['u'], ' cou': ['n'], 'coun': ['t'], 'ount': ['r'], 'untr': ['y'], 'ntry': [' '], 'try ': ['i'], 'ry i': ['s'], 'y is': [' '], 'is a': ['l'], 's al': ['s'], ' als': ['o'], 'also': [' '], 'lso ': ['r'], 'so r': ['e'], 'o re': ['n'], ' ren': ['o'], 'reno': ['w'], 'enow': ['n'], 'nown': ['e'], 'owne': ['d'], 'wned': [' '], 'ned ': ['f'], 'ts w': ['i'], 's wi': ['n'], ' win': ['e'], 'wine': ['s'], 'ines': [' '], 'nes ': ['a'], 'nd s': ['o'], 'd so': ['p'], ' sop': ['h'], 'soph': ['i'], 'ophi': ['s'], 'phis': ['t'], 'hist': ['i', 'o'], 'isti': ['c'], 'stic': ['a'], 'tica': ['t'], 'icat': ['e'], 'cate': ['d'], 'ated': [' '], 'ted ': ['c'], 'ed c': ['u'], 'd cu': ['i'], ' cui': ['s'], 'cuis': ['i'], 'uisi': ['n'], 'isin': ['e'], 'sine': ['.'], 'ine.': [' '], 'ne. ': ['L'], 'e. L': ['a'], '. La': ['s'], ' Las': ['c'], 'Lasc': ['a'], 'asca': ['u'], 'scau': ['x'], 'caux': ['’'], 'aux’': ['s'], 'ux’s': [' '], 'x’s ': ['a'], '’s a': ['n'], ' anc': ['i'], 'anci': ['e'], 'ncie': ['n'], 'cien': ['t'], 'ient': [' '], 'ent ': ['c'], 'nt c': ['a'], 't ca': ['v'], ' cav': ['e'], 'cave': [' '], 'ave ': ['d'], 've d': ['r'], 'e dr': ['a'], ' dra': ['w'], 'draw': ['i'], 'rawi': ['n'], 'awin': ['g'], 'wing': ['s'], 'ings': [','], 'ngs,': [' '], 'gs, ': ['L'], 's, L': ['y'], ', Ly': ['o'], ' Lyo': ['n'], 'Lyon': ['’'], 'yon’': ['s'], 'on’s': [' '], 'n’s ': ['R'], '’s R': ['o'], 's Ro': ['m'], ' Rom': ['a'], 'Roma': ['n'], 'oman': [' '], 'man ': ['t'], 'an t': ['h'], 'n th': ['e'], 'thea': ['t'], 'heat': ['e'], 'eate': ['r'], 'ater': [' '], 'ter ': ['a'], 'er a': ['n'], 'r an': ['d'], 'nd t': ['h'], 'd th': ['e'], 'he v': ['a'], 'e va': ['s'], ' vas': ['t'], 'vast': [' '], 'ast ': ['P'], 'st P': ['a'], 't Pa': ['l'], ' Pal': ['a'], 'Pala': ['c'], 'alac': ['e'], 'lace': [' '], 'ace ': ['o'], 'ce o': ['f'], 'e of': [' '], ' of ': ['V'], 'of V': ['e'], 'f Ve': ['r'], ' Ver': ['s'], 'Vers': ['a'], 'ersa': ['i'], 'rsai': ['l'], 'sail': ['l'], 'aill': ['e'], 'ille': ['s'], 'lles': [' '], 'les ': ['a'], 's at': ['t'], ' att': ['e'], 'atte': ['s'], 'ttes': ['t'], 'test': [' '], 'est ': ['t'], 'st t': ['o'], 't to': [' '], ' to ': ['i'], 'to i': ['t'], 'o it': ['s'], 'ts r': ['i'], 's ri': ['c'], ' ric': ['h'], 'rich': [' '], 'ich ': ['h'], 'ch h': ['i'], 'h hi': ['s'], ' his': ['t'], 'isto': ['r'], 'stor': ['y'], 'tory': ['.']}\n"
     ]
    }
   ],
   "source": [
    "n = 4\n",
    "ngrams = {}\n",
    "\n",
    "# create the n-grams\n",
    "for i in range(len(text)-n):\n",
    "    gram = text[i:i+n] # texto de [0:3]\n",
    "    if gram not in ngrams.keys():\n",
    "        ngrams[gram] = []\n",
    "    ngrams[gram].append(text[i+n])\n",
    "    \n",
    "print (ngrams)"
   ]
  },
  {
   "cell_type": "code",
   "execution_count": 26,
   "metadata": {},
   "outputs": [
    {
     "name": "stdout",
     "output_type": "stream",
     "text": [
      "France, in Western Europe, encompasses medieval cities, classical art museums including the Louvre and t\n"
     ]
    }
   ],
   "source": [
    "# testando o modelo n-gram\n",
    "\n",
    "currentGram = text[0:n]\n",
    "result = currentGram\n",
    "\n",
    "for i in range(100):\n",
    "    if currentGram not in ngrams.keys():\n",
    "        break\n",
    "    possibilities = ngrams[currentGram]\n",
    "    nextItem = possibilities [random.randrange(len(possibilities))]\n",
    "    result += nextItem\n",
    "    currentGram=result[len(result) -n: len(result)]\n",
    "    \n",
    "print (result)\n",
    "        "
   ]
  },
  {
   "cell_type": "code",
   "execution_count": null,
   "metadata": {},
   "outputs": [],
   "source": []
  }
 ],
 "metadata": {
  "kernelspec": {
   "display_name": "Python 3",
   "language": "python",
   "name": "python3"
  },
  "language_info": {
   "codemirror_mode": {
    "name": "ipython",
    "version": 3
   },
   "file_extension": ".py",
   "mimetype": "text/x-python",
   "name": "python",
   "nbconvert_exporter": "python",
   "pygments_lexer": "ipython3",
   "version": "3.7.0"
  }
 },
 "nbformat": 4,
 "nbformat_minor": 2
}
