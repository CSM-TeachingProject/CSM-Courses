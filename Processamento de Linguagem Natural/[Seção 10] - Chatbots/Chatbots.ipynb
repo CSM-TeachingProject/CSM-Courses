{
 "cells": [
  {
   "cell_type": "code",
   "execution_count": 1,
   "metadata": {},
   "outputs": [],
   "source": [
    "from chatterbot.trainers import ListTrainer\n",
    "from chatterbot import ChatBot\n",
    "import os"
   ]
  },
  {
   "cell_type": "code",
   "execution_count": 2,
   "metadata": {},
   "outputs": [
    {
     "name": "stdout",
     "output_type": "stream",
     "text": [
      "List Trainer: [####################] 100%\n",
      "List Trainer: [####################] 100%\n"
     ]
    }
   ],
   "source": [
    "bot = ChatBot('Test')\n",
    "\n",
    "bot.set_trainer(ListTrainer)\n",
    "\n",
    "for _file in os.listdir('files'):\n",
    "    chats = open('files/' + _file, 'r').readlines()\n",
    "    bot.train(chats)"
   ]
  },
  {
   "cell_type": "code",
   "execution_count": null,
   "metadata": {},
   "outputs": [
    {
     "name": "stdout",
     "output_type": "stream",
     "text": [
      "you: olá\n",
      "Bot:  olá, tudo bem?\n",
      "you: tudo bem e vocÊ?\n",
      "Bot:  tudo ótimo, no que posso te ajudar?\n",
      "you: linguiça\n",
      "Bot:  Luciano é nosso gestor, ele que realiza a distribuição de tarefas\n",
      "you: onde ele mora?\n",
      "Bot:  Na rua dos bobos numero zero\n",
      "you: qual o contato dele?\n",
      "Bot:  o número é 991161608\n"
     ]
    }
   ],
   "source": [
    "while True:\n",
    "    request = input('you: ')\n",
    "    response = bot.get_response(request)\n",
    "    \n",
    "    print('Bot: ', response)"
   ]
  },
  {
   "cell_type": "code",
   "execution_count": null,
   "metadata": {},
   "outputs": [],
   "source": []
  }
 ],
 "metadata": {
  "kernelspec": {
   "display_name": "Python 3",
   "language": "python",
   "name": "python3"
  },
  "language_info": {
   "codemirror_mode": {
    "name": "ipython",
    "version": 3
   },
   "file_extension": ".py",
   "mimetype": "text/x-python",
   "name": "python",
   "nbconvert_exporter": "python",
   "pygments_lexer": "ipython3",
   "version": "3.7.3"
  }
 },
 "nbformat": 4,
 "nbformat_minor": 2
}
