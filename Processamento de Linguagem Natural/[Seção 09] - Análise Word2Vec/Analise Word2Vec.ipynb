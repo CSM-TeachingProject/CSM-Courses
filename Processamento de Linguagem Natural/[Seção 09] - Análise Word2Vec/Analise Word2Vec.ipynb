{
 "cells": [
  {
   "cell_type": "code",
   "execution_count": 16,
   "metadata": {},
   "outputs": [],
   "source": [
    "import nltk\n",
    "import urllib\n",
    "import bs4 as bs\n",
    "import re\n",
    "from gensim.models import Word2Vec\n",
    "from nltk.corpus import stopwords\n"
   ]
  },
  {
   "cell_type": "code",
   "execution_count": 17,
   "metadata": {},
   "outputs": [],
   "source": [
    "# pega os dados e transforma tudo em uma string\n",
    "source = urllib.request.urlopen('https://en.wikipedia.org/wiki/Global_warming')\n",
    "\n",
    "soup = bs.BeautifulSoup(source, 'lxml')\n",
    "text = \"\"\n",
    "for paragraph in soup.find_all('p'):\n",
    "    text+= paragraph.text\n",
    "    "
   ]
  },
  {
   "cell_type": "code",
   "execution_count": 24,
   "metadata": {},
   "outputs": [],
   "source": [
    "# faz o pré processamento removendo caracteres que podem atrapalhar\n",
    "text = re.sub(r'\\[[0-9]*\\]', ' ', text)\n",
    "text = re.sub(r'\\s+', ' ', text)\n",
    "text = text.lower()\n",
    "text = re.sub(r'[@#\\$%&\\*\\(\\)\\<\\>\\'\\\":;\\]\\[-]',' ', text)\n",
    "text = re.sub(r'\\d', ' ', text)\n",
    "text = re.sub(r'\\s+', ' ', text)\n",
    "\n"
   ]
  },
  {
   "cell_type": "code",
   "execution_count": 25,
   "metadata": {},
   "outputs": [
    {
     "name": "stdout",
     "output_type": "stream",
     "text": [
      "[('cause', 0.3966740071773529), ('atmospheric', 0.38441428542137146), ('causes', 0.36916446685791016), ('energy', 0.35318630933761597), ('public', 0.35127368569374084), ('increase', 0.33147305250167847), ('feedbacks', 0.32824572920799255), ('contemporary', 0.32718780636787415), ('scientific', 0.32547885179519653), ('temperatures', 0.32432469725608826)]\n"
     ]
    },
    {
     "name": "stderr",
     "output_type": "stream",
     "text": [
      "c:\\users\\user\\appdata\\local\\programs\\python\\python37-32\\lib\\site-packages\\gensim\\matutils.py:737: FutureWarning: Conversion of the second argument of issubdtype from `int` to `np.signedinteger` is deprecated. In future, it will be treated as `np.int32 == np.dtype(int).type`.\n",
      "  if np.issubdtype(vec.dtype, np.int):\n"
     ]
    }
   ],
   "source": [
    "sentences = nltk.sent_tokenize(text)\n",
    "\n",
    "sentences = [nltk.word_tokenize(sentence) for sentence in sentences]\n",
    "\n",
    "#faz a remoção de stopwords\n",
    "\n",
    "for i in range(len(sentences)):\n",
    "    sentences[i] = [word for word in sentences[i] if word not in stopwords.words('English')]\n",
    "\n",
    "model = Word2Vec(sentences, min_count=1)\n",
    "\n",
    "words = model.wv.vocab\n",
    "\n",
    "vector = model.wv['global']\n",
    "\n",
    "# busca a palavra mais similar\n",
    "similar = model.wv.most_similar('global')\n",
    "print (similar)\n"
   ]
  },
  {
   "cell_type": "code",
   "execution_count": null,
   "metadata": {},
   "outputs": [],
   "source": []
  }
 ],
 "metadata": {
  "kernelspec": {
   "display_name": "Python 3",
   "language": "python",
   "name": "python3"
  },
  "language_info": {
   "codemirror_mode": {
    "name": "ipython",
    "version": 3
   },
   "file_extension": ".py",
   "mimetype": "text/x-python",
   "name": "python",
   "nbconvert_exporter": "python",
   "pygments_lexer": "ipython3",
   "version": "3.7.0"
  }
 },
 "nbformat": 4,
 "nbformat_minor": 2
}
