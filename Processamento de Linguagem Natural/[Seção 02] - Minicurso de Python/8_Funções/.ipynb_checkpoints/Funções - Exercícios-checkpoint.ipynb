{
 "cells": [
  {
   "cell_type": "code",
   "execution_count": null,
   "metadata": {},
   "outputs": [],
   "source": [
    "# 1. Faça uma função que recebe por parâmetro o raio de uma esfera e calcula o seu volume (v = 4/3 * Pi * R^3) ."
   ]
  },
  {
   "cell_type": "code",
   "execution_count": null,
   "metadata": {},
   "outputs": [],
   "source": [
    "# 2. Escreva um procedimento que recebe as 3 notas de um aluno por parâmetro e uma letra. Se a letra for A o procedimento\n",
    "# calcula a média aritmética das notas do aluno, se for P, a sua média ponderada (pesos: 5, 3 e 2) e se for H, a sua média \n",
    "# harmônica. A média calculada também deve retornar por parâmetro."
   ]
  },
  {
   "cell_type": "code",
   "execution_count": null,
   "metadata": {},
   "outputs": [],
   "source": [
    "# 3. Faça uma função que recebe por parâmetro um valor inteiro e positivo e retorna o valor \n",
    "# lógico Verdadeiro caso o valor seja primo e Falso em caso contrário."
   ]
  },
  {
   "cell_type": "code",
   "execution_count": null,
   "metadata": {},
   "outputs": [],
   "source": [
    "# 4. Faça um procedimento que recebe por parâmetro os valores necessário para o cálculo da fórmula de báskara e retorna, \n",
    "# também por parâmetro, as suas raízes, caso seja possível calcular."
   ]
  },
  {
   "cell_type": "code",
   "execution_count": null,
   "metadata": {},
   "outputs": [],
   "source": [
    "# 5. Faça uma função que recebe por parâmetro o tempo de trabalho diário de uma fábrica \n",
    "# expressa em segundos e retorna também por parâmetro esse tempo em horas, minutos e segundos."
   ]
  },
  {
   "cell_type": "code",
   "execution_count": null,
   "metadata": {},
   "outputs": [],
   "source": [
    "# 6. Faça uma função que recebe a idade de uma pessoa em anos, meses e dias e retorna essa idade expressa em dias."
   ]
  },
  {
   "cell_type": "code",
   "execution_count": null,
   "metadata": {},
   "outputs": [],
   "source": [
    "#7. Faça uma função que verifique se um valor é perfeito ou não. Um valor é dito perfeito quando ele é igual a \n",
    "# soma dos seus divisores excetuando ele próprio. (Ex: 6 é perfeito, 6 = 1 + 2 + 3, que são seus divisores). \n",
    "# A função deve retornar um valor booleano."
   ]
  },
  {
   "cell_type": "code",
   "execution_count": null,
   "metadata": {},
   "outputs": [],
   "source": [
    "#8 Faça um procedimento que recebe a idade de um nadador por parâmetro e retorna , também por parâmetro, a categoria \n",
    "# desse nadador de acordo com a tabela abaixo:  \n",
    "\n",
    "#   Idade                   Categoria\n",
    "# 5 a 7 anos                Infantil A\n",
    "# 8 a 10 anos               Infantil B\n",
    "# 11-13 anos                Juvenil A\n",
    "# 14-17 anos                Juvenil B\n",
    "# Maiores de 18               Adulto\n",
    "# anos (inclusive)"
   ]
  },
  {
   "cell_type": "code",
   "execution_count": null,
   "metadata": {},
   "outputs": [],
   "source": [
    "# 9. Faça uma função que recebe um valor inteiro e verifica se o valor é positivo ou negativo. \n",
    "# A função deve retornar um valor booleano."
   ]
  },
  {
   "cell_type": "code",
   "execution_count": null,
   "metadata": {},
   "outputs": [],
   "source": [
    "# 10. Faça uma função que recebe um valor inteiro e verifica se o valor é par ou ímpar. A função deve retornar um valor booleano."
   ]
  },
  {
   "cell_type": "code",
   "execution_count": null,
   "metadata": {},
   "outputs": [],
   "source": [
    "# 11. Faça uma função que recebe a média final de um aluno por parãmetro e retorna o seu conceito, conforme a tabela abaixo:\n",
    "#     Nota        Conceito\n",
    "# de 0,0 a 4,9        D\n",
    "# de 5,0 a 6,9        C\n",
    "# de 7,0 a 8,9        B\n",
    "# de 9,0 a 10,0       A\n",
    " "
   ]
  },
  {
   "cell_type": "code",
   "execution_count": null,
   "metadata": {},
   "outputs": [],
   "source": [
    "# 12. Faça uma função que recebe, por parâmetro, a altura (alt) e o sexo de uma pessoa e retorna o seu peso ideal. \n",
    "# Para homens, calcular o peso ideal usando a fórmula peso ideal = 72.7 x alt - 58 e, para mulheres, \n",
    "# peso ideal = 62.1 x alt - 44.7.\n"
   ]
  },
  {
   "cell_type": "code",
   "execution_count": null,
   "metadata": {},
   "outputs": [],
   "source": [
    "# 13. Faça um procedimento que recebe 3 valores inteiros por parâmetro e retorna-os ordenados em ordem crescente."
   ]
  },
  {
   "cell_type": "code",
   "execution_count": null,
   "metadata": {},
   "outputs": [],
   "source": [
    "# 14. Faça um procedimento que recebe, por parâmetro, a hora de inicio e a hora de término de um jogo, ambas subdivididas\n",
    "# em 2 valores distintos: horas e minutos. O procedimento deve retornar, também por parâmetro, a duração do jogo em horas\n",
    "# e minutos, considerando que o tempo máximo de duração de um jogo é de 24 horas e que o jogo pode começar em um dia e\n",
    "# terminar no outro."
   ]
  },
  {
   "cell_type": "code",
   "execution_count": null,
   "metadata": {},
   "outputs": [],
   "source": [
    "# 15. Escreva um procedimento que recebes 3 valores reais X, Y e Z e que verifique se esses valores podem ser \n",
    "# os comprimentos dos lados de um triângulo e, neste caso, retornar qual o tipo de triângulo formado. \n",
    "# Para que X, Y e Z formem um triângulo é necessário que a seguinte propriedade seja satisfeita: o \n",
    "# comprimento de cada lado de um triângulo é menor do que a soma do comprimento dos outros dois lados.\n",
    "# O procedimento deve identificar o tipo de triângulo formado observando as seguintes definições:\n",
    "\n",
    "# Triângulo Equilátero: os comprimentos dos 3 lados são iguais.\n",
    "# Triângulo Isósceles: os comprimentos de 2 lados são iguais.\n",
    "# Triângulo Escaleno: os comprimentos dos 3 lados são diferentes."
   ]
  },
  {
   "cell_type": "code",
   "execution_count": null,
   "metadata": {},
   "outputs": [],
   "source": [
    "# 16. Escreva uma função que recebe por parâmetro um valor inteiro e positivo N e retorna o valor de S.\n",
    "# S = 1 + ½ + 1/3 + 1/4 + 1/5 + 1/N."
   ]
  },
  {
   "cell_type": "code",
   "execution_count": null,
   "metadata": {},
   "outputs": [],
   "source": [
    "# 17. Escreva uma função que recebe por parâmetro um valor inteiro e positivo N e retorna o valor de S.\n",
    "# S = 1 + 1/1! + ½! + 1/3! + 1 /N!"
   ]
  },
  {
   "cell_type": "code",
   "execution_count": null,
   "metadata": {},
   "outputs": [],
   "source": [
    "# 18. Escreva uma função que recebe por parâmetro um valor inteiro e positivo N e retorna o valor de S.\n",
    "# S = 2/4 + 5/5 + 10/6 + 17/7 + 26/8 + ... +(n2+1)/(n+3)"
   ]
  }
 ],
 "metadata": {
  "kernelspec": {
   "display_name": "Python 3",
   "language": "python",
   "name": "python3"
  },
  "language_info": {
   "codemirror_mode": {
    "name": "ipython",
    "version": 3
   },
   "file_extension": ".py",
   "mimetype": "text/x-python",
   "name": "python",
   "nbconvert_exporter": "python",
   "pygments_lexer": "ipython3",
   "version": "3.6.5"
  }
 },
 "nbformat": 4,
 "nbformat_minor": 2
}
