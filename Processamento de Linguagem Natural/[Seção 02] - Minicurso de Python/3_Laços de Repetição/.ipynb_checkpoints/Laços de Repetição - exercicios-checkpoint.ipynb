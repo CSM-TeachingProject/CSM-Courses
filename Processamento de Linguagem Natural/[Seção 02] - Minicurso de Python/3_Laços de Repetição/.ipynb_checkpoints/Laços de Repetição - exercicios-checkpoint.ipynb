{
 "cells": [
  {
   "cell_type": "code",
   "execution_count": null,
   "metadata": {},
   "outputs": [],
   "source": [
    "# 1- Faça um programa que verifique e mostre os números entre 1.000 e 2.000 (inclusive) que, quando divididos por 5 \n",
    "# produzam resto igual a 2.\n",
    "\n"
   ]
  },
  {
   "cell_type": "code",
   "execution_count": null,
   "metadata": {},
   "outputs": [],
   "source": [
    "# 2- Faça um programa que leia um valor n, inteiro e positivo, calcule e mostre a seguinte soma: \n",
    "# S = 1 + 1/2 + 1/3 + 1/4 + ... + 1/n\n",
    "\n"
   ]
  },
  {
   "cell_type": "code",
   "execution_count": null,
   "metadata": {},
   "outputs": [],
   "source": [
    "# 9- Faça um programa que receba um número e que calcule e mostre a tabuada desse número.\n",
    "\n"
   ]
  },
  {
   "cell_type": "code",
   "execution_count": null,
   "metadata": {},
   "outputs": [],
   "source": [
    "# 3- Faça um programa que mostre as tabuadas dos números de 1 a 10.\n",
    "\n"
   ]
  },
  {
   "cell_type": "code",
   "execution_count": null,
   "metadata": {},
   "outputs": [],
   "source": [
    "# 4- Uma loja tem tem uma política de descontos de acordo com o valor da compra do cliente. Os descontos começam acima dos R$500\n",
    "# A cada 100 reais acima dos R$500,00 o cliente ganha 1% de desconto cumulativo até 25%. \n",
    "# Por exemplo: R$500 = 1% || R$600,00 = 2% ... etc...\n",
    "\n",
    "# Faça um programa que exiba essa tabela de descontos no seguinte formato:  \n",
    "# Valordacompra - porcentagem de desconto - valor final\n",
    "\n"
   ]
  },
  {
   "cell_type": "code",
   "execution_count": null,
   "metadata": {},
   "outputs": [],
   "source": [
    "# 5- Uma companhia de teatro deseja dar uma série de espetáculos. \n",
    "# Fatos:\n",
    "# 1) A direção calcula que praticando o preço de R$5,00 serão vendidos 120 ingressos\n",
    "# 2) As despesas são fixas em R$ 200,00. \n",
    "# 3) Ao diminuir R$ 0,50 o preço dos ingressos espera-se que as vendas aumentem em 26 ingressos.\n",
    "\n",
    "# Faça um programa que escreva uma tabela de valores de lucros esperados em função do preço do ingresso, fazendo-se variar \n",
    "# esse preço de R$ 5,00 até R$ 1,00 de R$ 0,50 em R$ 0,50. \n",
    "\n",
    "# A tabela deve mostrar:  o lucro máximo esperado || o preço do ingresso || quantidade de ingressos vendidos || \n",
    "\n"
   ]
  },
  {
   "cell_type": "code",
   "execution_count": null,
   "metadata": {},
   "outputs": [],
   "source": [
    "# 7- Faça um programa que receba a idade de dez pessoas e que calcule e mostre a quantidade de pessoas com idade maior ou \n",
    "# igual a 18 anos.\n",
    "\n"
   ]
  },
  {
   "cell_type": "code",
   "execution_count": null,
   "metadata": {},
   "outputs": [],
   "source": [
    "# 8-    Faça um programa que receba a idade de 15 pessoas e que calcule e mostre:\n",
    "#    A quantidade de pessoas em cada faixa etária;\n",
    "#    A percentagem de pessoas na primeira e na última faixa etária, com relação ao total de pessoas.\n",
    "\n",
    "#       faixa1 =   Até 15 anos\n",
    "#       faixa2 =   De 16 a 30 anos\n",
    "#       faixa3 =   De 31 a 45 anos\n",
    "#       faixa4 =  De 46 a 60 anos\n",
    "#       faixa5 =  Acima de 61 anos\n",
    "\n"
   ]
  },
  {
   "cell_type": "code",
   "execution_count": null,
   "metadata": {},
   "outputs": [],
   "source": [
    "# 11-  Uma loja utiliza o código V para transação à vista e P para transação a prazo. Faça um programa que receba código e \n",
    "# valor de 5 transações. Calcule e mostre:\n",
    "\n",
    "# a.    O valor total das compras à vista\n",
    "# b.    O valor total das compras a prazo sabendo que essas compras possuem 10% de juros sobre o valor total\n",
    "# c.    O valor total das compras efetuadas\n",
    "\n"
   ]
  },
  {
   "cell_type": "code",
   "execution_count": null,
   "metadata": {},
   "outputs": [],
   "source": [
    "# 15- Faça um programa que receba 3 números e que calcule e mostre a quantidade de números entre 30 e 90.\n",
    "\n"
   ]
  },
  {
   "cell_type": "code",
   "execution_count": null,
   "metadata": {},
   "outputs": [],
   "source": [
    "# 18-  Considerando a sequencia de fibonnaci sendo: 0,1,1,2,3,5,8,13,... Sendo o proximo termo sempre a soma dos dois anteriores\n",
    "# faça um programa que o usuário digite um numero \"n\" e o programa exiba n termos dessa sequencia.\n",
    "\n"
   ]
  }
 ],
 "metadata": {
  "kernelspec": {
   "display_name": "Python 3",
   "language": "python",
   "name": "python3"
  },
  "language_info": {
   "codemirror_mode": {
    "name": "ipython",
    "version": 3
   },
   "file_extension": ".py",
   "mimetype": "text/x-python",
   "name": "python",
   "nbconvert_exporter": "python",
   "pygments_lexer": "ipython3",
   "version": "3.6.5"
  }
 },
 "nbformat": 4,
 "nbformat_minor": 2
}
