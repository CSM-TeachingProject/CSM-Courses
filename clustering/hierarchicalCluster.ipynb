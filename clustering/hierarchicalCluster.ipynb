{
  "nbformat": 4,
  "nbformat_minor": 0,
  "metadata": {
    "kernelspec": {
      "display_name": "Python 3",
      "language": "python",
      "name": "python3"
    },
    "language_info": {
      "codemirror_mode": {
        "name": "ipython",
        "version": 3
      },
      "file_extension": ".py",
      "mimetype": "text/x-python",
      "name": "python",
      "nbconvert_exporter": "python",
      "pygments_lexer": "ipython3",
      "version": "3.6.5"
    },
    "varInspector": {
      "cols": {
        "lenName": 16,
        "lenType": 16,
        "lenVar": 40
      },
      "kernels_config": {
        "python": {
          "delete_cmd_postfix": "",
          "delete_cmd_prefix": "del ",
          "library": "var_list.py",
          "varRefreshCmd": "print(var_dic_list())"
        },
        "r": {
          "delete_cmd_postfix": ") ",
          "delete_cmd_prefix": "rm(",
          "library": "var_list.r",
          "varRefreshCmd": "cat(var_dic_list()) "
        }
      },
      "types_to_exclude": [
        "module",
        "function",
        "builtin_function_or_method",
        "instance",
        "_Feature"
      ],
      "window_display": false
    },
    "colab": {
      "name": "hierarchicalCluster.ipynb",
      "provenance": [],
      "include_colab_link": true
    }
  },
  "cells": [
    {
      "cell_type": "markdown",
      "metadata": {
        "id": "view-in-github",
        "colab_type": "text"
      },
      "source": [
        "<a href=\"https://colab.research.google.com/github/luizleroy/treinamentos/blob/develop/clustering/hierarchicalCluster.ipynb\" target=\"_parent\"><img src=\"https://colab.research.google.com/assets/colab-badge.svg\" alt=\"Open In Colab\"/></a>"
      ]
    },
    {
      "cell_type": "code",
      "metadata": {
        "id": "OUCZaPepSkSZ",
        "colab": {
          "base_uri": "https://localhost:8080/"
        },
        "outputId": "87d2c13b-69eb-4d9c-b070-a41742ad6724"
      },
      "source": [
        "import numpy as np\n",
        "\n",
        "# base = np.array([[20,1000],[27,1200],[21,2900],[37,1850],[46,900],\n",
        "#                  [53,950],[55,2000],[47,2100],[52,3000],[32,5900],\n",
        "#                  [39,4100],[41,5100],[39,7000],[48,5000],[48,6500]])\n",
        "\n",
        "base = np.array([[20,1000],[21,2900],[27,1200]\n",
        "                ,[32,5900],[37,1850],[39,4100],[39,7000]\n",
        "                ,[41,5100],[46,900],[47,2100],[48,5000],[48,6500]\n",
        "                ,[52,3000],[53,950],[55,2000]\n",
        "                 ])\n",
        "\n",
        "# base = np.array([[20,1000],[21,2900],[27,2200]\n",
        "#                 ,[32,5900],[37,11050],[39,4100],[39,7000]\n",
        "#                 ,[41,5100],[46,9000],[48,16500]\n",
        "#                 ,[52,15000],[53,1950],[55,20000]\n",
        "#                 ,[71,100000], [73, 40000], [79,15000]\n",
        "#                  ])\n",
        "\n",
        "print('\\tidade','$')\n",
        "base"
      ],
      "execution_count": 1,
      "outputs": [
        {
          "output_type": "stream",
          "text": [
            "\tidade $\n"
          ],
          "name": "stdout"
        },
        {
          "output_type": "execute_result",
          "data": {
            "text/plain": [
              "array([[  20, 1000],\n",
              "       [  21, 2900],\n",
              "       [  27, 1200],\n",
              "       [  32, 5900],\n",
              "       [  37, 1850],\n",
              "       [  39, 4100],\n",
              "       [  39, 7000],\n",
              "       [  41, 5100],\n",
              "       [  46,  900],\n",
              "       [  47, 2100],\n",
              "       [  48, 5000],\n",
              "       [  48, 6500],\n",
              "       [  52, 3000],\n",
              "       [  53,  950],\n",
              "       [  55, 2000]])"
            ]
          },
          "metadata": {
            "tags": []
          },
          "execution_count": 1
        }
      ]
    },
    {
      "cell_type": "markdown",
      "metadata": {
        "id": "w3bdO1zZ2zpd"
      },
      "source": [
        "Base para realizar uma análise de espalhamento simples:"
      ]
    },
    {
      "cell_type": "code",
      "metadata": {
        "id": "cFSa9MZ-3B2a"
      },
      "source": [
        "import matplotlib.pyplot as plt\n",
        "from sklearn.cluster import AgglomerativeClustering"
      ],
      "execution_count": 2,
      "outputs": []
    },
    {
      "cell_type": "code",
      "metadata": {
        "colab": {
          "base_uri": "https://localhost:8080/",
          "height": 297
        },
        "id": "x4LYH19T20A8",
        "outputId": "5d8cfbdd-7970-423e-8ccb-d6add95db9c3"
      },
      "source": [
        "hc = AgglomerativeClustering(linkage = 'ward')\n",
        "previsoes = hc.fit_predict(base)\n",
        "previsoes\n",
        "\n",
        "plt.scatter(base[previsoes == 0, 0], base[previsoes == 0, 1], s = 50, c = 'black', label = 'Cluster M')\n",
        "plt.scatter(base[previsoes == 1, 0], base[previsoes == 1, 1], s = 50, c = 'orange', label = 'Cluster N')\n",
        "plt.xlabel('Idade')\n",
        "plt.ylabel('Salário')\n",
        "plt.legend()\n"
      ],
      "execution_count": 3,
      "outputs": [
        {
          "output_type": "execute_result",
          "data": {
            "text/plain": [
              "<matplotlib.legend.Legend at 0x7f9aedefdc10>"
            ]
          },
          "metadata": {
            "tags": []
          },
          "execution_count": 3
        },
        {
          "output_type": "display_data",
          "data": {
            "image/png": "[encoded data removed]",
            "text/plain": [
              "<Figure size 432x288 with 1 Axes>"
            ]
          },
          "metadata": {
            "tags": [],
            "needs_background": "light"
          }
        }
      ]
    },
    {
      "cell_type": "code",
      "metadata": {
        "id": "jRVJxRKf3J0T"
      },
      "source": [
        "from sklearn.preprocessing import StandardScaler"
      ],
      "execution_count": 4,
      "outputs": []
    },
    {
      "cell_type": "code",
      "metadata": {
        "id": "3I-1vUNvVOQ7",
        "colab": {
          "base_uri": "https://localhost:8080/"
        },
        "outputId": "84742719-fc69-4fea-beeb-3b98a519b231"
      },
      "source": [
        "scaler = StandardScaler()\n",
        "transform = scaler.fit_transform(base)\n",
        "print('Transformando estatisticamente os dados...')\n",
        "transform"
      ],
      "execution_count": 5,
      "outputs": [
        {
          "output_type": "stream",
          "text": [
            "Transformando estatisticamente os dados...\n"
          ],
          "name": "stdout"
        },
        {
          "output_type": "execute_result",
          "data": {
            "text/plain": [
              "array([[-1.87963884, -1.11413572],\n",
              "       [-1.78719758, -0.19376273],\n",
              "       [-1.23255006, -1.01725435],\n",
              "       [-0.77034379,  1.25945777],\n",
              "       [-0.30813751, -0.70238991],\n",
              "       [-0.12325501,  0.38752547],\n",
              "       [-0.12325501,  1.79230528],\n",
              "       [ 0.0616275 ,  0.8719323 ],\n",
              "       [ 0.52383377, -1.1625764 ],\n",
              "       [ 0.61627503, -0.5812882 ],\n",
              "       [ 0.70871628,  0.82349162],\n",
              "       [ 0.70871628,  1.55010187],\n",
              "       [ 1.0784813 , -0.14532205],\n",
              "       [ 1.17092255, -1.13835606],\n",
              "       [ 1.35580506, -0.62972888]])"
            ]
          },
          "metadata": {
            "tags": []
          },
          "execution_count": 5
        }
      ]
    },
    {
      "cell_type": "code",
      "metadata": {
        "id": "T8yo1zjnYZxY"
      },
      "source": [
        "from scipy.cluster.hierarchy import dendrogram, linkage"
      ],
      "execution_count": 6,
      "outputs": []
    },
    {
      "cell_type": "code",
      "metadata": {
        "id": "cLdK-bS93PqQ"
      },
      "source": [
        "link = linkage(transform, method = 'ward')\n",
        "#link"
      ],
      "execution_count": 7,
      "outputs": []
    },
    {
      "cell_type": "code",
      "metadata": {
        "id": "HwN0PVZHSkSa",
        "colab": {
          "base_uri": "https://localhost:8080/",
          "height": 316
        },
        "outputId": "76399b78-f689-4cc0-9e97-f797d65e670e"
      },
      "source": [
        "dendrograma = dendrogram(link)\n",
        "plt.title('Dendrograma')\n",
        "plt.xlabel('Pessoas')\n",
        "plt.ylabel('Distância Euclidiana ''Transformada''')"
      ],
      "execution_count": 8,
      "outputs": [
        {
          "output_type": "execute_result",
          "data": {
            "text/plain": [
              "Text(0, 0.5, 'Distância Euclidiana Transformada')"
            ]
          },
          "metadata": {
            "tags": []
          },
          "execution_count": 8
        },
        {
          "output_type": "display_data",
          "data": {
            "image/png": "[encoded data removed]",
            "text/plain": [
              "<Figure size 432x288 with 1 Axes>"
            ]
          },
          "metadata": {
            "tags": [],
            "needs_background": "light"
          }
        }
      ]
    },
    {
      "cell_type": "markdown",
      "metadata": {
        "id": "hDXLdIS9PzQF"
      },
      "source": [
        "\n",
        "\n",
        "---\n",
        "\n"
      ]
    },
    {
      "cell_type": "code",
      "metadata": {
        "colab": {
          "base_uri": "https://localhost:8080/"
        },
        "id": "Hj4X0pGu3q9_",
        "outputId": "1e46d801-263a-43f2-9459-9bb4f0f01b70"
      },
      "source": [
        "# hc = AgglomerativeClustering(n_clusters = 3, linkage = 'ward')\n",
        "hc = AgglomerativeClustering(n_clusters = 2, linkage = 'ward')\n",
        "previsoes = hc.fit_predict(transform)\n",
        "previsoes"
      ],
      "execution_count": 9,
      "outputs": [
        {
          "output_type": "execute_result",
          "data": {
            "text/plain": [
              "array([0, 0, 0, 1, 0, 1, 1, 1, 0, 0, 1, 1, 0, 0, 0])"
            ]
          },
          "metadata": {
            "tags": []
          },
          "execution_count": 9
        }
      ]
    },
    {
      "cell_type": "code",
      "metadata": {
        "id": "aOAy6cEFXa17",
        "colab": {
          "base_uri": "https://localhost:8080/",
          "height": 297
        },
        "outputId": "18ea3ccd-3c4e-4318-989e-fade8277dded"
      },
      "source": [
        "# plt.scatter(base[previsoes == 0, 0], base[previsoes == 0, 1], s = 50, c = 'green', label = 'Cluster 1')\n",
        "# plt.scatter(base[previsoes == 1, 0], base[previsoes == 1, 1], s = 50, c = 'blue', label = 'Cluster 2')\n",
        "# plt.scatter(base[previsoes == 2, 0], base[previsoes == 2, 1], s = 50, c = 'red', label = 'Cluster 3')\n",
        "plt.scatter(base[previsoes == 0, 0], base[previsoes == 0, 1], s = 50, c = 'red', label = 'Cluster 1')\n",
        "plt.scatter(base[previsoes == 1, 0], base[previsoes == 1, 1], s = 50, c = 'green', label = 'Cluster 2')\n",
        "plt.xlabel('Idade')\n",
        "plt.ylabel('Salário')\n",
        "plt.legend()  "
      ],
      "execution_count": 10,
      "outputs": [
        {
          "output_type": "execute_result",
          "data": {
            "text/plain": [
              "<matplotlib.legend.Legend at 0x7f9ae599fdd0>"
            ]
          },
          "metadata": {
            "tags": []
          },
          "execution_count": 10
        },
        {
          "output_type": "display_data",
          "data": {
            "image/png": "[encoded data removed]",
            "text/plain": [
              "<Figure size 432x288 with 1 Axes>"
            ]
          },
          "metadata": {
            "tags": [],
            "needs_background": "light"
          }
        }
      ]
    }
  ]
}