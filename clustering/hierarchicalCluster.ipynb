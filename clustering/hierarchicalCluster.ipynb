{
  "nbformat": 4,
  "nbformat_minor": 0,
  "metadata": {
    "kernelspec": {
      "display_name": "Python 3",
      "language": "python",
      "name": "python3"
    },
    "language_info": {
      "codemirror_mode": {
        "name": "ipython",
        "version": 3
      },
      "file_extension": ".py",
      "mimetype": "text/x-python",
      "name": "python",
      "nbconvert_exporter": "python",
      "pygments_lexer": "ipython3",
      "version": "3.6.5"
    },
    "varInspector": {
      "cols": {
        "lenName": 16,
        "lenType": 16,
        "lenVar": 40
      },
      "kernels_config": {
        "python": {
          "delete_cmd_postfix": "",
          "delete_cmd_prefix": "del ",
          "library": "var_list.py",
          "varRefreshCmd": "print(var_dic_list())"
        },
        "r": {
          "delete_cmd_postfix": ") ",
          "delete_cmd_prefix": "rm(",
          "library": "var_list.r",
          "varRefreshCmd": "cat(var_dic_list()) "
        }
      },
      "types_to_exclude": [
        "module",
        "function",
        "builtin_function_or_method",
        "instance",
        "_Feature"
      ],
      "window_display": false
    },
    "colab": {
      "name": "hierarchicalCluster.ipynb",
      "provenance": [],
      "include_colab_link": true
    }
  },
  "cells": [
    {
      "cell_type": "markdown",
      "metadata": {
        "id": "view-in-github",
        "colab_type": "text"
      },
      "source": [
        "<a href=\"https://colab.research.google.com/github/luizleroy/treinamentos/blob/develop/clustering/hierarchicalCluster.ipynb\" target=\"_parent\"><img src=\"https://colab.research.google.com/assets/colab-badge.svg\" alt=\"Open In Colab\"/></a>"
      ]
    },
    {
      "cell_type": "markdown",
      "metadata": {
        "id": "nJCdAaxktpXy"
      },
      "source": [
        "# Introdução a Clusterização"
      ]
    },
    {
      "cell_type": "markdown",
      "metadata": {
        "id": "Bm9rGxxkuRgm"
      },
      "source": [
        "**A principal ferramenta visual, que utilizaremos para validar a nossa Clusterização das causas de interrupções na rede de distribuição, será o Dendrograma**"
      ]
    },
    {
      "cell_type": "markdown",
      "metadata": {
        "id": "pU3L8iS-t_ck"
      },
      "source": [
        "## Dendrograma\n",
        "Fonte [texto do Minitab](https://support.minitab.com/pt-br/minitab/18/help-and-how-to/modeling-statistics/multivariate/how-to/cluster-observations/interpret-the-results/all-statistics-and-graphs/dendrogram/#:~:text=O%20dendrograma%20%C3%A9%20um%20diagrama,em%20seus%20n%C3%ADveis%20de%20similaridade.)\n",
        "\n",
        "O dendrograma é um diagrama de árvore que exibe os grupos formados por agrupamento de observações em cada passo e em seus níveis de similaridade. O nível de similaridade é medido ao longo do eixo vertical (alternativamente, você pode exibir o nível de distância) e as diferentes observações são listadas ao longo do eixo horizontal.\n",
        "\n",
        "Interpretação\n",
        "Use o dendrograma para visualizar como os agrupamentos são formados em cada passo e para avaliar os níveis de similaridade (ou distância) dos agrupamentos que são formados.\n",
        "\n",
        "Para exibir os níveis de similaridade (ou distância), mantenha seu ponteiro sobre uma linha horizontal no dendrograma. O padrão de como a similaridade ou os valores de distância mudam de um passo para outro pode ajudar a escolher o agrupamento final dos seus dados. O passo onde os valores mudam abruptamente podem identificar um bom ponto para definir o agrupamento final.\n",
        "\n",
        "A decisão sobre o agrupamento final também é chamada corte do dendrograma. O corte do dendrograma é similar ao desenho de uma linha por todo o dendrograma para especificar o agrupamento final. Você também pode comparar os dendrogramas a agrupamentos finais diferentes para determinar qual agrupamento final faz mais sentido para os dados."
      ]
    },
    {
      "cell_type": "code",
      "metadata": {
        "id": "4stsqH9hWXbm"
      },
      "source": [
        "import pandas as pd\n",
        "import numpy as np"
      ],
      "execution_count": 67,
      "outputs": []
    },
    {
      "cell_type": "code",
      "metadata": {
        "id": "1dTc5t8ZWcNL"
      },
      "source": [
        "from google.colab import files\n",
        "import subprocess"
      ],
      "execution_count": 68,
      "outputs": []
    },
    {
      "cell_type": "markdown",
      "metadata": {
        "id": "G0UC2MTIfrEZ"
      },
      "source": [
        "# Input e análise inicial"
      ]
    },
    {
      "cell_type": "markdown",
      "metadata": {
        "id": "CIjcXf3CL0AT"
      },
      "source": [
        "**Notebook** destinado a ilustrar a base do processo de clusterização e sua exibição via, como exemplo, um Dendrograma. "
      ]
    },
    {
      "cell_type": "code",
      "metadata": {
        "id": "rrzkJ__sUfmy"
      },
      "source": [
        "# file = 'base.csv'\n",
        "# file = 'volume.csv'\n",
        "file = 'estadosBR.csv'\n",
        "proc=subprocess.Popen('ls ' + file, shell=True, stdout=subprocess.PIPE, )\n",
        "output=proc.communicate()[0]"
      ],
      "execution_count": 69,
      "outputs": []
    },
    {
      "cell_type": "markdown",
      "metadata": {
        "id": "8IAFh1GjNMEf"
      },
      "source": [
        "**Realizar upload de arquivo no formato CSV e com nome *base.csv*.**"
      ]
    },
    {
      "cell_type": "code",
      "metadata": {
        "id": "XG0cMPS-NDZ_"
      },
      "source": [
        "if not output:\n",
        "  uploaded = files.upload()\n",
        "  for fn in uploaded.keys():\n",
        "    print('User uploaded file \"{name}\" with length {length} bytes'.format(\n",
        "        name=fn, length=len(uploaded[fn])))"
      ],
      "execution_count": 70,
      "outputs": []
    },
    {
      "cell_type": "code",
      "metadata": {
        "id": "VA6YNFE-NGoi",
        "colab": {
          "base_uri": "https://localhost:8080/",
          "height": 888
        },
        "outputId": "52916fb5-15e3-4b2f-e3f9-1778150315d9"
      },
      "source": [
        "df = pd.read_csv(file, encoding='latin-1', sep=',')\n",
        "df = df.set_index('label')\n",
        "df"
      ],
      "execution_count": 71,
      "outputs": [
        {
          "output_type": "execute_result",
          "data": {
            "text/html": [
              "<div>\n",
              "<style scoped>\n",
              "    .dataframe tbody tr th:only-of-type {\n",
              "        vertical-align: middle;\n",
              "    }\n",
              "\n",
              "    .dataframe tbody tr th {\n",
              "        vertical-align: top;\n",
              "    }\n",
              "\n",
              "    .dataframe thead th {\n",
              "        text-align: right;\n",
              "    }\n",
              "</style>\n",
              "<table border=\"1\" class=\"dataframe\">\n",
              "  <thead>\n",
              "    <tr style=\"text-align: right;\">\n",
              "      <th></th>\n",
              "      <th>x</th>\n",
              "      <th>y</th>\n",
              "    </tr>\n",
              "    <tr>\n",
              "      <th>label</th>\n",
              "      <th></th>\n",
              "      <th></th>\n",
              "    </tr>\n",
              "  </thead>\n",
              "  <tbody>\n",
              "    <tr>\n",
              "      <th>AC</th>\n",
              "      <td>-8.77</td>\n",
              "      <td>-70.55</td>\n",
              "    </tr>\n",
              "    <tr>\n",
              "      <th>AL</th>\n",
              "      <td>-9.71</td>\n",
              "      <td>-35.73</td>\n",
              "    </tr>\n",
              "    <tr>\n",
              "      <th>AM</th>\n",
              "      <td>-3.07</td>\n",
              "      <td>-61.66</td>\n",
              "    </tr>\n",
              "    <tr>\n",
              "      <th>AP</th>\n",
              "      <td>1.41</td>\n",
              "      <td>-51.77</td>\n",
              "    </tr>\n",
              "    <tr>\n",
              "      <th>BA</th>\n",
              "      <td>-12.96</td>\n",
              "      <td>-38.51</td>\n",
              "    </tr>\n",
              "    <tr>\n",
              "      <th>CE</th>\n",
              "      <td>-3.71</td>\n",
              "      <td>-38.54</td>\n",
              "    </tr>\n",
              "    <tr>\n",
              "      <th>DF</th>\n",
              "      <td>-15.83</td>\n",
              "      <td>-47.86</td>\n",
              "    </tr>\n",
              "    <tr>\n",
              "      <th>ES</th>\n",
              "      <td>-19.19</td>\n",
              "      <td>-40.34</td>\n",
              "    </tr>\n",
              "    <tr>\n",
              "      <th>GO</th>\n",
              "      <td>-16.64</td>\n",
              "      <td>-49.31</td>\n",
              "    </tr>\n",
              "    <tr>\n",
              "      <th>MA</th>\n",
              "      <td>-2.55</td>\n",
              "      <td>-44.30</td>\n",
              "    </tr>\n",
              "    <tr>\n",
              "      <th>MT</th>\n",
              "      <td>-12.64</td>\n",
              "      <td>-55.42</td>\n",
              "    </tr>\n",
              "    <tr>\n",
              "      <th>MS</th>\n",
              "      <td>-20.51</td>\n",
              "      <td>-54.54</td>\n",
              "    </tr>\n",
              "    <tr>\n",
              "      <th>MG</th>\n",
              "      <td>-18.10</td>\n",
              "      <td>-44.38</td>\n",
              "    </tr>\n",
              "    <tr>\n",
              "      <th>PA</th>\n",
              "      <td>-5.53</td>\n",
              "      <td>-52.29</td>\n",
              "    </tr>\n",
              "    <tr>\n",
              "      <th>PB</th>\n",
              "      <td>-7.06</td>\n",
              "      <td>-35.55</td>\n",
              "    </tr>\n",
              "    <tr>\n",
              "      <th>PR</th>\n",
              "      <td>-24.89</td>\n",
              "      <td>-51.55</td>\n",
              "    </tr>\n",
              "    <tr>\n",
              "      <th>PE</th>\n",
              "      <td>-8.28</td>\n",
              "      <td>-35.07</td>\n",
              "    </tr>\n",
              "    <tr>\n",
              "      <th>PI</th>\n",
              "      <td>-8.28</td>\n",
              "      <td>-43.68</td>\n",
              "    </tr>\n",
              "    <tr>\n",
              "      <th>RJ</th>\n",
              "      <td>-22.84</td>\n",
              "      <td>-43.15</td>\n",
              "    </tr>\n",
              "    <tr>\n",
              "      <th>RN</th>\n",
              "      <td>-5.22</td>\n",
              "      <td>-36.52</td>\n",
              "    </tr>\n",
              "    <tr>\n",
              "      <th>RO</th>\n",
              "      <td>-11.22</td>\n",
              "      <td>-62.80</td>\n",
              "    </tr>\n",
              "    <tr>\n",
              "      <th>RS</th>\n",
              "      <td>-30.01</td>\n",
              "      <td>-51.22</td>\n",
              "    </tr>\n",
              "    <tr>\n",
              "      <th>RR</th>\n",
              "      <td>1.89</td>\n",
              "      <td>-61.22</td>\n",
              "    </tr>\n",
              "    <tr>\n",
              "      <th>SC</th>\n",
              "      <td>-27.33</td>\n",
              "      <td>-49.44</td>\n",
              "    </tr>\n",
              "    <tr>\n",
              "      <th>SE</th>\n",
              "      <td>-10.90</td>\n",
              "      <td>-37.07</td>\n",
              "    </tr>\n",
              "    <tr>\n",
              "      <th>SP</th>\n",
              "      <td>-23.55</td>\n",
              "      <td>-46.64</td>\n",
              "    </tr>\n",
              "    <tr>\n",
              "      <th>TO</th>\n",
              "      <td>-10.25</td>\n",
              "      <td>-48.25</td>\n",
              "    </tr>\n",
              "  </tbody>\n",
              "</table>\n",
              "</div>"
            ],
            "text/plain": [
              "           x      y\n",
              "label              \n",
              "AC     -8.77 -70.55\n",
              "AL     -9.71 -35.73\n",
              "AM     -3.07 -61.66\n",
              "AP      1.41 -51.77\n",
              "BA    -12.96 -38.51\n",
              "CE     -3.71 -38.54\n",
              "DF    -15.83 -47.86\n",
              "ES    -19.19 -40.34\n",
              "GO    -16.64 -49.31\n",
              "MA     -2.55 -44.30\n",
              "MT    -12.64 -55.42\n",
              "MS    -20.51 -54.54\n",
              "MG    -18.10 -44.38\n",
              "PA     -5.53 -52.29\n",
              "PB     -7.06 -35.55\n",
              "PR    -24.89 -51.55\n",
              "PE     -8.28 -35.07\n",
              "PI     -8.28 -43.68\n",
              "RJ    -22.84 -43.15\n",
              "RN     -5.22 -36.52\n",
              "RO    -11.22 -62.80\n",
              "RS    -30.01 -51.22\n",
              "RR      1.89 -61.22\n",
              "SC    -27.33 -49.44\n",
              "SE    -10.90 -37.07\n",
              "SP    -23.55 -46.64\n",
              "TO    -10.25 -48.25"
            ]
          },
          "metadata": {
            "tags": []
          },
          "execution_count": 0
        }
      ]
    },
    {
      "cell_type": "code",
      "metadata": {
        "id": "jgFTpdgKYZdn",
        "colab": {
          "base_uri": "https://localhost:8080/",
          "height": 288
        },
        "outputId": "f18cd923-c90a-4d52-9198-cdfe0639743a"
      },
      "source": [
        "df.describe()"
      ],
      "execution_count": 72,
      "outputs": [
        {
          "output_type": "execute_result",
          "data": {
            "text/html": [
              "<div>\n",
              "<style scoped>\n",
              "    .dataframe tbody tr th:only-of-type {\n",
              "        vertical-align: middle;\n",
              "    }\n",
              "\n",
              "    .dataframe tbody tr th {\n",
              "        vertical-align: top;\n",
              "    }\n",
              "\n",
              "    .dataframe thead th {\n",
              "        text-align: right;\n",
              "    }\n",
              "</style>\n",
              "<table border=\"1\" class=\"dataframe\">\n",
              "  <thead>\n",
              "    <tr style=\"text-align: right;\">\n",
              "      <th></th>\n",
              "      <th>x</th>\n",
              "      <th>y</th>\n",
              "    </tr>\n",
              "  </thead>\n",
              "  <tbody>\n",
              "    <tr>\n",
              "      <th>count</th>\n",
              "      <td>27.000000</td>\n",
              "      <td>27.000000</td>\n",
              "    </tr>\n",
              "    <tr>\n",
              "      <th>mean</th>\n",
              "      <td>-12.434815</td>\n",
              "      <td>-47.680000</td>\n",
              "    </tr>\n",
              "    <tr>\n",
              "      <th>std</th>\n",
              "      <td>8.640646</td>\n",
              "      <td>9.357188</td>\n",
              "    </tr>\n",
              "    <tr>\n",
              "      <th>min</th>\n",
              "      <td>-30.010000</td>\n",
              "      <td>-70.550000</td>\n",
              "    </tr>\n",
              "    <tr>\n",
              "      <th>25%</th>\n",
              "      <td>-18.645000</td>\n",
              "      <td>-52.030000</td>\n",
              "    </tr>\n",
              "    <tr>\n",
              "      <th>50%</th>\n",
              "      <td>-10.900000</td>\n",
              "      <td>-47.860000</td>\n",
              "    </tr>\n",
              "    <tr>\n",
              "      <th>75%</th>\n",
              "      <td>-6.295000</td>\n",
              "      <td>-39.440000</td>\n",
              "    </tr>\n",
              "    <tr>\n",
              "      <th>max</th>\n",
              "      <td>1.890000</td>\n",
              "      <td>-35.070000</td>\n",
              "    </tr>\n",
              "  </tbody>\n",
              "</table>\n",
              "</div>"
            ],
            "text/plain": [
              "               x          y\n",
              "count  27.000000  27.000000\n",
              "mean  -12.434815 -47.680000\n",
              "std     8.640646   9.357188\n",
              "min   -30.010000 -70.550000\n",
              "25%   -18.645000 -52.030000\n",
              "50%   -10.900000 -47.860000\n",
              "75%    -6.295000 -39.440000\n",
              "max     1.890000 -35.070000"
            ]
          },
          "metadata": {
            "tags": []
          },
          "execution_count": 0
        }
      ]
    },
    {
      "cell_type": "code",
      "metadata": {
        "id": "EQ_vNtztUf1i"
      },
      "source": [
        "base = df.values"
      ],
      "execution_count": 73,
      "outputs": []
    },
    {
      "cell_type": "markdown",
      "metadata": {
        "id": "w3bdO1zZ2zpd"
      },
      "source": [
        "Base para realizar uma análise de espalhamento simples:"
      ]
    },
    {
      "cell_type": "code",
      "metadata": {
        "id": "cFSa9MZ-3B2a"
      },
      "source": [
        "import matplotlib.pyplot as plt\n",
        "from sklearn.cluster import AgglomerativeClustering"
      ],
      "execution_count": 74,
      "outputs": []
    },
    {
      "cell_type": "code",
      "metadata": {
        "colab": {
          "base_uri": "https://localhost:8080/"
        },
        "id": "x4LYH19T20A8",
        "outputId": "c364dc29-bad0-4405-8569-8b0b2fee7f6b"
      },
      "source": [
        "hc = AgglomerativeClustering(linkage = 'ward')\n",
        "previsoes = hc.fit_predict(base)\n",
        "previsoes\n"
      ],
      "execution_count": 75,
      "outputs": [
        {
          "output_type": "execute_result",
          "data": {
            "text/plain": [
              "array([1, 0, 1, 0, 0, 0, 0, 0, 0, 0, 1, 0, 0, 0, 0, 0, 0, 0, 0, 0, 1, 0,\n",
              "       1, 0, 0, 0, 0])"
            ]
          },
          "metadata": {
            "tags": []
          },
          "execution_count": 0
        }
      ]
    },
    {
      "cell_type": "code",
      "metadata": {
        "id": "4D3zdOS7bC_I",
        "colab": {
          "base_uri": "https://localhost:8080/",
          "height": 297
        },
        "outputId": "c095b901-a980-46a6-85f3-57537c69005d"
      },
      "source": [
        "plt.scatter(base[previsoes == 0, 0], base[previsoes == 0, 1], s = 50, c = 'black', label = 'Cluster M')\n",
        "plt.scatter(base[previsoes == 1, 0], base[previsoes == 1, 1], s = 50, c = 'orange', label = 'Cluster N')\n",
        "plt.xlabel(df.columns[0])\n",
        "plt.ylabel(df.columns[1])\n",
        "plt.legend()"
      ],
      "execution_count": 76,
      "outputs": [
        {
          "output_type": "execute_result",
          "data": {
            "text/plain": [
              "<matplotlib.legend.Legend at 0x7f88b20efe50>"
            ]
          },
          "metadata": {
            "tags": []
          },
          "execution_count": 0
        },
        {
          "output_type": "display_data",
          "data": {
            "image/png": "[encoded data removed]",
            "text/plain": [
              "<Figure size 432x288 with 1 Axes>"
            ]
          },
          "metadata": {
            "tags": []
          }
        }
      ]
    },
    {
      "cell_type": "markdown",
      "metadata": {
        "id": "_FS4r-XQtyAs"
      },
      "source": [
        "# Transformação do tipo *StandardScaler*"
      ]
    },
    {
      "cell_type": "markdown",
      "metadata": {
        "id": "uDyHYp4fiQ1_"
      },
      "source": [
        "Transformando estatisticamente os dados..."
      ]
    },
    {
      "cell_type": "code",
      "metadata": {
        "id": "P365woYukqU-"
      },
      "source": [
        "from sklearn.preprocessing import StandardScaler"
      ],
      "execution_count": 77,
      "outputs": []
    },
    {
      "cell_type": "code",
      "metadata": {
        "id": "3I-1vUNvVOQ7",
        "colab": {
          "base_uri": "https://localhost:8080/"
        },
        "outputId": "7b386524-8d33-44b7-f6be-3a64e9b03f4f"
      },
      "source": [
        "scaler = StandardScaler()\n",
        "transform = scaler.fit_transform(base)\n",
        "transform"
      ],
      "execution_count": 78,
      "outputs": [
        {
          "output_type": "execute_result",
          "data": {
            "text/plain": [
              "array([[ 0.43221621, -2.49066898],\n",
              "       [ 0.3213557 ,  1.30142083],\n",
              "       [ 1.10445546, -1.52249901],\n",
              "       [ 1.63281193, -0.44542353],\n",
              "       [-0.06193861,  0.99866351],\n",
              "       [ 1.02897597,  0.99539635],\n",
              "       [-0.40041698, -0.01960299],\n",
              "       [-0.79668433,  0.79936643],\n",
              "       [-0.49594571, -0.17751598],\n",
              "       [ 1.16578255,  0.36810062],\n",
              "       [-0.02419887, -0.84292864],\n",
              "       [-0.95236079, -0.74709179],\n",
              "       [-0.66813331,  0.35938818],\n",
              "       [ 0.81433115, -0.5020544 ],\n",
              "       [ 0.63388798,  1.32102382],\n",
              "       [-1.46892358, -0.42146432],\n",
              "       [ 0.4900052 ,  1.37329846],\n",
              "       [ 0.4900052 ,  0.43562203],\n",
              "       [-1.22715332,  0.49334195],\n",
              "       [ 0.85089153,  1.21538548],\n",
              "       [ 0.14327126, -1.64665129],\n",
              "       [-2.07275955, -0.3855255 ],\n",
              "       [ 1.68942155, -1.47458059],\n",
              "       [-1.75668916, -0.1916737 ],\n",
              "       [ 0.18101101,  1.15548745],\n",
              "       [-1.31088839,  0.11326173],\n",
              "       [ 0.25766987, -0.06207614]])"
            ]
          },
          "metadata": {
            "tags": []
          },
          "execution_count": 0
        }
      ]
    },
    {
      "cell_type": "code",
      "metadata": {
        "id": "Yh17ENS3c7jK",
        "colab": {
          "base_uri": "https://localhost:8080/",
          "height": 288
        },
        "outputId": "02dca004-2768-4212-e71e-121499f20893"
      },
      "source": [
        "pd.DataFrame(transform).describe()"
      ],
      "execution_count": 79,
      "outputs": [
        {
          "output_type": "execute_result",
          "data": {
            "text/html": [
              "<div>\n",
              "<style scoped>\n",
              "    .dataframe tbody tr th:only-of-type {\n",
              "        vertical-align: middle;\n",
              "    }\n",
              "\n",
              "    .dataframe tbody tr th {\n",
              "        vertical-align: top;\n",
              "    }\n",
              "\n",
              "    .dataframe thead th {\n",
              "        text-align: right;\n",
              "    }\n",
              "</style>\n",
              "<table border=\"1\" class=\"dataframe\">\n",
              "  <thead>\n",
              "    <tr style=\"text-align: right;\">\n",
              "      <th></th>\n",
              "      <th>0</th>\n",
              "      <th>1</th>\n",
              "    </tr>\n",
              "  </thead>\n",
              "  <tbody>\n",
              "    <tr>\n",
              "      <th>count</th>\n",
              "      <td>2.700000e+01</td>\n",
              "      <td>2.700000e+01</td>\n",
              "    </tr>\n",
              "    <tr>\n",
              "      <th>mean</th>\n",
              "      <td>-3.063393e-16</td>\n",
              "      <td>7.972018e-16</td>\n",
              "    </tr>\n",
              "    <tr>\n",
              "      <th>std</th>\n",
              "      <td>1.019049e+00</td>\n",
              "      <td>1.019049e+00</td>\n",
              "    </tr>\n",
              "    <tr>\n",
              "      <th>min</th>\n",
              "      <td>-2.072760e+00</td>\n",
              "      <td>-2.490669e+00</td>\n",
              "    </tr>\n",
              "    <tr>\n",
              "      <th>25%</th>\n",
              "      <td>-7.324088e-01</td>\n",
              "      <td>-4.737390e-01</td>\n",
              "    </tr>\n",
              "    <tr>\n",
              "      <th>50%</th>\n",
              "      <td>1.810110e-01</td>\n",
              "      <td>-1.960299e-02</td>\n",
              "    </tr>\n",
              "    <tr>\n",
              "      <th>75%</th>\n",
              "      <td>7.241096e-01</td>\n",
              "      <td>8.973814e-01</td>\n",
              "    </tr>\n",
              "    <tr>\n",
              "      <th>max</th>\n",
              "      <td>1.689422e+00</td>\n",
              "      <td>1.373298e+00</td>\n",
              "    </tr>\n",
              "  </tbody>\n",
              "</table>\n",
              "</div>"
            ],
            "text/plain": [
              "                  0             1\n",
              "count  2.700000e+01  2.700000e+01\n",
              "mean  -3.063393e-16  7.972018e-16\n",
              "std    1.019049e+00  1.019049e+00\n",
              "min   -2.072760e+00 -2.490669e+00\n",
              "25%   -7.324088e-01 -4.737390e-01\n",
              "50%    1.810110e-01 -1.960299e-02\n",
              "75%    7.241096e-01  8.973814e-01\n",
              "max    1.689422e+00  1.373298e+00"
            ]
          },
          "metadata": {
            "tags": []
          },
          "execution_count": 0
        }
      ]
    },
    {
      "cell_type": "code",
      "metadata": {
        "id": "T8yo1zjnYZxY"
      },
      "source": [
        "from scipy.cluster.hierarchy import dendrogram, linkage"
      ],
      "execution_count": 80,
      "outputs": []
    },
    {
      "cell_type": "code",
      "metadata": {
        "colab": {
          "base_uri": "https://localhost:8080/"
        },
        "id": "cLdK-bS93PqQ",
        "outputId": "b58c4b74-1f49-4926-9026-319222c158c2"
      },
      "source": [
        "link = linkage(transform, method = 'ward')\n",
        "link"
      ],
      "execution_count": 81,
      "outputs": [
        {
          "output_type": "execute_result",
          "data": {
            "text/plain": [
              "array([[14.        , 16.        ,  0.1530846 ,  2.        ],\n",
              "       [ 6.        ,  8.        ,  0.18455961,  2.        ],\n",
              "       [ 1.        , 24.        ,  0.20246773,  2.        ],\n",
              "       [ 5.        , 19.        ,  0.28303583,  2.        ],\n",
              "       [15.        , 23.        ,  0.36825637,  2.        ],\n",
              "       [18.        , 25.        ,  0.38919473,  2.        ],\n",
              "       [ 4.        , 29.        ,  0.44847757,  3.        ],\n",
              "       [ 7.        , 12.        ,  0.45837346,  2.        ],\n",
              "       [21.        , 31.        ,  0.53887667,  3.        ],\n",
              "       [17.        , 26.        ,  0.54925693,  2.        ],\n",
              "       [ 2.        , 22.        ,  0.58692547,  2.        ],\n",
              "       [27.        , 30.        ,  0.63455045,  4.        ],\n",
              "       [ 3.        , 13.        ,  0.82043759,  2.        ],\n",
              "       [10.        , 20.        ,  0.82098499,  2.        ],\n",
              "       [32.        , 34.        ,  0.85342855,  4.        ],\n",
              "       [ 9.        , 36.        ,  0.9381234 ,  3.        ],\n",
              "       [11.        , 28.        ,  0.94853646,  3.        ],\n",
              "       [33.        , 38.        ,  1.12708805,  7.        ],\n",
              "       [39.        , 42.        ,  1.43906732,  5.        ],\n",
              "       [ 0.        , 40.        ,  1.50160133,  3.        ],\n",
              "       [41.        , 43.        ,  1.57059225,  7.        ],\n",
              "       [37.        , 46.        ,  1.89603249,  5.        ],\n",
              "       [35.        , 47.        ,  2.11784112, 10.        ],\n",
              "       [44.        , 45.        ,  3.12214634, 12.        ],\n",
              "       [48.        , 50.        ,  6.04462019, 17.        ],\n",
              "       [49.        , 51.        ,  6.28493184, 27.        ]])"
            ]
          },
          "metadata": {
            "tags": []
          },
          "execution_count": 0
        }
      ]
    },
    {
      "cell_type": "code",
      "metadata": {
        "id": "HwN0PVZHSkSa",
        "colab": {
          "base_uri": "https://localhost:8080/",
          "height": 302
        },
        "outputId": "d1965084-257c-451c-9cbf-57fe9f2cbfa1"
      },
      "source": [
        "dendrogram(link, leaf_rotation=90, leaf_font_size=8, labels=df.index)\n",
        "#dendrograma = dendrogram(link)\n",
        "plt.title('Dendrograma')\n",
        "plt.ylabel('Distância Euclidiana ''Transformada''')"
      ],
      "execution_count": 82,
      "outputs": [
        {
          "output_type": "execute_result",
          "data": {
            "text/plain": [
              "Text(0, 0.5, 'Distância Euclidiana Transformada')"
            ]
          },
          "metadata": {
            "tags": []
          },
          "execution_count": 0
        },
        {
          "output_type": "display_data",
          "data": {
            "image/png": "[encoded data removed]",
            "text/plain": [
              "<Figure size 432x288 with 1 Axes>"
            ]
          },
          "metadata": {
            "tags": []
          }
        }
      ]
    },
    {
      "cell_type": "markdown",
      "metadata": {
        "id": "hDXLdIS9PzQF"
      },
      "source": [
        "\n",
        "\n",
        "---\n",
        "\n"
      ]
    },
    {
      "cell_type": "code",
      "metadata": {
        "colab": {
          "base_uri": "https://localhost:8080/"
        },
        "id": "Hj4X0pGu3q9_",
        "outputId": "7fb999c8-a5f1-4389-a1d8-5994d492798e"
      },
      "source": [
        "hc = AgglomerativeClustering(n_clusters = 3, linkage = 'ward')\n",
        "# hc = AgglomerativeClustering(n_clusters = 2, linkage = 'ward')\n",
        "previsoes = hc.fit_predict(transform)\n",
        "previsoes"
      ],
      "execution_count": 83,
      "outputs": [
        {
          "output_type": "execute_result",
          "data": {
            "text/plain": [
              "array([2, 0, 2, 0, 0, 0, 1, 1, 1, 0, 2, 1, 1, 0, 0, 1, 0, 0, 1, 0, 2, 1,\n",
              "       2, 1, 0, 1, 0])"
            ]
          },
          "metadata": {
            "tags": []
          },
          "execution_count": 0
        }
      ]
    },
    {
      "cell_type": "code",
      "metadata": {
        "id": "aOAy6cEFXa17",
        "colab": {
          "base_uri": "https://localhost:8080/",
          "height": 297
        },
        "outputId": "b860caf3-6dee-4335-c4f4-9e38779438cc"
      },
      "source": [
        "plt.scatter(base[previsoes == 0, 0], base[previsoes == 0, 1], s = 50, c = 'green', label = 'Cluster 1')\n",
        "plt.scatter(base[previsoes == 1, 0], base[previsoes == 1, 1], s = 50, c = 'red', label = 'Cluster 2')\n",
        "plt.scatter(base[previsoes == 2, 0], base[previsoes == 2, 1], s = 50, c = 'blue', label = 'Cluster 3')\n",
        "# plt.scatter(base[previsoes == 0, 0], base[previsoes == 0, 1], s = 50, c = 'red', label = 'Cluster 1')\n",
        "# plt.scatter(base[previsoes == 1, 0], base[previsoes == 1, 1], s = 50, c = 'green', label = 'Cluster 2')\n",
        "plt.xlabel(df.columns[0])\n",
        "plt.ylabel(df.columns[1])\n",
        "plt.legend()  "
      ],
      "execution_count": 84,
      "outputs": [
        {
          "output_type": "execute_result",
          "data": {
            "text/plain": [
              "<matplotlib.legend.Legend at 0x7f88b1f98710>"
            ]
          },
          "metadata": {
            "tags": []
          },
          "execution_count": 0
        },
        {
          "output_type": "display_data",
          "data": {
            "image/png": "[encoded data removed]",
            "text/plain": [
              "<Figure size 432x288 with 1 Axes>"
            ]
          },
          "metadata": {
            "tags": []
          }
        }
      ]
    },
    {
      "cell_type": "markdown",
      "metadata": {
        "id": "7pFwF7Jtfh5l"
      },
      "source": [
        "# Análise final apenas para dados em *base.csv*"
      ]
    },
    {
      "cell_type": "markdown",
      "metadata": {
        "id": "7xeRxqZXgB7j"
      },
      "source": [
        "Estudo de colaboradores de idade abaixo de 60 anos"
      ]
    },
    {
      "cell_type": "code",
      "metadata": {
        "id": "dcUrZe7MfhBE"
      },
      "source": [
        "base = np.array([[20,100],[20,1000],[21,2900],[27,2200]\n",
        "                ,[30,150],[32,5900],[37,11050],[39,4100],[39,7000]\n",
        "                ,[41,5100],[45,250],[46,9000],[48,16500]\n",
        "                ,[52,15000],[53,150],[53,1950],[55,20000]\n",
        "                 ])"
      ],
      "execution_count": 85,
      "outputs": []
    },
    {
      "cell_type": "code",
      "metadata": {
        "id": "4Ol8dgSchrFM"
      },
      "source": [
        "scaler = StandardScaler()\n",
        "transform = scaler.fit_transform(base)"
      ],
      "execution_count": 86,
      "outputs": []
    },
    {
      "cell_type": "code",
      "metadata": {
        "colab": {
          "base_uri": "https://localhost:8080/"
        },
        "id": "lVI-blTVh2i-",
        "outputId": "43597c99-3d18-44ab-b813-2eb8013f06be"
      },
      "source": [
        "link = linkage(transform, method = 'ward')\n",
        "link"
      ],
      "execution_count": 87,
      "outputs": [
        {
          "output_type": "execute_result",
          "data": {
            "text/plain": [
              "array([[ 0.        ,  1.        ,  0.14796552,  2.        ],\n",
              "       [ 7.        ,  9.        ,  0.23763965,  2.        ],\n",
              "       [14.        , 15.        ,  0.29593105,  2.        ],\n",
              "       [12.        , 13.        ,  0.42259793,  2.        ],\n",
              "       [ 3.        ,  4.        ,  0.42407337,  2.        ],\n",
              "       [ 2.        , 17.        ,  0.45699095,  3.        ],\n",
              "       [ 8.        , 18.        ,  0.46626176,  3.        ],\n",
              "       [10.        , 19.        ,  0.80696174,  3.        ],\n",
              "       [ 5.        , 23.        ,  0.81185825,  4.        ],\n",
              "       [ 6.        , 11.        ,  0.84250598,  2.        ],\n",
              "       [16.        , 20.        ,  0.94674059,  3.        ],\n",
              "       [21.        , 22.        ,  1.0862072 ,  5.        ],\n",
              "       [25.        , 26.        ,  1.31742805,  6.        ],\n",
              "       [24.        , 29.        ,  2.82734939,  9.        ],\n",
              "       [28.        , 30.        ,  4.44404392, 14.        ],\n",
              "       [27.        , 31.        ,  5.78567728, 17.        ]])"
            ]
          },
          "metadata": {
            "tags": []
          },
          "execution_count": 0
        }
      ]
    },
    {
      "cell_type": "code",
      "metadata": {
        "id": "yEjGESBKh-X3",
        "colab": {
          "base_uri": "https://localhost:8080/",
          "height": 316
        },
        "outputId": "8e04c0ed-085c-4c1b-a6a9-595b746e645e"
      },
      "source": [
        "dendrograma = dendrogram(link)\n",
        "plt.title('Dendrograma para maior cluster')\n",
        "plt.xlabel('Pessoas')\n",
        "plt.ylabel('Distância Euclidiana ''Transformada''')"
      ],
      "execution_count": 88,
      "outputs": [
        {
          "output_type": "execute_result",
          "data": {
            "text/plain": [
              "Text(0, 0.5, 'Distância Euclidiana Transformada')"
            ]
          },
          "metadata": {
            "tags": []
          },
          "execution_count": 0
        },
        {
          "output_type": "display_data",
          "data": {
            "image/png": "[encoded data removed]",
            "text/plain": [
              "<Figure size 432x288 with 1 Axes>"
            ]
          },
          "metadata": {
            "tags": []
          }
        }
      ]
    }
  ]
}