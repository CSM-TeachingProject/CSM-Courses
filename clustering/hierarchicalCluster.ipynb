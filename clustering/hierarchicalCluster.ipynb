{
  "nbformat": 4,
  "nbformat_minor": 0,
  "metadata": {
    "kernelspec": {
      "display_name": "Python 3",
      "language": "python",
      "name": "python3"
    },
    "language_info": {
      "codemirror_mode": {
        "name": "ipython",
        "version": 3
      },
      "file_extension": ".py",
      "mimetype": "text/x-python",
      "name": "python",
      "nbconvert_exporter": "python",
      "pygments_lexer": "ipython3",
      "version": "3.6.5"
    },
    "varInspector": {
      "cols": {
        "lenName": 16,
        "lenType": 16,
        "lenVar": 40
      },
      "kernels_config": {
        "python": {
          "delete_cmd_postfix": "",
          "delete_cmd_prefix": "del ",
          "library": "var_list.py",
          "varRefreshCmd": "print(var_dic_list())"
        },
        "r": {
          "delete_cmd_postfix": ") ",
          "delete_cmd_prefix": "rm(",
          "library": "var_list.r",
          "varRefreshCmd": "cat(var_dic_list()) "
        }
      },
      "types_to_exclude": [
        "module",
        "function",
        "builtin_function_or_method",
        "instance",
        "_Feature"
      ],
      "window_display": false
    },
    "colab": {
      "name": "hierarchicalCluster.ipynb",
      "provenance": [],
      "include_colab_link": true
    }
  },
  "cells": [
    {
      "cell_type": "markdown",
      "metadata": {
        "id": "view-in-github",
        "colab_type": "text"
      },
      "source": [
        "<a href=\"https://colab.research.google.com/github/luizleroy/treinamentos/blob/develop/clustering/hierarchicalCluster.ipynb\" target=\"_parent\"><img src=\"https://colab.research.google.com/assets/colab-badge.svg\" alt=\"Open In Colab\"/></a>"
      ]
    },
    {
      "cell_type": "code",
      "metadata": {
        "id": "4stsqH9hWXbm"
      },
      "source": [
        "import numpy as np"
      ],
      "execution_count": 1,
      "outputs": []
    },
    {
      "cell_type": "code",
      "metadata": {
        "id": "OUCZaPepSkSZ"
      },
      "source": [
        "# base = np.array([[20,1000],[27,1200],[21,2900],[37,1850],[46,900], [53,950],[55,2000],[47,2100],[52,3000],[32,5900], [39,4100],[41,5100],[39,7000],[48,5000],[48,6500]])\n",
        "\n",
        "# base = np.array([[20,1000],[21,2900],[27,1200]\n",
        "#                 ,[32,5900],[37,1850],[39,4100],[39,7000]\n",
        "#                 ,[41,5100],[46,900],[47,2100],[48,5000],[48,6500]\n",
        "#                 ,[52,3000],[53,950],[55,2000]\n",
        "#                  ])\n",
        "\n",
        "# base = np.array([[20,1000],[21,2900],[27,2200]\n",
        "#                 ,[32,5900],[37,11050],[39,4100],[39,7000]\n",
        "#                 ,[41,5100],[46,9000],[48,16500]\n",
        "#                 ,[52,15000],[53,1950],[55,20000]\n",
        "#                 ,[71,100000], [73, 40000], [79,15000]\n",
        "#                  ])"
      ],
      "execution_count": 2,
      "outputs": []
    },
    {
      "cell_type": "code",
      "metadata": {
        "id": "1dTc5t8ZWcNL"
      },
      "source": [
        "from google.colab import files\n",
        "import pandas as pd\n",
        "import subprocess"
      ],
      "execution_count": 3,
      "outputs": []
    },
    {
      "cell_type": "code",
      "metadata": {
        "colab": {
          "base_uri": "https://localhost:8080/",
          "height": 288
        },
        "id": "rrzkJ__sUfmy",
        "outputId": "0737cec2-ab56-4125-eaf1-832e1883348d"
      },
      "source": [
        "file = 'base.csv'\n",
        "proc=subprocess.Popen('ls ' + file, shell=True, stdout=subprocess.PIPE, )\n",
        "output=proc.communicate()[0]\n",
        "if not output:\n",
        "  uploaded = files.upload()\n",
        "  for fn in uploaded.keys():\n",
        "    print('User uploaded file \"{name}\" with length {length} bytes'.format(\n",
        "        name=fn, length=len(uploaded[fn])))\n",
        "\n",
        "df = pd.read_csv(file, encoding='latin-1', sep=',',header=None)\n",
        "df\n",
        "df.describe()"
      ],
      "execution_count": 4,
      "outputs": [
        {
          "output_type": "execute_result",
          "data": {
            "text/html": [
              "<div>\n",
              "<style scoped>\n",
              "    .dataframe tbody tr th:only-of-type {\n",
              "        vertical-align: middle;\n",
              "    }\n",
              "\n",
              "    .dataframe tbody tr th {\n",
              "        vertical-align: top;\n",
              "    }\n",
              "\n",
              "    .dataframe thead th {\n",
              "        text-align: right;\n",
              "    }\n",
              "</style>\n",
              "<table border=\"1\" class=\"dataframe\">\n",
              "  <thead>\n",
              "    <tr style=\"text-align: right;\">\n",
              "      <th></th>\n",
              "      <th>0</th>\n",
              "      <th>1</th>\n",
              "    </tr>\n",
              "  </thead>\n",
              "  <tbody>\n",
              "    <tr>\n",
              "      <th>count</th>\n",
              "      <td>16.000000</td>\n",
              "      <td>16.000000</td>\n",
              "    </tr>\n",
              "    <tr>\n",
              "      <th>mean</th>\n",
              "      <td>45.812500</td>\n",
              "      <td>16043.750000</td>\n",
              "    </tr>\n",
              "    <tr>\n",
              "      <th>std</th>\n",
              "      <td>17.653021</td>\n",
              "      <td>24428.950551</td>\n",
              "    </tr>\n",
              "    <tr>\n",
              "      <th>min</th>\n",
              "      <td>20.000000</td>\n",
              "      <td>1000.000000</td>\n",
              "    </tr>\n",
              "    <tr>\n",
              "      <th>25%</th>\n",
              "      <td>35.750000</td>\n",
              "      <td>3800.000000</td>\n",
              "    </tr>\n",
              "    <tr>\n",
              "      <th>50%</th>\n",
              "      <td>43.500000</td>\n",
              "      <td>8000.000000</td>\n",
              "    </tr>\n",
              "    <tr>\n",
              "      <th>75%</th>\n",
              "      <td>53.500000</td>\n",
              "      <td>15375.000000</td>\n",
              "    </tr>\n",
              "    <tr>\n",
              "      <th>max</th>\n",
              "      <td>79.000000</td>\n",
              "      <td>100000.000000</td>\n",
              "    </tr>\n",
              "  </tbody>\n",
              "</table>\n",
              "</div>"
            ],
            "text/plain": [
              "               0              1\n",
              "count  16.000000      16.000000\n",
              "mean   45.812500   16043.750000\n",
              "std    17.653021   24428.950551\n",
              "min    20.000000    1000.000000\n",
              "25%    35.750000    3800.000000\n",
              "50%    43.500000    8000.000000\n",
              "75%    53.500000   15375.000000\n",
              "max    79.000000  100000.000000"
            ]
          },
          "metadata": {
            "tags": []
          },
          "execution_count": 4
        }
      ]
    },
    {
      "cell_type": "code",
      "metadata": {
        "colab": {
          "base_uri": "https://localhost:8080/"
        },
        "id": "EQ_vNtztUf1i",
        "outputId": "f9060424-3490-41a1-9dab-7178992925f0"
      },
      "source": [
        "print('\\tidade','$')\n",
        "base = df.values\n",
        "base"
      ],
      "execution_count": 5,
      "outputs": [
        {
          "output_type": "stream",
          "text": [
            "\tidade $\n"
          ],
          "name": "stdout"
        },
        {
          "output_type": "execute_result",
          "data": {
            "text/plain": [
              "array([[    20,   1000],\n",
              "       [    21,   2900],\n",
              "       [    27,   2200],\n",
              "       [    32,   5900],\n",
              "       [    37,  11050],\n",
              "       [    39,   4100],\n",
              "       [    39,   7000],\n",
              "       [    41,   5100],\n",
              "       [    46,   9000],\n",
              "       [    48,  16500],\n",
              "       [    52,  15000],\n",
              "       [    53,   1950],\n",
              "       [    55,  20000],\n",
              "       [    71, 100000],\n",
              "       [    73,  40000],\n",
              "       [    79,  15000]])"
            ]
          },
          "metadata": {
            "tags": []
          },
          "execution_count": 5
        }
      ]
    },
    {
      "cell_type": "markdown",
      "metadata": {
        "id": "w3bdO1zZ2zpd"
      },
      "source": [
        "Base para realizar uma análise de espalhamento simples:"
      ]
    },
    {
      "cell_type": "code",
      "metadata": {
        "id": "cFSa9MZ-3B2a"
      },
      "source": [
        "import matplotlib.pyplot as plt\n",
        "from sklearn.cluster import AgglomerativeClustering"
      ],
      "execution_count": 6,
      "outputs": []
    },
    {
      "cell_type": "code",
      "metadata": {
        "colab": {
          "base_uri": "https://localhost:8080/",
          "height": 297
        },
        "id": "x4LYH19T20A8",
        "outputId": "58c98588-2966-48b3-ad4b-b3771cbd422a"
      },
      "source": [
        "hc = AgglomerativeClustering(linkage = 'ward')\n",
        "previsoes = hc.fit_predict(base)\n",
        "previsoes\n",
        "\n",
        "plt.scatter(base[previsoes == 0, 0], base[previsoes == 0, 1], s = 50, c = 'black', label = 'Cluster M')\n",
        "plt.scatter(base[previsoes == 1, 0], base[previsoes == 1, 1], s = 50, c = 'orange', label = 'Cluster N')\n",
        "plt.xlabel('Idade')\n",
        "plt.ylabel('Salário')\n",
        "plt.legend()\n"
      ],
      "execution_count": 7,
      "outputs": [
        {
          "output_type": "execute_result",
          "data": {
            "text/plain": [
              "<matplotlib.legend.Legend at 0x7f8a1bab8610>"
            ]
          },
          "metadata": {
            "tags": []
          },
          "execution_count": 7
        },
        {
          "output_type": "display_data",
          "data": {
            "image/png": "[encoded data removed]",
            "text/plain": [
              "<Figure size 432x288 with 1 Axes>"
            ]
          },
          "metadata": {
            "tags": [],
            "needs_background": "light"
          }
        }
      ]
    },
    {
      "cell_type": "code",
      "metadata": {
        "id": "jRVJxRKf3J0T"
      },
      "source": [
        "from sklearn.preprocessing import StandardScaler"
      ],
      "execution_count": 8,
      "outputs": []
    },
    {
      "cell_type": "markdown",
      "metadata": {
        "id": "_FS4r-XQtyAs"
      },
      "source": [
        "## Transformação do tipo *StandardScaler*"
      ]
    },
    {
      "cell_type": "code",
      "metadata": {
        "id": "3I-1vUNvVOQ7",
        "colab": {
          "base_uri": "https://localhost:8080/"
        },
        "outputId": "eb9d077c-03ac-47ca-80e0-f3f08c8d35e4"
      },
      "source": [
        "scaler = StandardScaler()\n",
        "transform = scaler.fit_transform(base)\n",
        "print('Transformando estatisticamente os dados...')\n",
        "transform"
      ],
      "execution_count": 9,
      "outputs": [
        {
          "output_type": "stream",
          "text": [
            "Transformando estatisticamente os dados...\n"
          ],
          "name": "stdout"
        },
        {
          "output_type": "execute_result",
          "data": {
            "text/plain": [
              "array([[-1.51016841, -0.63601251],\n",
              "       [-1.4516631 , -0.55568521],\n",
              "       [-1.10063121, -0.58527948],\n",
              "       [-0.80810465, -0.42885264],\n",
              "       [-0.51557808, -0.21112339],\n",
              "       [-0.39856745, -0.50495218],\n",
              "       [-0.39856745, -0.38234736],\n",
              "       [-0.28155682, -0.46267466],\n",
              "       [ 0.01096975, -0.29779231],\n",
              "       [ 0.12798037,  0.01928912],\n",
              "       [ 0.36200163, -0.04412717],\n",
              "       [ 0.42050694, -0.59584886],\n",
              "       [ 0.53751757,  0.16726046],\n",
              "       [ 1.47360259,  3.54946243],\n",
              "       [ 1.59061322,  1.01281095],\n",
              "       [ 1.9416451 , -0.04412717]])"
            ]
          },
          "metadata": {
            "tags": []
          },
          "execution_count": 9
        }
      ]
    },
    {
      "cell_type": "code",
      "metadata": {
        "id": "T8yo1zjnYZxY"
      },
      "source": [
        "from scipy.cluster.hierarchy import dendrogram, linkage"
      ],
      "execution_count": 10,
      "outputs": []
    },
    {
      "cell_type": "code",
      "metadata": {
        "colab": {
          "base_uri": "https://localhost:8080/"
        },
        "id": "cLdK-bS93PqQ",
        "outputId": "e9cb755f-cf9e-4011-80fa-d5d022cdf8a1"
      },
      "source": [
        "link = linkage(transform, method = 'ward')\n",
        "link"
      ],
      "execution_count": 11,
      "outputs": [
        {
          "output_type": "execute_result",
          "data": {
            "text/plain": [
              "array([[ 0.        ,  1.        ,  0.09937478,  2.        ],\n",
              "       [ 5.        ,  6.        ,  0.12260482,  2.        ],\n",
              "       [ 7.        , 17.        ,  0.13688649,  3.        ],\n",
              "       [ 9.        , 10.        ,  0.24246149,  2.        ],\n",
              "       [ 2.        ,  3.        ,  0.33172451,  2.        ],\n",
              "       [ 4.        , 18.        ,  0.34942456,  4.        ],\n",
              "       [12.        , 19.        ,  0.39641142,  3.        ],\n",
              "       [ 8.        , 11.        ,  0.50651596,  2.        ],\n",
              "       [16.        , 20.        ,  0.75516223,  4.        ],\n",
              "       [22.        , 23.        ,  0.79053768,  5.        ],\n",
              "       [14.        , 15.        ,  1.11370623,  2.        ],\n",
              "       [21.        , 25.        ,  1.5408733 ,  9.        ],\n",
              "       [24.        , 27.        ,  2.91385761, 13.        ],\n",
              "       [13.        , 26.        ,  3.55537822,  3.        ],\n",
              "       [28.        , 29.        ,  6.10823999, 16.        ]])"
            ]
          },
          "metadata": {
            "tags": []
          },
          "execution_count": 11
        }
      ]
    },
    {
      "cell_type": "code",
      "metadata": {
        "id": "HwN0PVZHSkSa",
        "colab": {
          "base_uri": "https://localhost:8080/",
          "height": 316
        },
        "outputId": "23f9f2d2-6e91-4eab-9453-0f3c6304b9e7"
      },
      "source": [
        "dendrograma = dendrogram(link)\n",
        "plt.title('Dendrograma')\n",
        "plt.xlabel('Pessoas')\n",
        "plt.ylabel('Distância Euclidiana ''Transformada''')"
      ],
      "execution_count": 12,
      "outputs": [
        {
          "output_type": "execute_result",
          "data": {
            "text/plain": [
              "Text(0, 0.5, 'Distância Euclidiana Transformada')"
            ]
          },
          "metadata": {
            "tags": []
          },
          "execution_count": 12
        },
        {
          "output_type": "display_data",
          "data": {
            "image/png": "[encoded data removed]",
            "text/plain": [
              "<Figure size 432x288 with 1 Axes>"
            ]
          },
          "metadata": {
            "tags": [],
            "needs_background": "light"
          }
        }
      ]
    },
    {
      "cell_type": "markdown",
      "metadata": {
        "id": "hDXLdIS9PzQF"
      },
      "source": [
        "\n",
        "\n",
        "---\n",
        "\n"
      ]
    },
    {
      "cell_type": "code",
      "metadata": {
        "colab": {
          "base_uri": "https://localhost:8080/"
        },
        "id": "Hj4X0pGu3q9_",
        "outputId": "55c2cdc5-6dfb-4e0c-ea62-2421792b9c28"
      },
      "source": [
        "hc = AgglomerativeClustering(n_clusters = 3, linkage = 'ward')\n",
        "# hc = AgglomerativeClustering(n_clusters = 2, linkage = 'ward')\n",
        "previsoes = hc.fit_predict(transform)\n",
        "previsoes"
      ],
      "execution_count": 13,
      "outputs": [
        {
          "output_type": "execute_result",
          "data": {
            "text/plain": [
              "array([0, 0, 0, 0, 0, 0, 0, 0, 0, 0, 0, 0, 0, 2, 1, 1])"
            ]
          },
          "metadata": {
            "tags": []
          },
          "execution_count": 13
        }
      ]
    },
    {
      "cell_type": "code",
      "metadata": {
        "id": "aOAy6cEFXa17",
        "colab": {
          "base_uri": "https://localhost:8080/",
          "height": 297
        },
        "outputId": "a9a69e43-29e5-4deb-d169-c1356b16ad9a"
      },
      "source": [
        "plt.scatter(base[previsoes == 0, 0], base[previsoes == 0, 1], s = 50, c = 'green', label = 'Cluster 1')\n",
        "plt.scatter(base[previsoes == 1, 0], base[previsoes == 1, 1], s = 50, c = 'blue', label = 'Cluster 2')\n",
        "plt.scatter(base[previsoes == 2, 0], base[previsoes == 2, 1], s = 50, c = 'red', label = 'Cluster 3')\n",
        "# plt.scatter(base[previsoes == 0, 0], base[previsoes == 0, 1], s = 50, c = 'red', label = 'Cluster 1')\n",
        "# plt.scatter(base[previsoes == 1, 0], base[previsoes == 1, 1], s = 50, c = 'green', label = 'Cluster 2')\n",
        "plt.xlabel('Idade')\n",
        "plt.ylabel('Salário')\n",
        "plt.legend()  "
      ],
      "execution_count": 14,
      "outputs": [
        {
          "output_type": "execute_result",
          "data": {
            "text/plain": [
              "<matplotlib.legend.Legend at 0x7f8a12015790>"
            ]
          },
          "metadata": {
            "tags": []
          },
          "execution_count": 14
        },
        {
          "output_type": "display_data",
          "data": {
            "image/png": "[encoded data removed]",
            "text/plain": [
              "<Figure size 432x288 with 1 Axes>"
            ]
          },
          "metadata": {
            "tags": [],
            "needs_background": "light"
          }
        }
      ]
    }
  ]
}