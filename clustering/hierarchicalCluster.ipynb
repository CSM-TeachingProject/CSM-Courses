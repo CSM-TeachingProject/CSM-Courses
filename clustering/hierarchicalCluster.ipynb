{
  "nbformat": 4,
  "nbformat_minor": 0,
  "metadata": {
    "kernelspec": {
      "display_name": "Python 3",
      "language": "python",
      "name": "python3"
    },
    "language_info": {
      "codemirror_mode": {
        "name": "ipython",
        "version": 3
      },
      "file_extension": ".py",
      "mimetype": "text/x-python",
      "name": "python",
      "nbconvert_exporter": "python",
      "pygments_lexer": "ipython3",
      "version": "3.6.5"
    },
    "varInspector": {
      "cols": {
        "lenName": 16,
        "lenType": 16,
        "lenVar": 40
      },
      "kernels_config": {
        "python": {
          "delete_cmd_postfix": "",
          "delete_cmd_prefix": "del ",
          "library": "var_list.py",
          "varRefreshCmd": "print(var_dic_list())"
        },
        "r": {
          "delete_cmd_postfix": ") ",
          "delete_cmd_prefix": "rm(",
          "library": "var_list.r",
          "varRefreshCmd": "cat(var_dic_list()) "
        }
      },
      "types_to_exclude": [
        "module",
        "function",
        "builtin_function_or_method",
        "instance",
        "_Feature"
      ],
      "window_display": false
    },
    "colab": {
      "name": "hierarchicalCluster.ipynb",
      "provenance": [],
      "include_colab_link": true
    }
  },
  "cells": [
    {
      "cell_type": "markdown",
      "metadata": {
        "id": "view-in-github",
        "colab_type": "text"
      },
      "source": [
        "<a href=\"https://colab.research.google.com/github/luizleroy/treinamentos/blob/develop/clustering/hierarchicalCluster.ipynb\" target=\"_parent\"><img src=\"https://colab.research.google.com/assets/colab-badge.svg\" alt=\"Open In Colab\"/></a>"
      ]
    },
    {
      "cell_type": "code",
      "metadata": {
        "id": "GwnI6GHhSkSF"
      },
      "source": [
        "import matplotlib.pyplot as plt\n",
        "from scipy.cluster.hierarchy import dendrogram, linkage\n",
        "from sklearn.cluster import AgglomerativeClustering\n",
        "from sklearn.preprocessing import StandardScaler"
      ],
      "execution_count": 1,
      "outputs": []
    },
    {
      "cell_type": "code",
      "metadata": {
        "id": "OUCZaPepSkSZ"
      },
      "source": [
        "import numpy as np\n",
        "\n",
        "base = np.array([[20,1000],[27,1200],[21,2900],[37,1850],[46,900],\n",
        "                 [53,950],[55,2000],[47,2100],[52,3000],[32,5900],\n",
        "                 [39,4100],[41,5100],[39,7000],[48,5000],[48,6500]])"
      ],
      "execution_count": 2,
      "outputs": []
    },
    {
      "cell_type": "code",
      "metadata": {
        "id": "3I-1vUNvVOQ7",
        "colab": {
          "base_uri": "https://localhost:8080/"
        },
        "outputId": "e9caf3a6-564e-407a-e2c3-d6bffede2ee6"
      },
      "source": [
        "scaler = StandardScaler()\n",
        "transform = scaler.fit_transform(base)\n",
        "transform"
      ],
      "execution_count": 3,
      "outputs": [
        {
          "output_type": "execute_result",
          "data": {
            "text/plain": [
              "array([[-1.87963884, -1.11413572],\n",
              "       [-1.23255006, -1.01725435],\n",
              "       [-1.78719758, -0.19376273],\n",
              "       [-0.30813751, -0.70238991],\n",
              "       [ 0.52383377, -1.1625764 ],\n",
              "       [ 1.17092255, -1.13835606],\n",
              "       [ 1.35580506, -0.62972888],\n",
              "       [ 0.61627503, -0.5812882 ],\n",
              "       [ 1.0784813 , -0.14532205],\n",
              "       [-0.77034379,  1.25945777],\n",
              "       [-0.12325501,  0.38752547],\n",
              "       [ 0.0616275 ,  0.8719323 ],\n",
              "       [-0.12325501,  1.79230528],\n",
              "       [ 0.70871628,  0.82349162],\n",
              "       [ 0.70871628,  1.55010187]])"
            ]
          },
          "metadata": {
            "tags": []
          },
          "execution_count": 3
        }
      ]
    },
    {
      "cell_type": "code",
      "metadata": {
        "id": "T8yo1zjnYZxY",
        "colab": {
          "base_uri": "https://localhost:8080/"
        },
        "outputId": "de501bae-9f97-464d-859f-1f9379c3b097"
      },
      "source": [
        "link = linkage(transform, method = 'ward')\n",
        "link"
      ],
      "execution_count": 4,
      "outputs": [
        {
          "output_type": "execute_result",
          "data": {
            "text/plain": [
              "array([[10.        , 11.        ,  0.51848966,  2.        ],\n",
              "       [ 5.        ,  6.        ,  0.54118679,  2.        ],\n",
              "       [ 4.        ,  7.        ,  0.58859269,  2.        ],\n",
              "       [ 0.        ,  1.        ,  0.65430107,  2.        ],\n",
              "       [13.        , 14.        ,  0.72661025,  2.        ],\n",
              "       [ 9.        , 12.        ,  0.83824243,  2.        ],\n",
              "       [ 8.        , 16.        ,  0.87930988,  3.        ],\n",
              "       [ 3.        , 17.        ,  1.03277339,  3.        ],\n",
              "       [ 2.        , 18.        ,  1.04158507,  3.        ],\n",
              "       [15.        , 19.        ,  1.30937334,  4.        ],\n",
              "       [21.        , 22.        ,  1.63041645,  6.        ],\n",
              "       [20.        , 24.        ,  1.63205962,  6.        ],\n",
              "       [23.        , 25.        ,  4.74630659,  9.        ],\n",
              "       [26.        , 27.        ,  4.99446232, 15.        ]])"
            ]
          },
          "metadata": {
            "tags": []
          },
          "execution_count": 4
        }
      ]
    },
    {
      "cell_type": "code",
      "metadata": {
        "id": "HwN0PVZHSkSa",
        "colab": {
          "base_uri": "https://localhost:8080/",
          "height": 316
        },
        "outputId": "f971d036-7ddd-491d-b672-9cf0734f29c5"
      },
      "source": [
        "dendrograma = dendrogram(link)\n",
        "plt.title('Dendrograma')\n",
        "plt.xlabel('Pessoas')\n",
        "plt.ylabel('Distância Euclidiana ''Transformada''')"
      ],
      "execution_count": 5,
      "outputs": [
        {
          "output_type": "execute_result",
          "data": {
            "text/plain": [
              "Text(0, 0.5, 'Distância Euclidiana Transformada')"
            ]
          },
          "metadata": {
            "tags": []
          },
          "execution_count": 5
        },
        {
          "output_type": "display_data",
          "data": {
            "image/png": "[encoded data removed]",
            "text/plain": [
              "<Figure size 432x288 with 1 Axes>"
            ]
          },
          "metadata": {
            "tags": [],
            "needs_background": "light"
          }
        }
      ]
    },
    {
      "cell_type": "code",
      "metadata": {
        "id": "aOAy6cEFXa17",
        "colab": {
          "base_uri": "https://localhost:8080/"
        },
        "outputId": "90e4c3ba-ee7b-483e-95f7-638de42326b1"
      },
      "source": [
        "base"
      ],
      "execution_count": 6,
      "outputs": [
        {
          "output_type": "execute_result",
          "data": {
            "text/plain": [
              "array([[  20, 1000],\n",
              "       [  27, 1200],\n",
              "       [  21, 2900],\n",
              "       [  37, 1850],\n",
              "       [  46,  900],\n",
              "       [  53,  950],\n",
              "       [  55, 2000],\n",
              "       [  47, 2100],\n",
              "       [  52, 3000],\n",
              "       [  32, 5900],\n",
              "       [  39, 4100],\n",
              "       [  41, 5100],\n",
              "       [  39, 7000],\n",
              "       [  48, 5000],\n",
              "       [  48, 6500]])"
            ]
          },
          "metadata": {
            "tags": []
          },
          "execution_count": 6
        }
      ]
    },
    {
      "cell_type": "code",
      "metadata": {
        "id": "6h32rsJGSkSd",
        "colab": {
          "base_uri": "https://localhost:8080/"
        },
        "outputId": "4655444f-e41e-4ce7-a6cd-e4a8a6ea6e34"
      },
      "source": [
        "#hc = AgglomerativeClustering(n_clusters = 3, affinity = 'euclidean', linkage = 'ward')\n",
        "hc = AgglomerativeClustering(linkage = 'ward')\n",
        "previsoes = hc.fit_predict(base)\n",
        "previsoes\n"
      ],
      "execution_count": 7,
      "outputs": [
        {
          "output_type": "execute_result",
          "data": {
            "text/plain": [
              "array([1, 1, 1, 1, 1, 1, 1, 1, 1, 0, 0, 0, 0, 0, 0])"
            ]
          },
          "metadata": {
            "tags": []
          },
          "execution_count": 7
        }
      ]
    },
    {
      "cell_type": "code",
      "metadata": {
        "id": "0ltgoCTwX0RU",
        "colab": {
          "base_uri": "https://localhost:8080/",
          "height": 297
        },
        "outputId": "58413290-cfa2-44d9-90b6-5c675b888713"
      },
      "source": [
        "plt.scatter(base[previsoes == 0, 0], base[previsoes == 0, 1], s = 50, c = 'black', label = 'Cluster M')\n",
        "plt.scatter(base[previsoes == 1, 0], base[previsoes == 1, 1], s = 50, c = 'orange', label = 'Cluster N')\n",
        "plt.xlabel('Idade')\n",
        "plt.ylabel('Salário')\n",
        "plt.legend()"
      ],
      "execution_count": 10,
      "outputs": [
        {
          "output_type": "execute_result",
          "data": {
            "text/plain": [
              "<matplotlib.legend.Legend at 0x7f918606a5d0>"
            ]
          },
          "metadata": {
            "tags": []
          },
          "execution_count": 10
        },
        {
          "output_type": "display_data",
          "data": {
            "image/png": "[encoded data removed]",
            "text/plain": [
              "<Figure size 432x288 with 1 Axes>"
            ]
          },
          "metadata": {
            "tags": [],
            "needs_background": "light"
          }
        }
      ]
    },
    {
      "cell_type": "code",
      "metadata": {
        "id": "yzOUHw6vSkSe"
      },
      "source": [
        ""
      ],
      "execution_count": null,
      "outputs": []
    }
  ]
}