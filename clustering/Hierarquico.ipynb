{
  "nbformat": 4,
  "nbformat_minor": 0,
  "metadata": {
    "kernelspec": {
      "display_name": "Python 3",
      "language": "python",
      "name": "python3"
    },
    "language_info": {
      "codemirror_mode": {
        "name": "ipython",
        "version": 3
      },
      "file_extension": ".py",
      "mimetype": "text/x-python",
      "name": "python",
      "nbconvert_exporter": "python",
      "pygments_lexer": "ipython3",
      "version": "3.6.4"
    },
    "colab": {
      "name": "Hierarquico.ipynb",
      "provenance": []
    }
  },
  "cells": [
    {
      "cell_type": "code",
      "metadata": {
        "id": "qXiY0o8fjO1k"
      },
      "source": [
        "from sklearn.datasets import load_iris\n",
        "iris = load_iris()"
      ],
      "execution_count": 1,
      "outputs": []
    },
    {
      "cell_type": "code",
      "metadata": {
        "id": "5HnUjIKrjgXF"
      },
      "source": [
        "# iris.DESCR"
      ],
      "execution_count": 2,
      "outputs": []
    },
    {
      "cell_type": "code",
      "metadata": {
        "id": "tFnxPQb4j1dX",
        "outputId": "3f9e84b6-2bdc-4f58-df5c-e0ada2b63c8f",
        "colab": {
          "base_uri": "https://localhost:8080/"
        }
      },
      "source": [
        "X = iris.data[:,:3]\n",
        "X.shape"
      ],
      "execution_count": 3,
      "outputs": [
        {
          "output_type": "execute_result",
          "data": {
            "text/plain": [
              "(150, 3)"
            ]
          },
          "metadata": {
            "tags": []
          },
          "execution_count": 3
        }
      ]
    },
    {
      "cell_type": "code",
      "metadata": {
        "id": "HypUlTSWkvC5"
      },
      "source": [
        "from sklearn.preprocessing import StandardScaler"
      ],
      "execution_count": 4,
      "outputs": []
    },
    {
      "cell_type": "code",
      "metadata": {
        "id": "yMOma5Bokbfh"
      },
      "source": [
        "scaler = StandardScaler()\n",
        "transform = scaler.fit_transform(X)"
      ],
      "execution_count": 5,
      "outputs": []
    },
    {
      "cell_type": "code",
      "metadata": {
        "id": "ZJgiop4Dk4hD"
      },
      "source": [
        "import pandas as pd"
      ],
      "execution_count": 6,
      "outputs": []
    },
    {
      "cell_type": "code",
      "metadata": {
        "id": "9aP12Ij6k1TH",
        "outputId": "c6ffa1d8-0609-493b-e69c-8e1d2713ecba",
        "colab": {
          "base_uri": "https://localhost:8080/",
          "height": 288
        }
      },
      "source": [
        "pd.DataFrame(transform).describe()"
      ],
      "execution_count": 7,
      "outputs": [
        {
          "output_type": "execute_result",
          "data": {
            "text/html": [
              "<div>\n",
              "<style scoped>\n",
              "    .dataframe tbody tr th:only-of-type {\n",
              "        vertical-align: middle;\n",
              "    }\n",
              "\n",
              "    .dataframe tbody tr th {\n",
              "        vertical-align: top;\n",
              "    }\n",
              "\n",
              "    .dataframe thead th {\n",
              "        text-align: right;\n",
              "    }\n",
              "</style>\n",
              "<table border=\"1\" class=\"dataframe\">\n",
              "  <thead>\n",
              "    <tr style=\"text-align: right;\">\n",
              "      <th></th>\n",
              "      <th>0</th>\n",
              "      <th>1</th>\n",
              "      <th>2</th>\n",
              "    </tr>\n",
              "  </thead>\n",
              "  <tbody>\n",
              "    <tr>\n",
              "      <th>count</th>\n",
              "      <td>1.500000e+02</td>\n",
              "      <td>1.500000e+02</td>\n",
              "      <td>1.500000e+02</td>\n",
              "    </tr>\n",
              "    <tr>\n",
              "      <th>mean</th>\n",
              "      <td>-1.690315e-15</td>\n",
              "      <td>-1.842970e-15</td>\n",
              "      <td>-1.698641e-15</td>\n",
              "    </tr>\n",
              "    <tr>\n",
              "      <th>std</th>\n",
              "      <td>1.003350e+00</td>\n",
              "      <td>1.003350e+00</td>\n",
              "      <td>1.003350e+00</td>\n",
              "    </tr>\n",
              "    <tr>\n",
              "      <th>min</th>\n",
              "      <td>-1.870024e+00</td>\n",
              "      <td>-2.433947e+00</td>\n",
              "      <td>-1.567576e+00</td>\n",
              "    </tr>\n",
              "    <tr>\n",
              "      <th>25%</th>\n",
              "      <td>-9.006812e-01</td>\n",
              "      <td>-5.923730e-01</td>\n",
              "      <td>-1.226552e+00</td>\n",
              "    </tr>\n",
              "    <tr>\n",
              "      <th>50%</th>\n",
              "      <td>-5.250608e-02</td>\n",
              "      <td>-1.319795e-01</td>\n",
              "      <td>3.364776e-01</td>\n",
              "    </tr>\n",
              "    <tr>\n",
              "      <th>75%</th>\n",
              "      <td>6.745011e-01</td>\n",
              "      <td>5.586108e-01</td>\n",
              "      <td>7.627583e-01</td>\n",
              "    </tr>\n",
              "    <tr>\n",
              "      <th>max</th>\n",
              "      <td>2.492019e+00</td>\n",
              "      <td>3.090775e+00</td>\n",
              "      <td>1.785832e+00</td>\n",
              "    </tr>\n",
              "  </tbody>\n",
              "</table>\n",
              "</div>"
            ],
            "text/plain": [
              "                  0             1             2\n",
              "count  1.500000e+02  1.500000e+02  1.500000e+02\n",
              "mean  -1.690315e-15 -1.842970e-15 -1.698641e-15\n",
              "std    1.003350e+00  1.003350e+00  1.003350e+00\n",
              "min   -1.870024e+00 -2.433947e+00 -1.567576e+00\n",
              "25%   -9.006812e-01 -5.923730e-01 -1.226552e+00\n",
              "50%   -5.250608e-02 -1.319795e-01  3.364776e-01\n",
              "75%    6.745011e-01  5.586108e-01  7.627583e-01\n",
              "max    2.492019e+00  3.090775e+00  1.785832e+00"
            ]
          },
          "metadata": {
            "tags": []
          },
          "execution_count": 7
        }
      ]
    },
    {
      "cell_type": "code",
      "metadata": {
        "id": "YMUuM0i8m4oF",
        "outputId": "d449dd80-d023-4a28-d5ba-ed6440d5ec54",
        "colab": {
          "base_uri": "https://localhost:8080/"
        }
      },
      "source": [
        "transform"
      ],
      "execution_count": 8,
      "outputs": [
        {
          "output_type": "execute_result",
          "data": {
            "text/plain": [
              "array([[-0.90068117,  1.01900435, -1.34022653],\n",
              "       [-1.14301691, -0.13197948, -1.34022653],\n",
              "       [-1.38535265,  0.32841405, -1.39706395],\n",
              "       [-1.50652052,  0.09821729, -1.2833891 ],\n",
              "       [-1.02184904,  1.24920112, -1.34022653],\n",
              "       [-0.53717756,  1.93979142, -1.16971425],\n",
              "       [-1.50652052,  0.78880759, -1.34022653],\n",
              "       [-1.02184904,  0.78880759, -1.2833891 ],\n",
              "       [-1.74885626, -0.36217625, -1.34022653],\n",
              "       [-1.14301691,  0.09821729, -1.2833891 ],\n",
              "       [-0.53717756,  1.47939788, -1.2833891 ],\n",
              "       [-1.26418478,  0.78880759, -1.22655167],\n",
              "       [-1.26418478, -0.13197948, -1.34022653],\n",
              "       [-1.87002413, -0.13197948, -1.51073881],\n",
              "       [-0.05250608,  2.16998818, -1.45390138],\n",
              "       [-0.17367395,  3.09077525, -1.2833891 ],\n",
              "       [-0.53717756,  1.93979142, -1.39706395],\n",
              "       [-0.90068117,  1.01900435, -1.34022653],\n",
              "       [-0.17367395,  1.70959465, -1.16971425],\n",
              "       [-0.90068117,  1.70959465, -1.2833891 ],\n",
              "       [-0.53717756,  0.78880759, -1.16971425],\n",
              "       [-0.90068117,  1.47939788, -1.2833891 ],\n",
              "       [-1.50652052,  1.24920112, -1.56757623],\n",
              "       [-0.90068117,  0.55861082, -1.16971425],\n",
              "       [-1.26418478,  0.78880759, -1.05603939],\n",
              "       [-1.02184904, -0.13197948, -1.22655167],\n",
              "       [-1.02184904,  0.78880759, -1.22655167],\n",
              "       [-0.7795133 ,  1.01900435, -1.2833891 ],\n",
              "       [-0.7795133 ,  0.78880759, -1.34022653],\n",
              "       [-1.38535265,  0.32841405, -1.22655167],\n",
              "       [-1.26418478,  0.09821729, -1.22655167],\n",
              "       [-0.53717756,  0.78880759, -1.2833891 ],\n",
              "       [-0.7795133 ,  2.40018495, -1.2833891 ],\n",
              "       [-0.41600969,  2.63038172, -1.34022653],\n",
              "       [-1.14301691,  0.09821729, -1.2833891 ],\n",
              "       [-1.02184904,  0.32841405, -1.45390138],\n",
              "       [-0.41600969,  1.01900435, -1.39706395],\n",
              "       [-1.14301691,  1.24920112, -1.34022653],\n",
              "       [-1.74885626, -0.13197948, -1.39706395],\n",
              "       [-0.90068117,  0.78880759, -1.2833891 ],\n",
              "       [-1.02184904,  1.01900435, -1.39706395],\n",
              "       [-1.62768839, -1.74335684, -1.39706395],\n",
              "       [-1.74885626,  0.32841405, -1.39706395],\n",
              "       [-1.02184904,  1.01900435, -1.22655167],\n",
              "       [-0.90068117,  1.70959465, -1.05603939],\n",
              "       [-1.26418478, -0.13197948, -1.34022653],\n",
              "       [-0.90068117,  1.70959465, -1.22655167],\n",
              "       [-1.50652052,  0.32841405, -1.34022653],\n",
              "       [-0.65834543,  1.47939788, -1.2833891 ],\n",
              "       [-1.02184904,  0.55861082, -1.34022653],\n",
              "       [ 1.40150837,  0.32841405,  0.53540856],\n",
              "       [ 0.67450115,  0.32841405,  0.42173371],\n",
              "       [ 1.2803405 ,  0.09821729,  0.64908342],\n",
              "       [-0.41600969, -1.74335684,  0.13754657],\n",
              "       [ 0.79566902, -0.59237301,  0.47857113],\n",
              "       [-0.17367395, -0.59237301,  0.42173371],\n",
              "       [ 0.55333328,  0.55861082,  0.53540856],\n",
              "       [-1.14301691, -1.51316008, -0.26031542],\n",
              "       [ 0.91683689, -0.36217625,  0.47857113],\n",
              "       [-0.7795133 , -0.82256978,  0.08070915],\n",
              "       [-1.02184904, -2.43394714, -0.14664056],\n",
              "       [ 0.06866179, -0.13197948,  0.25122143],\n",
              "       [ 0.18982966, -1.97355361,  0.13754657],\n",
              "       [ 0.31099753, -0.36217625,  0.53540856],\n",
              "       [-0.29484182, -0.36217625, -0.08980313],\n",
              "       [ 1.03800476,  0.09821729,  0.36489628],\n",
              "       [-0.29484182, -0.13197948,  0.42173371],\n",
              "       [-0.05250608, -0.82256978,  0.194384  ],\n",
              "       [ 0.4321654 , -1.97355361,  0.42173371],\n",
              "       [-0.29484182, -1.28296331,  0.08070915],\n",
              "       [ 0.06866179,  0.32841405,  0.59224599],\n",
              "       [ 0.31099753, -0.59237301,  0.13754657],\n",
              "       [ 0.55333328, -1.28296331,  0.64908342],\n",
              "       [ 0.31099753, -0.59237301,  0.53540856],\n",
              "       [ 0.67450115, -0.36217625,  0.30805885],\n",
              "       [ 0.91683689, -0.13197948,  0.36489628],\n",
              "       [ 1.15917263, -0.59237301,  0.59224599],\n",
              "       [ 1.03800476, -0.13197948,  0.70592084],\n",
              "       [ 0.18982966, -0.36217625,  0.42173371],\n",
              "       [-0.17367395, -1.05276654, -0.14664056],\n",
              "       [-0.41600969, -1.51316008,  0.02387172],\n",
              "       [-0.41600969, -1.51316008, -0.03296571],\n",
              "       [-0.05250608, -0.82256978,  0.08070915],\n",
              "       [ 0.18982966, -0.82256978,  0.76275827],\n",
              "       [-0.53717756, -0.13197948,  0.42173371],\n",
              "       [ 0.18982966,  0.78880759,  0.42173371],\n",
              "       [ 1.03800476,  0.09821729,  0.53540856],\n",
              "       [ 0.55333328, -1.74335684,  0.36489628],\n",
              "       [-0.29484182, -0.13197948,  0.194384  ],\n",
              "       [-0.41600969, -1.28296331,  0.13754657],\n",
              "       [-0.41600969, -1.05276654,  0.36489628],\n",
              "       [ 0.31099753, -0.13197948,  0.47857113],\n",
              "       [-0.05250608, -1.05276654,  0.13754657],\n",
              "       [-1.02184904, -1.74335684, -0.26031542],\n",
              "       [-0.29484182, -0.82256978,  0.25122143],\n",
              "       [-0.17367395, -0.13197948,  0.25122143],\n",
              "       [-0.17367395, -0.36217625,  0.25122143],\n",
              "       [ 0.4321654 , -0.36217625,  0.30805885],\n",
              "       [-0.90068117, -1.28296331, -0.4308277 ],\n",
              "       [-0.17367395, -0.59237301,  0.194384  ],\n",
              "       [ 0.55333328,  0.55861082,  1.27429511],\n",
              "       [-0.05250608, -0.82256978,  0.76275827],\n",
              "       [ 1.52267624, -0.13197948,  1.21745768],\n",
              "       [ 0.55333328, -0.36217625,  1.0469454 ],\n",
              "       [ 0.79566902, -0.13197948,  1.16062026],\n",
              "       [ 2.12851559, -0.13197948,  1.61531967],\n",
              "       [-1.14301691, -1.28296331,  0.42173371],\n",
              "       [ 1.76501198, -0.36217625,  1.44480739],\n",
              "       [ 1.03800476, -1.28296331,  1.16062026],\n",
              "       [ 1.64384411,  1.24920112,  1.33113254],\n",
              "       [ 0.79566902,  0.32841405,  0.76275827],\n",
              "       [ 0.67450115, -0.82256978,  0.87643312],\n",
              "       [ 1.15917263, -0.13197948,  0.99010798],\n",
              "       [-0.17367395, -1.28296331,  0.70592084],\n",
              "       [-0.05250608, -0.59237301,  0.76275827],\n",
              "       [ 0.67450115,  0.32841405,  0.87643312],\n",
              "       [ 0.79566902, -0.13197948,  0.99010798],\n",
              "       [ 2.24968346,  1.70959465,  1.6721571 ],\n",
              "       [ 2.24968346, -1.05276654,  1.78583195],\n",
              "       [ 0.18982966, -1.97355361,  0.70592084],\n",
              "       [ 1.2803405 ,  0.32841405,  1.10378283],\n",
              "       [-0.29484182, -0.59237301,  0.64908342],\n",
              "       [ 2.24968346, -0.59237301,  1.6721571 ],\n",
              "       [ 0.55333328, -0.82256978,  0.64908342],\n",
              "       [ 1.03800476,  0.55861082,  1.10378283],\n",
              "       [ 1.64384411,  0.32841405,  1.27429511],\n",
              "       [ 0.4321654 , -0.59237301,  0.59224599],\n",
              "       [ 0.31099753, -0.13197948,  0.64908342],\n",
              "       [ 0.67450115, -0.59237301,  1.0469454 ],\n",
              "       [ 1.64384411, -0.13197948,  1.16062026],\n",
              "       [ 1.88617985, -0.59237301,  1.33113254],\n",
              "       [ 2.4920192 ,  1.70959465,  1.50164482],\n",
              "       [ 0.67450115, -0.59237301,  1.0469454 ],\n",
              "       [ 0.55333328, -0.59237301,  0.76275827],\n",
              "       [ 0.31099753, -1.05276654,  1.0469454 ],\n",
              "       [ 2.24968346, -0.13197948,  1.33113254],\n",
              "       [ 0.55333328,  0.78880759,  1.0469454 ],\n",
              "       [ 0.67450115,  0.09821729,  0.99010798],\n",
              "       [ 0.18982966, -0.13197948,  0.59224599],\n",
              "       [ 1.2803405 ,  0.09821729,  0.93327055],\n",
              "       [ 1.03800476,  0.09821729,  1.0469454 ],\n",
              "       [ 1.2803405 ,  0.09821729,  0.76275827],\n",
              "       [-0.05250608, -0.82256978,  0.76275827],\n",
              "       [ 1.15917263,  0.32841405,  1.21745768],\n",
              "       [ 1.03800476,  0.55861082,  1.10378283],\n",
              "       [ 1.03800476, -0.13197948,  0.8195957 ],\n",
              "       [ 0.55333328, -1.28296331,  0.70592084],\n",
              "       [ 0.79566902, -0.13197948,  0.8195957 ],\n",
              "       [ 0.4321654 ,  0.78880759,  0.93327055],\n",
              "       [ 0.06866179, -0.13197948,  0.76275827]])"
            ]
          },
          "metadata": {
            "tags": []
          },
          "execution_count": 8
        }
      ]
    },
    {
      "cell_type": "code",
      "metadata": {
        "id": "ay379WQVlDAo"
      },
      "source": [
        "from scipy.cluster.hierarchy import dendrogram, linkage"
      ],
      "execution_count": 9,
      "outputs": []
    },
    {
      "cell_type": "code",
      "metadata": {
        "id": "WqHadXyHlK68",
        "outputId": "dff8b1c3-a420-46c7-e91f-59de9c68d073",
        "colab": {
          "base_uri": "https://localhost:8080/"
        }
      },
      "source": [
        "link = linkage(transform, method = 'ward')\n",
        "link"
      ],
      "execution_count": 10,
      "outputs": [
        {
          "output_type": "execute_result",
          "data": {
            "text/plain": [
              "array([[0.00000000e+00, 1.70000000e+01, 0.00000000e+00, 2.00000000e+00],\n",
              "       [1.20000000e+01, 4.50000000e+01, 0.00000000e+00, 2.00000000e+00],\n",
              "       [9.00000000e+00, 3.40000000e+01, 0.00000000e+00, 2.00000000e+00],\n",
              "       [1.01000000e+02, 1.42000000e+02, 0.00000000e+00, 2.00000000e+00],\n",
              "       [1.24000000e+02, 1.44000000e+02, 0.00000000e+00, 2.00000000e+00],\n",
              "       [1.28000000e+02, 1.32000000e+02, 0.00000000e+00, 2.00000000e+00],\n",
              "       [8.00000000e+01, 8.10000000e+01, 5.68374269e-02, 2.00000000e+00],\n",
              "       [7.20000000e+01, 1.46000000e+02, 5.68374269e-02, 2.00000000e+00],\n",
              "       [7.00000000e+00, 2.60000000e+01, 5.68374269e-02, 2.00000000e+00],\n",
              "       [1.90000000e+01, 4.60000000e+01, 5.68374269e-02, 2.00000000e+00],\n",
              "       [5.20000000e+01, 1.41000000e+02, 1.13674854e-01, 2.00000000e+00],\n",
              "       [6.70000000e+01, 8.20000000e+01, 1.13674854e-01, 2.00000000e+00],\n",
              "       [2.00000000e+01, 3.10000000e+01, 1.13674854e-01, 2.00000000e+00],\n",
              "       [7.70000000e+01, 1.45000000e+02, 1.13674854e-01, 2.00000000e+00],\n",
              "       [4.00000000e+00, 3.70000000e+01, 1.21167870e-01, 2.00000000e+00],\n",
              "       [1.00000000e+01, 4.80000000e+01, 1.21167870e-01, 2.00000000e+00],\n",
              "       [6.90000000e+01, 8.90000000e+01, 1.33836265e-01, 2.00000000e+00],\n",
              "       [1.27000000e+02, 1.38000000e+02, 1.33836265e-01, 2.00000000e+00],\n",
              "       [7.30000000e+01, 1.26000000e+02, 1.33836265e-01, 2.00000000e+00],\n",
              "       [2.00000000e+00, 4.70000000e+01, 1.33836265e-01, 2.00000000e+00],\n",
              "       [2.80000000e+01, 3.90000000e+01, 1.33836265e-01, 2.00000000e+00],\n",
              "       [1.02000000e+02, 1.29000000e+02, 1.33836265e-01, 2.00000000e+00],\n",
              "       [8.80000000e+01, 9.50000000e+01, 1.33836265e-01, 2.00000000e+00],\n",
              "       [1.00000000e+00, 1.51000000e+02, 1.39912605e-01, 3.00000000e+00],\n",
              "       [4.00000000e+01, 1.50000000e+02, 1.54540808e-01, 3.00000000e+00],\n",
              "       [3.00000000e+01, 1.52000000e+02, 1.54540808e-01, 3.00000000e+00],\n",
              "       [1.36000000e+02, 1.48000000e+02, 1.66143388e-01, 2.00000000e+00],\n",
              "       [6.30000000e+01, 7.80000000e+01, 1.66143388e-01, 2.00000000e+00],\n",
              "       [1.10000000e+02, 1.15000000e+02, 1.66143388e-01, 2.00000000e+00],\n",
              "       [1.30000000e+01, 3.80000000e+01, 1.66143388e-01, 2.00000000e+00],\n",
              "       [1.20000000e+02, 1.43000000e+02, 1.66143388e-01, 2.00000000e+00],\n",
              "       [1.10000000e+01, 2.40000000e+01, 1.70512281e-01, 2.00000000e+00],\n",
              "       [1.16000000e+02, 1.47000000e+02, 1.70512281e-01, 2.00000000e+00],\n",
              "       [6.50000000e+01, 8.60000000e+01, 1.70512281e-01, 2.00000000e+00],\n",
              "       [9.10000000e+01, 1.67000000e+02, 1.78366645e-01, 3.00000000e+00],\n",
              "       [2.90000000e+01, 1.69000000e+02, 1.78366645e-01, 3.00000000e+00],\n",
              "       [4.30000000e+01, 1.74000000e+02, 1.90184460e-01, 4.00000000e+00],\n",
              "       [2.30000000e+01, 4.90000000e+01, 2.09179566e-01, 2.00000000e+00],\n",
              "       [5.00000000e+00, 1.60000000e+01, 2.27349708e-01, 2.00000000e+00],\n",
              "       [5.50000000e+01, 9.90000000e+01, 2.27349708e-01, 2.00000000e+00],\n",
              "       [4.40000000e+01, 1.59000000e+02, 2.29705726e-01, 3.00000000e+00],\n",
              "       [2.70000000e+01, 1.86000000e+02, 2.36138506e-01, 5.00000000e+00],\n",
              "       [6.60000000e+01, 1.72000000e+02, 2.40122062e-01, 3.00000000e+00],\n",
              "       [7.40000000e+01, 9.70000000e+01, 2.42335741e-01, 2.00000000e+00],\n",
              "       [1.23000000e+02, 1.33000000e+02, 2.56734344e-01, 2.00000000e+00],\n",
              "       [5.80000000e+01, 7.50000000e+01, 2.56734344e-01, 2.00000000e+00],\n",
              "       [5.70000000e+01, 9.30000000e+01, 2.60138817e-01, 2.00000000e+00],\n",
              "       [1.39000000e+02, 1.60000000e+02, 2.62520830e-01, 3.00000000e+00],\n",
              "       [1.14000000e+02, 1.53000000e+02, 2.65808330e-01, 3.00000000e+00],\n",
              "       [9.20000000e+01, 1.61000000e+02, 2.65808330e-01, 3.00000000e+00],\n",
              "       [6.80000000e+01, 8.70000000e+01, 2.66275604e-01, 2.00000000e+00],\n",
              "       [1.12000000e+02, 1.40000000e+02, 2.66275604e-01, 2.00000000e+00],\n",
              "       [1.58000000e+02, 1.70000000e+02, 2.69311017e-01, 4.00000000e+00],\n",
              "       [9.60000000e+01, 1.89000000e+02, 2.73790782e-01, 3.00000000e+00],\n",
              "       [1.11000000e+02, 1.94000000e+02, 2.75689991e-01, 3.00000000e+00],\n",
              "       [2.50000000e+01, 1.73000000e+02, 2.83824791e-01, 4.00000000e+00],\n",
              "       [5.10000000e+01, 5.60000000e+01, 2.83891135e-01, 2.00000000e+00],\n",
              "       [9.00000000e+01, 9.40000000e+01, 2.83891135e-01, 2.00000000e+00],\n",
              "       [1.07000000e+02, 1.30000000e+02, 2.83891135e-01, 2.00000000e+00],\n",
              "       [1.04000000e+02, 1.82000000e+02, 2.95335934e-01, 3.00000000e+00],\n",
              "       [1.17000000e+02, 1.31000000e+02, 2.96312418e-01, 2.00000000e+00],\n",
              "       [1.03000000e+02, 1.55000000e+02, 3.00382432e-01, 3.00000000e+00],\n",
              "       [3.00000000e+00, 1.85000000e+02, 3.02369406e-01, 4.00000000e+00],\n",
              "       [8.00000000e+00, 1.79000000e+02, 3.04593580e-01, 3.00000000e+00],\n",
              "       [2.10000000e+01, 1.90000000e+02, 3.04870816e-01, 4.00000000e+00],\n",
              "       [1.05000000e+02, 1.35000000e+02, 3.08940092e-01, 2.00000000e+00],\n",
              "       [8.30000000e+01, 1.98000000e+02, 3.11322462e-01, 4.00000000e+00],\n",
              "       [5.30000000e+01, 1.56000000e+02, 3.12369723e-01, 3.00000000e+00],\n",
              "       [1.37000000e+02, 2.09000000e+02, 3.18603682e-01, 4.00000000e+00],\n",
              "       [1.49000000e+02, 1.84000000e+02, 3.39138770e-01, 4.00000000e+00],\n",
              "       [3.50000000e+01, 1.87000000e+02, 3.58207584e-01, 3.00000000e+00],\n",
              "       [3.60000000e+01, 1.62000000e+02, 3.59159467e-01, 3.00000000e+00],\n",
              "       [6.00000000e+00, 1.81000000e+02, 3.62031586e-01, 3.00000000e+00],\n",
              "       [5.40000000e+01, 7.60000000e+01, 3.80863293e-01, 2.00000000e+00],\n",
              "       [8.40000000e+01, 1.92000000e+02, 3.82468986e-01, 4.00000000e+00],\n",
              "       [1.68000000e+02, 1.77000000e+02, 3.87145486e-01, 4.00000000e+00],\n",
              "       [4.20000000e+01, 2.12000000e+02, 4.04654616e-01, 5.00000000e+00],\n",
              "       [1.63000000e+02, 2.01000000e+02, 4.05796836e-01, 4.00000000e+00],\n",
              "       [7.90000000e+01, 1.99000000e+02, 4.22484325e-01, 4.00000000e+00],\n",
              "       [1.54000000e+02, 1.80000000e+02, 4.22503877e-01, 4.00000000e+00],\n",
              "       [1.00000000e+02, 1.76000000e+02, 4.28054968e-01, 3.00000000e+00],\n",
              "       [7.10000000e+01, 1.93000000e+02, 4.33269124e-01, 3.00000000e+00],\n",
              "       [3.20000000e+01, 3.30000000e+01, 4.33999908e-01, 2.00000000e+00],\n",
              "       [1.75000000e+02, 2.05000000e+02, 4.35572156e-01, 7.00000000e+00],\n",
              "       [5.00000000e+01, 1.97000000e+02, 4.38748821e-01, 4.00000000e+00],\n",
              "       [1.21000000e+02, 2.16000000e+02, 4.63878411e-01, 5.00000000e+00],\n",
              "       [1.64000000e+02, 1.91000000e+02, 4.73043107e-01, 7.00000000e+00],\n",
              "       [1.18000000e+02, 1.22000000e+02, 4.74219545e-01, 2.00000000e+00],\n",
              "       [6.20000000e+01, 2.00000000e+02, 4.76690610e-01, 3.00000000e+00],\n",
              "       [9.80000000e+01, 1.96000000e+02, 4.91713869e-01, 3.00000000e+00],\n",
              "       [1.66000000e+02, 2.17000000e+02, 4.95434107e-01, 5.00000000e+00],\n",
              "       [6.10000000e+01, 2.19000000e+02, 5.05059863e-01, 5.00000000e+00],\n",
              "       [7.00000000e+01, 8.50000000e+01, 5.05685965e-01, 2.00000000e+00],\n",
              "       [1.80000000e+01, 1.88000000e+02, 5.13870800e-01, 3.00000000e+00],\n",
              "       [1.83000000e+02, 1.95000000e+02, 5.19072281e-01, 4.00000000e+00],\n",
              "       [6.40000000e+01, 2.03000000e+02, 5.22221907e-01, 4.00000000e+00],\n",
              "       [1.78000000e+02, 2.06000000e+02, 5.37079216e-01, 4.00000000e+00],\n",
              "       [1.25000000e+02, 1.71000000e+02, 5.45162028e-01, 3.00000000e+00],\n",
              "       [1.19000000e+02, 2.38000000e+02, 5.54478633e-01, 4.00000000e+00],\n",
              "       [5.90000000e+01, 2.07000000e+02, 5.71297674e-01, 3.00000000e+00],\n",
              "       [1.34000000e+02, 1.57000000e+02, 5.75274423e-01, 3.00000000e+00],\n",
              "       [2.02000000e+02, 2.20000000e+02, 5.80216995e-01, 7.00000000e+00],\n",
              "       [1.65000000e+02, 2.14000000e+02, 5.81068351e-01, 6.00000000e+00],\n",
              "       [2.25000000e+02, 2.31000000e+02, 5.86887216e-01, 7.00000000e+00],\n",
              "       [1.40000000e+01, 2.43000000e+02, 6.36127917e-01, 4.00000000e+00],\n",
              "       [2.04000000e+02, 2.11000000e+02, 6.37300965e-01, 6.00000000e+00],\n",
              "       [2.18000000e+02, 2.27000000e+02, 6.37663596e-01, 8.00000000e+00],\n",
              "       [2.08000000e+02, 2.15000000e+02, 7.19210991e-01, 4.00000000e+00],\n",
              "       [1.13000000e+02, 2.35000000e+02, 7.31516923e-01, 6.00000000e+00],\n",
              "       [2.20000000e+01, 2.22000000e+02, 7.42605132e-01, 4.00000000e+00],\n",
              "       [2.24000000e+02, 2.45000000e+02, 7.75279986e-01, 8.00000000e+00],\n",
              "       [1.50000000e+01, 2.32000000e+02, 8.26114452e-01, 3.00000000e+00],\n",
              "       [1.08000000e+02, 2.50000000e+02, 8.26317384e-01, 4.00000000e+00],\n",
              "       [2.28000000e+02, 2.49000000e+02, 8.28785323e-01, 7.00000000e+00],\n",
              "       [2.23000000e+02, 2.44000000e+02, 8.61251880e-01, 6.00000000e+00],\n",
              "       [1.06000000e+02, 2.39000000e+02, 9.59394760e-01, 4.00000000e+00],\n",
              "       [2.42000000e+02, 2.46000000e+02, 9.62359928e-01, 6.00000000e+00],\n",
              "       [2.41000000e+02, 2.53000000e+02, 9.79163832e-01, 1.20000000e+01],\n",
              "       [2.36000000e+02, 2.59000000e+02, 1.02405957e+00, 1.10000000e+01],\n",
              "       [2.21000000e+02, 2.51000000e+02, 1.02759118e+00, 1.00000000e+01],\n",
              "       [1.09000000e+02, 2.10000000e+02, 1.03660934e+00, 3.00000000e+00],\n",
              "       [2.47000000e+02, 2.57000000e+02, 1.03907769e+00, 7.00000000e+00],\n",
              "       [2.29000000e+02, 2.34000000e+02, 1.06889522e+00, 8.00000000e+00],\n",
              "       [2.26000000e+02, 2.33000000e+02, 1.10475396e+00, 1.20000000e+01],\n",
              "       [2.30000000e+02, 2.66000000e+02, 1.10623140e+00, 9.00000000e+00],\n",
              "       [6.00000000e+01, 2.65000000e+02, 1.23823186e+00, 5.00000000e+00],\n",
              "       [2.13000000e+02, 2.73000000e+02, 1.26103506e+00, 1.50000000e+01],\n",
              "       [2.52000000e+02, 2.54000000e+02, 1.29288647e+00, 1.00000000e+01],\n",
              "       [2.55000000e+02, 2.62000000e+02, 1.30323948e+00, 1.00000000e+01],\n",
              "       [2.56000000e+02, 2.64000000e+02, 1.32383756e+00, 1.40000000e+01],\n",
              "       [2.40000000e+02, 2.63000000e+02, 1.36617437e+00, 1.20000000e+01],\n",
              "       [2.68000000e+02, 2.69000000e+02, 1.38475845e+00, 2.10000000e+01],\n",
              "       [2.37000000e+02, 2.71000000e+02, 1.53469729e+00, 9.00000000e+00],\n",
              "       [2.72000000e+02, 2.79000000e+02, 1.78439171e+00, 2.20000000e+01],\n",
              "       [4.10000000e+01, 2.75000000e+02, 1.79761879e+00, 6.00000000e+00],\n",
              "       [2.60000000e+02, 2.67000000e+02, 1.86561079e+00, 2.00000000e+01],\n",
              "       [2.58000000e+02, 2.85000000e+02, 1.92726354e+00, 2.60000000e+01],\n",
              "       [2.61000000e+02, 2.77000000e+02, 2.12125805e+00, 1.30000000e+01],\n",
              "       [2.48000000e+02, 2.80000000e+02, 2.57905580e+00, 1.60000000e+01],\n",
              "       [2.74000000e+02, 2.83000000e+02, 2.69072176e+00, 3.10000000e+01],\n",
              "       [2.78000000e+02, 2.86000000e+02, 3.19867541e+00, 3.60000000e+01],\n",
              "       [2.84000000e+02, 2.88000000e+02, 3.45867185e+00, 2.20000000e+01],\n",
              "       [2.76000000e+02, 2.81000000e+02, 3.95510892e+00, 3.60000000e+01],\n",
              "       [2.70000000e+02, 2.82000000e+02, 3.98716838e+00, 1.20000000e+01],\n",
              "       [2.89000000e+02, 2.93000000e+02, 5.28626450e+00, 4.30000000e+01],\n",
              "       [2.90000000e+02, 2.91000000e+02, 6.29198427e+00, 5.80000000e+01],\n",
              "       [2.87000000e+02, 2.92000000e+02, 6.75408548e+00, 4.90000000e+01],\n",
              "       [2.94000000e+02, 2.95000000e+02, 1.20904582e+01, 1.01000000e+02],\n",
              "       [2.96000000e+02, 2.97000000e+02, 2.26457516e+01, 1.50000000e+02]])"
            ]
          },
          "metadata": {
            "tags": []
          },
          "execution_count": 10
        }
      ]
    },
    {
      "cell_type": "code",
      "metadata": {
        "id": "gZ-G7P2Rlejo"
      },
      "source": [
        "import matplotlib.pyplot as plt"
      ],
      "execution_count": 11,
      "outputs": []
    },
    {
      "cell_type": "code",
      "metadata": {
        "id": "-x48p-g0lRzN",
        "outputId": "103cabf9-5061-40cd-d390-8cece1af030a",
        "colab": {
          "base_uri": "https://localhost:8080/",
          "height": 299
        }
      },
      "source": [
        "dendrograma = dendrogram(link)\n",
        "plt.title('Dendrograma')\n",
        "# plt.xlabel('???')\n",
        "plt.ylabel('Distância Euclidiana ''Transformada''')"
      ],
      "execution_count": 12,
      "outputs": [
        {
          "output_type": "execute_result",
          "data": {
            "text/plain": [
              "Text(0, 0.5, 'Distância Euclidiana Transformada')"
            ]
          },
          "metadata": {
            "tags": []
          },
          "execution_count": 12
        },
        {
          "output_type": "display_data",
          "data": {
            "image/png": "[encoded data removed]",
            "text/plain": [
              "<Figure size 432x288 with 1 Axes>"
            ]
          },
          "metadata": {
            "tags": [],
            "needs_background": "light"
          }
        }
      ]
    },
    {
      "cell_type": "code",
      "metadata": {
        "collapsed": true,
        "id": "f0zUrhtmG2mL"
      },
      "source": [
        "from sklearn import metrics\n",
        "import matplotlib.pyplot as plt\n",
        "import mpl_toolkits.mplot3d.axes3d as p3\n",
        "\n",
        "from sklearn.cluster import AgglomerativeClustering\n",
        "import numpy as np\n",
        "    \n",
        "import pandas as pd \n",
        "\n",
        "import matplotlib.pyplot as plt"
      ],
      "execution_count": 13,
      "outputs": []
    },
    {
      "cell_type": "code",
      "metadata": {
        "id": "AjFJsFdoG2mU",
        "outputId": "1148ca1b-e92f-4019-881c-2cd7cca7f997",
        "colab": {
          "base_uri": "https://localhost:8080/",
          "height": 319
        }
      },
      "source": [
        "ward = AgglomerativeClustering(n_clusters=2,\n",
        "                               linkage='ward').fit(X)\n",
        "label = ward.labels_\n",
        "\n",
        "fig = plt.figure()\n",
        "ax = p3.Axes3D(fig)\n",
        "ax.view_init(7, -80)\n",
        "for l in np.unique(label):\n",
        "    ax.scatter(X[label == l, 0], X[label == l, 1], X[label == l, 2],\n",
        "               color=plt.cm.jet(float(l) / np.max(label + 1)),\n",
        "               s=20, edgecolor='k')\n",
        "plt.show()"
      ],
      "execution_count": 16,
      "outputs": [
        {
          "output_type": "display_data",
          "data": {
            "image/png": "[encoded data removed]",
            "text/plain": [
              "<Figure size 432x288 with 1 Axes>"
            ]
          },
          "metadata": {
            "tags": [],
            "needs_background": "light"
          }
        }
      ]
    },
    {
      "cell_type": "code",
      "metadata": {
        "id": "xnHjHb-KG2mV",
        "outputId": "b98cd521-6855-435f-d05e-8f8dd899d730",
        "colab": {
          "base_uri": "https://localhost:8080/"
        }
      },
      "source": [
        "ward.labels_"
      ],
      "execution_count": 15,
      "outputs": [
        {
          "output_type": "execute_result",
          "data": {
            "text/plain": [
              "array([1, 1, 1, 1, 1, 1, 1, 1, 1, 1, 1, 1, 1, 1, 1, 1, 1, 1, 1, 1, 1, 1,\n",
              "       1, 1, 1, 1, 1, 1, 1, 1, 1, 1, 1, 1, 1, 1, 1, 1, 1, 1, 1, 1, 1, 1,\n",
              "       1, 1, 1, 1, 1, 1, 0, 0, 0, 2, 0, 2, 0, 2, 0, 2, 2, 2, 2, 0, 2, 0,\n",
              "       2, 2, 2, 2, 0, 2, 0, 0, 2, 0, 0, 0, 0, 2, 2, 2, 2, 0, 2, 0, 0, 2,\n",
              "       2, 2, 2, 0, 2, 2, 2, 2, 2, 2, 2, 2, 0, 0, 0, 0, 0, 0, 2, 0, 0, 0,\n",
              "       0, 0, 0, 0, 0, 0, 0, 0, 0, 0, 0, 0, 0, 0, 0, 0, 0, 0, 0, 0, 0, 0,\n",
              "       0, 0, 0, 0, 0, 0, 0, 0, 0, 0, 0, 0, 0, 0, 0, 0, 0, 0])"
            ]
          },
          "metadata": {
            "tags": []
          },
          "execution_count": 15
        }
      ]
    },
    {
      "cell_type": "code",
      "metadata": {
        "collapsed": true,
        "id": "n2VTJJWaG2mV"
      },
      "source": [
        ""
      ],
      "execution_count": 15,
      "outputs": []
    },
    {
      "cell_type": "markdown",
      "metadata": {
        "id": "Erp7Iwf-G2mV"
      },
      "source": [
        "Sobre o Alglomerativo no scikit-learm:\n",
        "    http://scikit-learn.org/stable/modules/generated/sklearn.cluster.AgglomerativeClustering.html"
      ]
    }
  ]
}