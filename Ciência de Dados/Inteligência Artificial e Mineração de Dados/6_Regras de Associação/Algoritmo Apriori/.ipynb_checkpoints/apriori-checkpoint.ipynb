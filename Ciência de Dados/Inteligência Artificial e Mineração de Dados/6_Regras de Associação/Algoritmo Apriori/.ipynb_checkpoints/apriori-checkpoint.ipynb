{
 "cells": [
  {
   "cell_type": "code",
   "execution_count": null,
   "metadata": {},
   "outputs": [],
   "source": [
    "import pandas as pd"
   ]
  },
  {
   "cell_type": "code",
   "execution_count": null,
   "metadata": {},
   "outputs": [],
   "source": [
    "df = pd.read_csv('Market_Basket_Optimisation-tests.csv', header=None)\n",
    "dataset = df.values\n",
    "print (dataset)"
   ]
  },
  {
   "cell_type": "code",
   "execution_count": null,
   "metadata": {},
   "outputs": [],
   "source": [
    "# passo 1: definir o threshhold \n",
    "\n",
    "sThreshold = 0.1\n",
    "numberOfTransactions = len(dataset)"
   ]
  },
  {
   "cell_type": "code",
   "execution_count": null,
   "metadata": {},
   "outputs": [],
   "source": [
    "# passo 2: definir uma tabela que expressa a frequência de cada item\n",
    "\n",
    "# Primeiro criamos uma lista de todos os produtos disponíveis\n",
    "listOfItems = []\n",
    "\n",
    "for i in range(len(dataset)):\n",
    "        for j in range(len(dataset[i])):\n",
    "                if(dataset[i][j] not in listOfItems):\n",
    "                    listOfItems.append(dataset[i][j])\n",
    "\n"
   ]
  },
  {
   "cell_type": "code",
   "execution_count": null,
   "metadata": {},
   "outputs": [],
   "source": [
    "# agora criamos contamos qual a frequência de cada item nas transações\n",
    "\n",
    "singleItemFrequency = {}\n",
    "\n",
    "for item in listOfItems:\n",
    "    frequency = 0\n",
    "    for i in range(len(dataset)):\n",
    "        if(item in dataset[i]):\n",
    "            frequency += 1\n",
    "    singleItemFrequency[item] = frequency\n",
    "    \n",
    "print(singleItemFrequency)"
   ]
  },
  {
   "cell_type": "code",
   "execution_count": null,
   "metadata": {},
   "outputs": [],
   "source": [
    "# Aplicando a exclusão baseado no threshold\n",
    "\n",
    "supportThreshold = len(dataset) * sThreshold\n",
    "print(\"Support Threshold number: \", supportThreshold)"
   ]
  },
  {
   "cell_type": "code",
   "execution_count": null,
   "metadata": {},
   "outputs": [],
   "source": [
    "\n",
    "\n",
    "afterCleaning = {}\n",
    "\n",
    "\n",
    "for key, value in singleItemFrequency.items():\n",
    "    if(value > supportThreshold):\n",
    "        afterCleaning[key]= value\n",
    "        \n",
    "print (afterCleaning)\n"
   ]
  },
  {
   "cell_type": "code",
   "execution_count": null,
   "metadata": {},
   "outputs": [],
   "source": [
    "# Agora fazendo o mesmo procedimento com grupos de 2 produtos\n",
    "\n",
    "def is_in_array(item1, item2, tocheck):\n",
    "    for i in range(len(tocheck)):\n",
    "        if item1 in tocheck[i] and item2 in tocheck[i]:\n",
    "            return True\n",
    "    return False\n",
    "\n",
    "itemFrequency = []\n",
    "\n",
    "for item1 in listOfItems:\n",
    "    for item2 in listOfItems:\n",
    "        if(item1 == item2):\n",
    "            continue\n",
    "        frequency = 0\n",
    "        isIn = is_in_array(item1, item2, itemFrequency)\n",
    "        if (isIn):\n",
    "            continue\n",
    "        for i in range(len(dataset)):\n",
    "            if(item1 and item2 in dataset[i]):\n",
    "                frequency += 1\n",
    "        itemFrequency.append([item1,item2,frequency])\n",
    "    \n",
    "print(itemFrequency)"
   ]
  },
  {
   "cell_type": "code",
   "execution_count": null,
   "metadata": {},
   "outputs": [],
   "source": [
    "twoItemsAfterCleaning = []\n",
    "\n",
    "\n",
    "for i in range(len(itemFrequency)):\n",
    "    if(itemFrequency[i][2] > supportThreshold):\n",
    "        twoItemsAfterCleaning.append(itemFrequency[i])\n",
    "print (twoItemsAfterCleaning)"
   ]
  },
  {
   "cell_type": "code",
   "execution_count": null,
   "metadata": {},
   "outputs": [],
   "source": [
    "for item in twoItemsAfterCleaning:\n",
    "    value = singleItemFrequency[item[0]]\n",
    "    if value <= 0:\n",
    "        value = 1\n",
    "    confiance = (item[2]/numberOfTransactions)/value\n",
    "    print (\"confiança de quem comprou \", item[0], \" em comprar \", item[1], \" = \", confiance)"
   ]
  }
 ],
 "metadata": {
  "kernelspec": {
   "display_name": "Python 3",
   "language": "python",
   "name": "python3"
  },
  "language_info": {
   "codemirror_mode": {
    "name": "ipython",
    "version": 3
   },
   "file_extension": ".py",
   "mimetype": "text/x-python",
   "name": "python",
   "nbconvert_exporter": "python",
   "pygments_lexer": "ipython3",
   "version": "3.6.5"
  }
 },
 "nbformat": 4,
 "nbformat_minor": 2
}
