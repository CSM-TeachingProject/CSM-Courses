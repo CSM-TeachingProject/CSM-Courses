{
 "cells": [
  {
   "cell_type": "code",
   "execution_count": 4,
   "metadata": {},
   "outputs": [],
   "source": [
    "# para importar\n",
    "\n",
    "import numpy as np"
   ]
  },
  {
   "cell_type": "code",
   "execution_count": 6,
   "metadata": {},
   "outputs": [
    {
     "name": "stdout",
     "output_type": "stream",
     "text": [
      "[[1 3 4]\n",
      " [5 3 2]\n",
      " [7 9 1]\n",
      " [9 5 1]]\n"
     ]
    }
   ],
   "source": [
    "# Neste exemplo, vamos usar o NumPy para criar uma matriz. Eu não vou dar as dimensões da matriz e outras informações, \n",
    "# já que vamos usar os atributos acima.\n",
    "\n",
    "my_array = np.array(((1,3,4),\n",
    "                    (5,3,2),\n",
    "                    (7,9,1),\n",
    "                    (9,5,1)))\n",
    "print (my_array)"
   ]
  },
  {
   "cell_type": "code",
   "execution_count": 7,
   "metadata": {},
   "outputs": [
    {
     "name": "stdout",
     "output_type": "stream",
     "text": [
      "int32\n"
     ]
    }
   ],
   "source": [
    "# Para saber o tipo de dados da matriz podemos recorrer ao atributo dtype\n",
    "\n",
    "print (my_array.dtype)"
   ]
  },
  {
   "cell_type": "code",
   "execution_count": 8,
   "metadata": {},
   "outputs": [
    {
     "name": "stdout",
     "output_type": "stream",
     "text": [
      "(4, 3)\n"
     ]
    }
   ],
   "source": [
    "# para saber o formato de um array temos o atributo shape. Ele retorna uma tupla contendo o formato do array\n",
    "\n",
    "print (my_array.shape) #retorna uma tupla informando que o array possui 4 linhas e 3 colunas (4,3)"
   ]
  },
  {
   "cell_type": "code",
   "execution_count": 9,
   "metadata": {},
   "outputs": [
    {
     "name": "stdout",
     "output_type": "stream",
     "text": [
      "12\n"
     ]
    }
   ],
   "source": [
    "# O atributo size retorna o número de elementos na matriz.\n",
    "\n",
    "print (my_array.size)"
   ]
  },
  {
   "cell_type": "code",
   "execution_count": 10,
   "metadata": {},
   "outputs": [
    {
     "name": "stdout",
     "output_type": "stream",
     "text": [
      "4\n"
     ]
    }
   ],
   "source": [
    "# O atributo itemsize retorna o tamanho de um elemento da matriz em bytes.\n",
    "\n",
    "print (my_array.itemsize)"
   ]
  },
  {
   "cell_type": "code",
   "execution_count": 11,
   "metadata": {},
   "outputs": [
    {
     "name": "stdout",
     "output_type": "stream",
     "text": [
      "2\n"
     ]
    }
   ],
   "source": [
    "# O atributo ndim retornará o número de dimensões da matriz\n",
    "# Nesse caso retornará 2, significa que esta matriz consiste de duas dimensões.\n",
    "\n",
    "print (my_array.ndim)"
   ]
  },
  {
   "cell_type": "code",
   "execution_count": 18,
   "metadata": {},
   "outputs": [
    {
     "name": "stdout",
     "output_type": "stream",
     "text": [
      "4\n"
     ]
    }
   ],
   "source": [
    "# para selecionar elementos na matriz podemos usar a seguinte sintaxe\n",
    "\n",
    "print (my_array[0,2])"
   ]
  },
  {
   "cell_type": "code",
   "execution_count": 19,
   "metadata": {},
   "outputs": [
    {
     "name": "stdout",
     "output_type": "stream",
     "text": [
      "[1 3 4]\n"
     ]
    }
   ],
   "source": [
    "# selecionando apenas a primeira coluna\n",
    "\n",
    "print (my_array[0,])"
   ]
  },
  {
   "cell_type": "code",
   "execution_count": 20,
   "metadata": {},
   "outputs": [
    {
     "name": "stdout",
     "output_type": "stream",
     "text": [
      "[[   53902464    75528448]\n",
      " [          0 -2147483648]]\n"
     ]
    }
   ],
   "source": [
    "# criando uma matriz vazia não inicializada utilizando os atributos\n",
    "\n",
    "empty_array = np.empty([2,2], dtype = int)\n",
    "print(empty_array)\n",
    "\n",
    "# O script acima retornará os seguintes valores aleatórios, ja que a matriz não foi inicializada:"
   ]
  },
  {
   "cell_type": "code",
   "execution_count": 21,
   "metadata": {},
   "outputs": [
    {
     "name": "stdout",
     "output_type": "stream",
     "text": [
      "[[0 0]\n",
      " [0 0]]\n"
     ]
    }
   ],
   "source": [
    "# criando uma matriz preenchida com zeros \n",
    "\n",
    "zeros_array = np.zeros([2,2], dtype = int)\n",
    "print(zeros_array)"
   ]
  },
  {
   "cell_type": "code",
   "execution_count": 23,
   "metadata": {},
   "outputs": [
    {
     "name": "stdout",
     "output_type": "stream",
     "text": [
      "[ 1  2  3  4  5  6  7  8  9 10 11 12 13 14 15 16 17 18 19 20 21 22 23 24\n",
      " 25 26 27 28 29 30 31 32 33 34 35 36 37 38 39 40 41 42 43 44 45 46 47 48\n",
      " 49 50 51 52 53 54 55 56 57 58 59 60 61 62 63 64 65 66 67 68 69 70 71 72\n",
      " 73 74 75 76 77 78 79]\n"
     ]
    }
   ],
   "source": [
    "# Nós podemos usar numpy.arange para criar uma matriz com valores uniformemente distribuídos dentro de um intervalo especificado. O construtor tem o seguinte formato:\n",
    "# numpy.arange(start, stop, step, dtype)\n",
    "\n",
    "my_array = np.arange(1,80)\n",
    "print(my_array)"
   ]
  },
  {
   "cell_type": "code",
   "execution_count": 27,
   "metadata": {},
   "outputs": [
    {
     "name": "stdout",
     "output_type": "stream",
     "text": [
      "[[ 6 12]\n",
      " [93  2]\n",
      " [ 5 26]\n",
      " [78 90]\n",
      " [ 3 12]\n",
      " [16 22]\n",
      " [ 5  3]\n",
      " [ 1 16]]\n"
     ]
    }
   ],
   "source": [
    "# para remodelar uma matriz (transforma-la em um vetor ou coloca-la em outro formato) podemos utilizar a função reshape\n",
    "\n",
    "my_array = np.array(((6, 12, 93, 2),\n",
    "                     (5, 26, 78, 90),\n",
    "                     (3, 12, 16, 22),\n",
    "                     (5, 3, 1, 16)))\n",
    " \n",
    "my_array_reshaped = np.reshape(my_array, (8,2))\n",
    "\n",
    "print (my_array_reshaped)"
   ]
  },
  {
   "cell_type": "code",
   "execution_count": 28,
   "metadata": {},
   "outputs": [
    {
     "name": "stdout",
     "output_type": "stream",
     "text": [
      "First Array: \n",
      "[[1 2]\n",
      " [3 4]]\n",
      "Second Array: \n",
      "[[5 6]\n",
      " [7 8]]\n",
      "Third Array: \n",
      "[[ 9 10]\n",
      " [11 12]]\n",
      "Concatenated Array: \n",
      "[[ 1  2]\n",
      " [ 3  4]\n",
      " [ 5  6]\n",
      " [ 7  8]\n",
      " [ 9 10]\n",
      " [11 12]]\n"
     ]
    }
   ],
   "source": [
    "#concatenando matrizes\n",
    "\n",
    "array_1 = np.array(((1, 2),\n",
    "                   (3, 4)))\n",
    " \n",
    "array_2 = np.array(((5, 6),\n",
    "                   (7, 8))) \n",
    " \n",
    "array_3 = np.array(((9, 10),\n",
    "                   (11, 12))) \n",
    " \n",
    "contacted_array = np.concatenate((array_1, array_2, array_3))\n",
    " \n",
    "print('First Array: ')\n",
    "print(array_1)\n",
    "print('Second Array: ')\n",
    "print(array_2)\n",
    "print('Third Array: ')\n",
    "print(array_3)\n",
    "print('Concatenated Array: ')\n",
    "print(contacted_array)"
   ]
  },
  {
   "cell_type": "code",
   "execution_count": 29,
   "metadata": {},
   "outputs": [
    {
     "name": "stdout",
     "output_type": "stream",
     "text": [
      "Original Array:\n",
      "[[ 1  2]\n",
      " [ 3  4]\n",
      " [ 5  6]\n",
      " [ 7  8]\n",
      " [ 9 10]\n",
      " [11 12]]\n",
      "Split Sub-arrays:\n",
      "First Sub-array\n",
      "[[1 2]\n",
      " [3 4]]\n",
      "Second Sub-array\n",
      "[[5 6]\n",
      " [7 8]]\n",
      "Third Sub-array\n",
      "[[ 9 10]\n",
      " [11 12]]\n"
     ]
    }
   ],
   "source": [
    "# dividindo matrizes \n",
    "\n",
    "concatenated_array = np.array(((1, 2),\n",
    "                       (3, 4),\n",
    "                       (5, 6),\n",
    "                       (7, 8),\n",
    "                       (9, 10),\n",
    "                       (11, 12)))\n",
    " \n",
    "split_array = np.split(concatenated_array, 3)\n",
    " \n",
    "print('Original Array:')\n",
    "print(concatenated_array)\n",
    "print('Split Sub-arrays:')\n",
    "print('First Sub-array')\n",
    "print(split_array[0])\n",
    "print('Second Sub-array')\n",
    "print(split_array[1])\n",
    "print('Third Sub-array')\n",
    "print(split_array[2])"
   ]
  }
 ],
 "metadata": {
  "kernelspec": {
   "display_name": "Python 3",
   "language": "python",
   "name": "python3"
  },
  "language_info": {
   "codemirror_mode": {
    "name": "ipython",
    "version": 3
   },
   "file_extension": ".py",
   "mimetype": "text/x-python",
   "name": "python",
   "nbconvert_exporter": "python",
   "pygments_lexer": "ipython3",
   "version": "3.7.0"
  }
 },
 "nbformat": 4,
 "nbformat_minor": 2
}
