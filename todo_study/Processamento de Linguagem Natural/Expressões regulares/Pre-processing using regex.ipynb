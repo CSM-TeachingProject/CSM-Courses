{
 "cells": [
  {
   "cell_type": "code",
   "execution_count": 11,
   "metadata": {},
   "outputs": [],
   "source": [
    "import re"
   ]
  },
  {
   "cell_type": "code",
   "execution_count": 15,
   "metadata": {},
   "outputs": [],
   "source": [
    "file = open('sampleText', 'rb')\n",
    "content = file.read()\n",
    "content = str(content)"
   ]
  },
  {
   "cell_type": "code",
   "execution_count": 17,
   "metadata": {},
   "outputs": [
    {
     "data": {
      "text/plain": [
       "'b r n La France redirects here For other uses of La France see Lafrance disambiguation For other uses of France see France disambiguation r n r nFrance officially the Frenc h Republic French R xc3 xa9publique fran xc3 xa7aise pronounced is a coun try whose territory consists of metropolitan France in We stern Europe and several overseas regions and territories XIII The metropolitan area of France extends from the Mediterranean Sea to the English Channel and the North Sea and from the Rhine to the Atlantic Ocean It is bordered by Belgium Luxembourg and Germany to the northeast Switzerland and Italy to the east and Andorra and Spain to the south The overseas territories include French Guiana in South America and several islands in the At lantic Pacific and Indian oceans The country s 18 integral regions five of which are situated overseas span a combined area of 643 801 sq uare kilometres 248 573 sq mi and a total population of 67 3 million as of October 2018 10 France a sovereign state is a unitary semi presidential republic with its capital in Paris the country s largest city and main cultural and commercial centre Other major urban areas include Lyon Marseille Toulouse Bordeaux Lille and Nice r n r nDuring the Iron Age what is now metropolitan France was inhabited by the Gauls a Celtic people Rome annexed the area in 51 BC holding it until the arrival of Germanic Franks in 476 who formed the Kingdom of France France emerged as a major Euro pean power in the Late Middle Ages following its victory in the Hundred Years War 1337 to 1453 During the Renaissance French culture flourished and a global colonial e mpire was established which by the 20th century would become the second largest in the world 11 The 16th c entury was dominate d by religious civil wars between Catholics and Protestants Huguenots France became Europe s dominant cultural political and military power in the 17th century under Louis XIV 12 In the late 18th century the French Revolution overthrew the absolute monarchy established one of modern history s earliest republics and saw the drafting of the Declar ation of the Rights of Man and of the Citizen which expresses the nation s ideals to this day r n r nIn the 19th century Napoleon took power and established the First French Empire His subsequent Napoleonic Wars shaped the course of continental Europe Following the colla pse of the Empire France endured a tumultuous succession of governments culminating with the establishment of the French Third Republic in 1870 France was a major participant in World War I from which it emerged victorious and was one of the Allies in World War II but came under occupation by the Axis powers in 1940 Following liberation in 1944 a Fourth Republic was established and later dissolved in the course of the Algerian War The Fifth Republic led by Charles de Gaulle was formed in 1958 and remains today Algeria and nearly all the other colonies became independent in the 1960s and typically retained close economic and military connections with France r n r nFrance has long been a global centre of art science and philosophy It hosts the world s fourth largest number of UNESCO World Heritage Sites and is the leading tourist dest ination receiving around 83 million foreign visitors annually 13 France is a developed country with the world s seventh largest economy by nomi nal GDP 14 and tenth largest by purchasing power parity 15 In terms of aggregate household wealth it ranks fourth in the world 16 France performs well in international rankings of education health care life expectancy and human development 17 18 France is considered a great power in global affairs 19 being one of the five permanent members of the United Nations Security Council with the power to veto and an official nuclear weapon state It is a leading member state of the European Union and the Eurozone 20 and a member of the Group of 7 North Atlantic Treaty Organization NATO Organisation for Economic Co operation and Development OECD the World Trade Organization WTO and La Francophonie '"
      ]
     },
     "execution_count": 17,
     "metadata": {},
     "output_type": "execute_result"
    }
   ],
   "source": [
    "#remove any digit that you do not want in text\n",
    "removeSharp = re.sub('[^A-Za-z0-9]+', ' ', content)\n",
    "removeSharp"
   ]
  },
  {
   "cell_type": "code",
   "execution_count": null,
   "metadata": {},
   "outputs": [],
   "source": []
  }
 ],
 "metadata": {
  "kernelspec": {
   "display_name": "Python 3",
   "language": "python",
   "name": "python3"
  },
  "language_info": {
   "codemirror_mode": {
    "name": "ipython",
    "version": 3
   },
   "file_extension": ".py",
   "mimetype": "text/x-python",
   "name": "python",
   "nbconvert_exporter": "python",
   "pygments_lexer": "ipython3",
   "version": "3.6.5"
  },
  "varInspector": {
   "cols": {
    "lenName": 16,
    "lenType": 16,
    "lenVar": 40
   },
   "kernels_config": {
    "python": {
     "delete_cmd_postfix": "",
     "delete_cmd_prefix": "del ",
     "library": "var_list.py",
     "varRefreshCmd": "print(var_dic_list())"
    },
    "r": {
     "delete_cmd_postfix": ") ",
     "delete_cmd_prefix": "rm(",
     "library": "var_list.r",
     "varRefreshCmd": "cat(var_dic_list()) "
    }
   },
   "types_to_exclude": [
    "module",
    "function",
    "builtin_function_or_method",
    "instance",
    "_Feature"
   ],
   "window_display": false
  }
 },
 "nbformat": 4,
 "nbformat_minor": 2
}
