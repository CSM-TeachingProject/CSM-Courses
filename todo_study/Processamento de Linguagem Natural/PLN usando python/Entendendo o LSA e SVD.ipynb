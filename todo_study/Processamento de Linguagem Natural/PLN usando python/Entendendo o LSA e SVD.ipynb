{
 "cells": [
  {
   "cell_type": "markdown",
   "metadata": {},
   "source": [
    "# Exemplo 01 - aplicando o  PCA dentro de um vetor simples de palavras"
   ]
  },
  {
   "cell_type": "code",
   "execution_count": 6,
   "metadata": {},
   "outputs": [],
   "source": [
    "from sklearn.feature_extraction.text import TfidfVectorizer\n",
    "from sklearn.decomposition import TruncatedSVD"
   ]
  },
  {
   "cell_type": "code",
   "execution_count": 7,
   "metadata": {},
   "outputs": [],
   "source": [
    "# inserimos um texto aleatório\n",
    "dataset = [ \"the amount of polution is increasing day by day\",\n",
    "          \"The concert was just great\",\n",
    "          \"I love to see Gordom Ramsay Cook\",\n",
    "          \"Google is introducing a new technology\",\n",
    "          \"AI Robots are examples of great technology present today\",\n",
    "          \"All of us were singing in the concert\",\n",
    "           \"We have launch campaings to stop pollution and  global warming\"]"
   ]
  },
  {
   "cell_type": "code",
   "execution_count": 11,
   "metadata": {},
   "outputs": [
    {
     "name": "stdout",
     "output_type": "stream",
     "text": [
      "[ 1.24191973e-01  1.78240252e-01  1.14460798e-01  7.78505294e-17\n",
      "  1.24191973e-01  1.14460798e-01  7.78505294e-17  3.44988739e-01\n",
      " -1.58354960e-16  2.28921595e-01  1.24191973e-01  7.78505294e-17\n",
      "  9.72770950e-02 -1.58354960e-16  3.00124026e-01  7.78505294e-17\n",
      "  1.78240252e-01  1.14460798e-01  9.72770950e-02  1.75760635e-01\n",
      "  2.37365829e-01  7.78505294e-17 -1.58354960e-16  9.72770950e-02\n",
      "  2.95798061e-01  7.78505294e-17  1.14460798e-01  1.24191973e-01\n",
      " -1.58354960e-16  1.24191973e-01 -1.58354960e-16  1.78240252e-01\n",
      "  7.78505294e-17  1.83838346e-01  3.76098295e-01 -6.68255908e-17\n",
      "  1.24191973e-01  1.78240252e-01  7.78505294e-17  2.37365829e-01\n",
      "  7.78505294e-17  1.78240252e-01]\n"
     ]
    }
   ],
   "source": [
    "dataset = [line.lower() for line in dataset]\n",
    "vectorizer = TfidfVectorizer()\n",
    "x = vectorizer.fit_transform(dataset)\n",
    "\n",
    "lsa = TruncatedSVD(n_components = 4, n_iter = 100)\n",
    "\n",
    "lsa.fit(x)\n",
    "\n",
    "# veja como o LSA armazena os valores:\n",
    "row1 = lsa.components_[0]"
   ]
  },
  {
   "cell_type": "code",
   "execution_count": 15,
   "metadata": {},
   "outputs": [
    {
     "name": "stdout",
     "output_type": "stream",
     "text": [
      "\n",
      " Concept 0 :\n",
      "('the', 0.37609829529263766)\n",
      "('concert', 0.34498873923306617)\n",
      "('great', 0.3001240258948736)\n",
      "('of', 0.295798060952667)\n",
      "('just', 0.23736582929791203)\n",
      "('was', 0.23736582929791203)\n",
      "('day', 0.2289215954150454)\n",
      "('technology', 0.18383834567413398)\n",
      "('all', 0.17824025175629002)\n",
      "('in', 0.17824025175629002)\n",
      "\n",
      " Concept 1 :\n",
      "('to', 0.415788443967007)\n",
      "('cook', 0.28359165793510743)\n",
      "('gordom', 0.28359165793510743)\n",
      "('love', 0.28359165793510743)\n",
      "('ramsay', 0.28359165793510743)\n",
      "('see', 0.28359165793510743)\n",
      "('and', 0.21730644711292454)\n",
      "('campaings', 0.21730644711292454)\n",
      "('global', 0.21730644711292454)\n",
      "('have', 0.21730644711292454)\n",
      "\n",
      " Concept 2 :\n",
      "('technology', 0.37791806767144065)\n",
      "('is', 0.3419614380631981)\n",
      "('google', 0.34139694419097444)\n",
      "('introducing', 0.34139694419097444)\n",
      "('new', 0.34139694419097444)\n",
      "('day', 0.14112432680994638)\n",
      "('are', 0.11387892195373125)\n",
      "('examples', 0.11387892195373125)\n",
      "('present', 0.11387892195373125)\n",
      "('robots', 0.11387892195373125)\n",
      "\n",
      " Concept 3 :\n",
      "('day', 0.4654267679041111)\n",
      "('amount', 0.23271338395205565)\n",
      "('by', 0.23271338395205554)\n",
      "('increasing', 0.23271338395205554)\n",
      "('polution', 0.23271338395205554)\n",
      "('is', 0.21264455202450178)\n",
      "('the', 0.12724213180694274)\n",
      "('in', 0.056446647527264485)\n",
      "('singing', 0.056446647527264485)\n",
      "('us', 0.056446647527264485)\n"
     ]
    }
   ],
   "source": [
    "terms = vectorizer.get_feature_names()\n",
    "for i,comp in enumerate(lsa.components_):\n",
    "    componentTerms = zip(terms, comp)\n",
    "    sortedTerms = sorted(componentTerms, key = lambda x:x[1], reverse = True)\n",
    "    sortedTerms = sortedTerms [:10]\n",
    "    print (\"\\n Concept\", i, \":\")\n",
    "    for term in sortedTerms:\n",
    "        print(term)"
   ]
  },
  {
   "cell_type": "markdown",
   "metadata": {},
   "source": [
    "# Exemplo 02 - usando SVD na base de titulos"
   ]
  },
  {
   "cell_type": "code",
   "execution_count": 70,
   "metadata": {},
   "outputs": [],
   "source": [
    "import nltk\n",
    "import numpy as np\n",
    "import matplotlib.pyplot as plt\n",
    "from nltk.stem import WordNetLemmatizer\n",
    "from sklearn.decomposition import TruncatedSVD\n"
   ]
  },
  {
   "cell_type": "code",
   "execution_count": 89,
   "metadata": {},
   "outputs": [],
   "source": [
    "#instancia o objeto\n",
    "wordnet_lemmatizer = WordNetLemmatizer()\n",
    "\n",
    "titles = [line.rstrip() for line in open('../Datasets/bookTitlesSL1.txt')]\n",
    "\n",
    "# copy tokenizer from sentiment example\n",
    "stopwords = set(w.rstrip() for w in open('resources/stopwords.txt'))\n",
    "\n",
    "\n"
   ]
  },
  {
   "cell_type": "code",
   "execution_count": 90,
   "metadata": {},
   "outputs": [],
   "source": [
    "# note: você pode usar stopwords do próprio NLTK\n",
    "# from nltk.corpus import stopwords\n",
    "# stopwords.words('english')\n",
    "\n",
    "# Aqui podemos introduzir algumas stopwords mais específicas pra esse problema\n",
    "stopwords = stopwords.union({\n",
    "    'introduction', 'edition', 'series', 'application',\n",
    "    'approach', 'card', 'access', 'package', 'plus', 'etext',\n",
    "    'brief', 'vol', 'fundamental', 'guide', 'essential', 'printed',\n",
    "    'third', 'second', 'fourth', })\n",
    "\n"
   ]
  },
  {
   "cell_type": "code",
   "execution_count": 91,
   "metadata": {},
   "outputs": [],
   "source": [
    "# define a função de tokenização\n",
    "\n",
    "def my_tokenizer(s):\n",
    "    s = s.lower() # reduz as frases para letras minusculas\n",
    "    tokens = nltk.tokenize.word_tokenize(s) # Separa as frases em palavras (tokens)\n",
    "    tokens = [t for t in tokens if len(t) > 2] # Remove palavras menores (provavelmente não importantes)\n",
    "    tokens = [wordnet_lemmatizer.lemmatize(t) for t in tokens] # coloca as palavras na sua forma base (lemma)\n",
    "    tokens = [t for t in tokens if t not in stopwords] # Remove palavras sem muito significado (stopwords)\n",
    "    tokens = [t for t in tokens if not any(c.isdigit() for c in t)] # remove qualquer dígito\n",
    "    return tokens\n",
    "\n",
    "\n"
   ]
  },
  {
   "cell_type": "code",
   "execution_count": 92,
   "metadata": {},
   "outputs": [
    {
     "name": "stdout",
     "output_type": "stream",
     "text": [
      "Exemplo do que cada vetor contém:\n",
      "\n",
      "Word_index_map:  [('philosophy', 0), ('sex', 1), ('love', 2), ('reader', 3), ('reading', 4)]\n",
      "title:  ['Philosophy of Sex and Love A Reader']\n",
      "tokens:  [['philosophy', 'sex', 'love', 'reader']]\n",
      "index_map:  ['philosophy']\n",
      "Number of errors parsing file: 0 number of lines in file: 250\n"
     ]
    }
   ],
   "source": [
    "# Agora devemos criar um mapa word-to-index. Assim podemos criar os vetores de frequência mais tarde\n",
    "# Vamos salvar também as versões tokenizadas (para não precisar tokenizar denovo)\n",
    "\n",
    "\n",
    "word_index_map = {}\n",
    "current_index = 0\n",
    "all_tokens = []\n",
    "all_titles = []\n",
    "index_word_map = []\n",
    "error_count = 0\n",
    "\n",
    "\n",
    "for title in titles:\n",
    "    try:\n",
    "        title = title.encode('ascii', 'ignore').decode('utf-8') # Isso vai jogar uma exceção se tiverem caracteres errados\n",
    "        all_titles.append(title)\n",
    "        tokens = my_tokenizer(title)\n",
    "        all_tokens.append(tokens)\n",
    "        for token in tokens:\n",
    "            if token not in word_index_map:\n",
    "                word_index_map[token] = current_index\n",
    "                current_index += 1\n",
    "                index_word_map.append(token)\n",
    "    except Exception as e:\n",
    "        print(e)\n",
    "        print(title)\n",
    "        error_count += 1\n",
    "\n",
    "## apenas exibe um exemplo\n",
    "dict_items = word_index_map.items()\n",
    "\n",
    "print(\"Exemplo do que cada vetor contém:\\n\")\n",
    "print(\"Word_index_map: \", list(dict_items)[:5])\n",
    "print(\"title: \",all_titles[:1])\n",
    "print(\"tokens: \", all_tokens[:1])\n",
    "print(\"index_map: \", index_word_map[:1])\n",
    "\n",
    "\n",
    "## mostra um relatório de erros\n",
    "print(\"Number of errors parsing file:\", error_count, \"number of lines in file:\", len(titles))\n",
    "if error_count == len(titles):\n",
    "    print(\"There is no data to do anything with! Quitting...\")\n",
    "    exit()\n",
    "\n"
   ]
  },
  {
   "cell_type": "code",
   "execution_count": 93,
   "metadata": {},
   "outputs": [
    {
     "name": "stdout",
     "output_type": "stream",
     "text": [
      "250 385\n"
     ]
    }
   ],
   "source": [
    "\n",
    "# transforma tokens para vetores\n",
    "def tokens_to_vector(tokens):\n",
    "    x = np.zeros(len(word_index_map))\n",
    "    for t in tokens:\n",
    "        i = word_index_map[t]\n",
    "        x[i] = 1\n",
    "    return x\n",
    "\n",
    "\n",
    "N = len(all_tokens)\n",
    "D = len(word_index_map)\n",
    "X = np.zeros((D, N)) # Cria uma matriz gigante de zeros baseado na quantidade de tokens e documentos\n",
    "i = 0\n",
    "\n",
    "\n",
    "#chama a função de transformação de vetores para cada linha do array\n",
    "for tokens in all_tokens:\n",
    "    X[:,i] = tokens_to_vector(tokens)\n",
    "    i += 1\n",
    "\n",
    "print( N, D)\n",
    "    "
   ]
  },
  {
   "cell_type": "code",
   "execution_count": 94,
   "metadata": {},
   "outputs": [
    {
     "name": "stderr",
     "output_type": "stream",
     "text": [
      "<ipython-input-94-ec803649f12f>:8: MatplotlibDeprecationWarning: The 's' parameter of annotate() has been renamed 'text' since Matplotlib 3.3; support for the old name will be dropped two minor releases later.\n",
      "  plt.annotate(s=index_word_map[i], xy=(Z[i,0], Z[i,1]))\n"
     ]
    },
    {
     "data": {
      "image/png": "[encoded data removed]",
      "text/plain": [
       "<Figure size 432x288 with 1 Axes>"
      ]
     },
     "metadata": {
      "needs_background": "light"
     },
     "output_type": "display_data"
    }
   ],
   "source": [
    "\n",
    "svd = TruncatedSVD()\n",
    "Z = svd.fit_transform(X)\n",
    "\n",
    "\n",
    "plt.scatter(Z[:,0], Z[:,1])\n",
    "\n",
    "for i in range(D):\n",
    "    plt.annotate(s=index_word_map[i], xy=(Z[i,0], Z[i,1]))\n",
    "plt.show()\n",
    "\n"
   ]
  },
  {
   "cell_type": "code",
   "execution_count": null,
   "metadata": {},
   "outputs": [],
   "source": []
  }
 ],
 "metadata": {
  "kernelspec": {
   "display_name": "Python 3",
   "language": "python",
   "name": "python3"
  },
  "language_info": {
   "codemirror_mode": {
    "name": "ipython",
    "version": 3
   },
   "file_extension": ".py",
   "mimetype": "text/x-python",
   "name": "python",
   "nbconvert_exporter": "python",
   "pygments_lexer": "ipython3",
   "version": "3.8.5"
  }
 },
 "nbformat": 4,
 "nbformat_minor": 2
}
