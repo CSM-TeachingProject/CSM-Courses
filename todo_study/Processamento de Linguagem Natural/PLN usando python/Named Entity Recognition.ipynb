{
 "cells": [
  {
   "cell_type": "code",
   "execution_count": 4,
   "metadata": {},
   "outputs": [],
   "source": [
    "import nltk\n",
    "\n",
    "paragraph = \"The Taj Mahal was built by Emperor Shah Jahan\""
   ]
  },
  {
   "cell_type": "code",
   "execution_count": 5,
   "metadata": {},
   "outputs": [],
   "source": [
    "# separa cada palavra\n",
    "words = nltk.word_tokenize(paragraph)\n",
    "# faz o POS-Tagging\n",
    "tagged_words = nltk.pos_tag(words)\n"
   ]
  },
  {
   "cell_type": "code",
   "execution_count": 7,
   "metadata": {},
   "outputs": [],
   "source": [
    "# aqui você poderá encontrar entidades como: \n",
    "# orgnizações, pessoas, localizações, data, tempo, porcentagem, lugares, posição global\n",
    "\n",
    "named_entity = nltk.ne_chunk(tagged_words)\n",
    "named_entity.draw()"
   ]
  }
 ],
 "metadata": {
  "kernelspec": {
   "display_name": "Python 3",
   "language": "python",
   "name": "python3"
  },
  "language_info": {
   "codemirror_mode": {
    "name": "ipython",
    "version": 3
   },
   "file_extension": ".py",
   "mimetype": "text/x-python",
   "name": "python",
   "nbconvert_exporter": "python",
   "pygments_lexer": "ipython3",
   "version": "3.7.0"
  }
 },
 "nbformat": 4,
 "nbformat_minor": 2
}
