{
 "cells": [
  {
   "cell_type": "code",
   "execution_count": 3,
   "metadata": {},
   "outputs": [],
   "source": [
    "import bs4 as bs\n",
    "import urllib.request\n",
    "import re\n",
    "import nltk\n",
    "import heapq"
   ]
  },
  {
   "cell_type": "code",
   "execution_count": 4,
   "metadata": {},
   "outputs": [],
   "source": [
    "# pegando dados da wikipedia\n",
    "\n",
    "source = urllib.request.urlopen(\"https://en.wikipedia.org/wiki/France\").read()"
   ]
  },
  {
   "cell_type": "code",
   "execution_count": 5,
   "metadata": {},
   "outputs": [],
   "source": [
    "soup = bs.BeautifulSoup(source,'lxml')\n",
    "\n",
    "text = \"\"\n",
    "\n",
    "for paragraph in soup.find_all('p'):\n",
    "    text += paragraph.text\n",
    "    \n"
   ]
  },
  {
   "cell_type": "code",
   "execution_count": 6,
   "metadata": {},
   "outputs": [],
   "source": [
    "# preprocessing the text\n",
    "\n",
    "text = re.sub(r'\\[[0-9]*\\]',' ', text)\n",
    "text = re.sub(r'\\s+',' ', text)\n",
    "\n",
    "clean_text = text.lower()\n",
    "clean_text = re.sub(r'\\W', ' ', clean_text)\n",
    "clean_text = re.sub(r'\\d', ' ', clean_text)\n",
    "clean_text = re.sub(r'\\s+', ' ', clean_text)\n",
    "\n",
    "sentences = nltk.sent_tokenize(text)\n",
    "\n",
    "stop_words = nltk.corpus.stopwords.words('english')\n"
   ]
  },
  {
   "cell_type": "code",
   "execution_count": 7,
   "metadata": {},
   "outputs": [],
   "source": [
    "word2count = {}\n",
    "\n",
    "for word in nltk.word_tokenize(clean_text):\n",
    "    if word not in stop_words:\n",
    "        if word not in word2count.keys():\n",
    "            word2count[word] = 1\n",
    "        else:\n",
    "            word2count[word] += 1 \n",
    "\n",
    "for key in word2count.keys():\n",
    "    word2count[key] = word2count[key] /max(word2count.values())"
   ]
  },
  {
   "cell_type": "code",
   "execution_count": 8,
   "metadata": {},
   "outputs": [],
   "source": [
    "sent2score = {}\n",
    "\n",
    "for sentence in sentences:\n",
    "    for word in nltk.word_tokenize(sentence.lower()):\n",
    "        if word in word2count.keys():\n",
    "            if len(sentence.split(' ')) < 30:\n",
    "                if sentence not in sent2score.keys():\n",
    "                    sent2score[sentence] = word2count[word]\n",
    "                else:\n",
    "                    sent2score[sentence] += word2count[word]"
   ]
  },
  {
   "cell_type": "code",
   "execution_count": 10,
   "metadata": {},
   "outputs": [
    {
     "name": "stdout",
     "output_type": "stream",
     "text": [
      "-------------------------------------------------------------\n",
      "\n",
      "The Stade de France in Saint-Denis is France's largest stadium and was the venue for the 1998 FIFA World Cup and 2007 Rugby World Cup finals.\n",
      "France has hosted events such as the 1938 and 1998 FIFA World Cups, the 2007 Rugby World Cup, and will host the 2023 Rugby World Cup.\n",
      "The national rugby union team has competed at every Rugby World Cup, and takes part in the annual Six Nations Championship.\n",
      "The Catalans Dragons and Toulouse Olympique are the most notable clubs currently playing in Super League and the RFL Championship is the top-tier rugby league competitions in Europe.\n",
      "The four existing national channels are now owned by state-owned consortium France Télévisions, while public broadcasting group Radio France run five national radio stations.\n",
      ":66 Électricité de France (EDF), the main electricity generation and distribution company in France, is also one of the world's largest producers of electricity.\n",
      "Several major tennis tournaments take place in France, including the Paris Masters and the French Open, one of the four Grand Slam tournaments.\n",
      "The Ministry of Culture has been very active since its creation, granting subsidies to artists, promoting French culture in the world, supporting festivals and cultural events, protecting historical monuments.\n",
      "With 83 million foreign tourists in 2012, France is ranked as the first tourist destination in the world, ahead of the United States (67 million) and China (58 million).\n",
      "[full citation needed] French composers played an important role during the music of the 19th and early 20th century, which is considered to be the Romantic music era.\n"
     ]
    }
   ],
   "source": [
    "best_sentences = heapq.nlargest(10, sent2score,key=sent2score.get)\n",
    "\n",
    "print(\"-------------------------------------------------------------\\n\")\n",
    "for sentence in best_sentences:\n",
    "    print(sentence)"
   ]
  },
  {
   "cell_type": "code",
   "execution_count": null,
   "metadata": {},
   "outputs": [],
   "source": []
  }
 ],
 "metadata": {
  "kernelspec": {
   "display_name": "Python 3",
   "language": "python",
   "name": "python3"
  },
  "language_info": {
   "codemirror_mode": {
    "name": "ipython",
    "version": 3
   },
   "file_extension": ".py",
   "mimetype": "text/x-python",
   "name": "python",
   "nbconvert_exporter": "python",
   "pygments_lexer": "ipython3",
   "version": "3.6.5"
  }
 },
 "nbformat": 4,
 "nbformat_minor": 2
}
