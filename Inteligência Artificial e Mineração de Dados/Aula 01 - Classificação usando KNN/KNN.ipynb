{
 "cells": [
  {
   "cell_type": "code",
   "execution_count": 1,
   "metadata": {},
   "outputs": [
    {
     "name": "stdout",
     "output_type": "stream",
     "text": [
      "É de terror\n"
     ]
    }
   ],
   "source": [
    "# filmes [ engraçado, dramatico, assustador, nojento, futurista]\n",
    "\n",
    "filme1= [0,3,5,5,0]\n",
    "filme2= [5,0,0,0,0]\n",
    "filme3= [5,5,0,0,0]\n",
    "filme4=[0,0,5,5,0]\n",
    "isTerror = [1,0,0,1]\n",
    "\n",
    "X = [filme1,filme2,filme3,filme4]\n",
    "y = isTerror\n",
    "\n",
    "from sklearn.neighbors import KNeighborsClassifier\n",
    "\n",
    "neigh = KNeighborsClassifier(n_neighbors=2)\n",
    "\n",
    "neigh.fit(X, y) \n",
    "\n",
    "novoFilme = [[0,1,5,5,0]]\n",
    "\n",
    "if neigh.predict(novoFilme) == 1 :\n",
    "    print(\"É de terror\")\n",
    "else:\n",
    "    print(\"não é de terror\")"
   ]
  },
  {
   "cell_type": "code",
   "execution_count": null,
   "metadata": {},
   "outputs": [],
   "source": []
  }
 ],
 "metadata": {
  "kernelspec": {
   "display_name": "Python 3",
   "language": "python",
   "name": "python3"
  },
  "language_info": {
   "codemirror_mode": {
    "name": "ipython",
    "version": 3
   },
   "file_extension": ".py",
   "mimetype": "text/x-python",
   "name": "python",
   "nbconvert_exporter": "python",
   "pygments_lexer": "ipython3",
   "version": "3.6.5"
  },
  "varInspector": {
   "cols": {
    "lenName": 16,
    "lenType": 16,
    "lenVar": 40
   },
   "kernels_config": {
    "python": {
     "delete_cmd_postfix": "",
     "delete_cmd_prefix": "del ",
     "library": "var_list.py",
     "varRefreshCmd": "print(var_dic_list())"
    },
    "r": {
     "delete_cmd_postfix": ") ",
     "delete_cmd_prefix": "rm(",
     "library": "var_list.r",
     "varRefreshCmd": "cat(var_dic_list()) "
    }
   },
   "types_to_exclude": [
    "module",
    "function",
    "builtin_function_or_method",
    "instance",
    "_Feature"
   ],
   "window_display": false
  }
 },
 "nbformat": 4,
 "nbformat_minor": 2
}
