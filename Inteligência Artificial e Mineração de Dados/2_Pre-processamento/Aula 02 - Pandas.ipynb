{
 "cells": [
  {
   "cell_type": "code",
   "execution_count": 3,
   "metadata": {},
   "outputs": [],
   "source": [
    "#para importar\n",
    "\n",
    "import numpy as np\n",
    "import pandas as pd"
   ]
  },
  {
   "cell_type": "code",
   "execution_count": 5,
   "metadata": {},
   "outputs": [
    {
     "name": "stdout",
     "output_type": "stream",
     "text": [
      "0    1\n",
      "1    2\n",
      "2    3\n",
      "3    4\n",
      "4    5\n",
      "dtype: int64\n"
     ]
    }
   ],
   "source": [
    "# para criar uma série no pandas\n",
    "\n",
    "x = pd.Series([1,2,3,4,5])\n",
    "\n",
    "print (x)"
   ]
  },
  {
   "cell_type": "code",
   "execution_count": 7,
   "metadata": {},
   "outputs": [
    {
     "name": "stdout",
     "output_type": "stream",
     "text": [
      "0    101\n",
      "1    102\n",
      "2    103\n",
      "3    104\n",
      "4    105\n",
      "dtype: int64\n"
     ]
    }
   ],
   "source": [
    "# Para realizar operações a essas séries\n",
    "\n",
    "print(x + 100)"
   ]
  },
  {
   "cell_type": "code",
   "execution_count": 8,
   "metadata": {},
   "outputs": [
    {
     "name": "stdout",
     "output_type": "stream",
     "text": [
      "0    False\n",
      "1    False\n",
      "2     True\n",
      "3     True\n",
      "4     True\n",
      "dtype: bool\n"
     ]
    }
   ],
   "source": [
    "# realizar operações booleanas em uma série\n",
    "\n",
    "print (x > 2)"
   ]
  },
  {
   "cell_type": "code",
   "execution_count": 10,
   "metadata": {},
   "outputs": [
    {
     "name": "stdout",
     "output_type": "stream",
     "text": [
      "True\n",
      "False\n"
     ]
    }
   ],
   "source": [
    "# para verificar se existe algum valor True em uma série utilize o any()\n",
    "\n",
    "maior_que_2 = x > 2\n",
    "\n",
    "print (maior_que_2.any())\n",
    "\n",
    "#para verificar se TODOS os valores são True utilize a função all()\n",
    "\n",
    "print (maior_que_2.all())"
   ]
  },
  {
   "cell_type": "code",
   "execution_count": 11,
   "metadata": {},
   "outputs": [
    {
     "name": "stdout",
     "output_type": "stream",
     "text": [
      "0      1\n",
      "1      4\n",
      "2     27\n",
      "3     16\n",
      "4    125\n",
      "dtype: int64\n"
     ]
    }
   ],
   "source": [
    "# criando uma função para aplicar na série\n",
    "\n",
    "def f(x):\n",
    "    if x % 2 == 0 :\n",
    "        return x ** 2\n",
    "    else:\n",
    "        return x ** 3\n",
    "    \n",
    "# para aplicar utilize a função Apply e o pandas irá aplicar sua função em cada elemento.\n",
    "\n",
    "print(x.apply(f))\n"
   ]
  },
  {
   "cell_type": "code",
   "execution_count": 12,
   "metadata": {},
   "outputs": [
    {
     "name": "stdout",
     "output_type": "stream",
     "text": [
      "0    1\n",
      "1    2\n",
      "2    3\n",
      "3    4\n",
      "4    5\n",
      "dtype: int64\n"
     ]
    }
   ],
   "source": [
    "# para copiar uma série é necessário utilizar a função copy... caso contrário o objeto não será criado... \n",
    "# apenas a referencia será passada\n",
    "\n",
    "# não faça y = x\n",
    "\n",
    "y = x.copy()\n",
    "\n",
    "print (y)"
   ]
  },
  {
   "cell_type": "code",
   "execution_count": 13,
   "metadata": {},
   "outputs": [
    {
     "name": "stdout",
     "output_type": "stream",
     "text": [
      "   x\n",
      "0  1\n",
      "1  2\n",
      "2  3\n",
      "3  4\n",
      "4  5\n",
      "5  6\n",
      "6  7\n",
      "7  8\n",
      "8  9\n"
     ]
    }
   ],
   "source": [
    "# um dataframe é um conjunto de séries... uma série é apenas 1 coluna de dados\n",
    "\n",
    "data = [1,2,3,4,5,6,7,8,9]\n",
    "\n",
    "df= pd.DataFrame(data,columns=[\"x\"]) # preciso especificar os dados e o nome da coluna\n",
    "print(df)"
   ]
  },
  {
   "cell_type": "code",
   "execution_count": 15,
   "metadata": {},
   "outputs": [
    {
     "name": "stdout",
     "output_type": "stream",
     "text": [
      "   x  x_mais_2\n",
      "0  1         3\n",
      "1  2         4\n",
      "2  3         5\n",
      "3  4         6\n",
      "4  5         7\n",
      "5  6         8\n",
      "6  7         9\n",
      "7  8        10\n",
      "8  9        11\n"
     ]
    }
   ],
   "source": [
    "# podemos adicionar mais colunas a um dataframe\n",
    "\n",
    "df[\"x_mais_2\"] = df[\"x\"] + 2\n",
    "print (df)"
   ]
  },
  {
   "cell_type": "code",
   "execution_count": 16,
   "metadata": {},
   "outputs": [
    {
     "name": "stdout",
     "output_type": "stream",
     "text": [
      "   x\n",
      "0  1\n",
      "1  2\n",
      "2  3\n",
      "3  4\n",
      "4  5\n",
      "5  6\n",
      "6  7\n",
      "7  8\n",
      "8  9\n"
     ]
    }
   ],
   "source": [
    "# excluindo uma coluna\n",
    "\n",
    "df = df.drop(\"x_mais_2\",1)\n",
    "print (df)\n"
   ]
  },
  {
   "cell_type": "code",
   "execution_count": 17,
   "metadata": {},
   "outputs": [
    {
     "data": {
      "text/html": [
       "<div>\n",
       "<style scoped>\n",
       "    .dataframe tbody tr th:only-of-type {\n",
       "        vertical-align: middle;\n",
       "    }\n",
       "\n",
       "    .dataframe tbody tr th {\n",
       "        vertical-align: top;\n",
       "    }\n",
       "\n",
       "    .dataframe thead th {\n",
       "        text-align: right;\n",
       "    }\n",
       "</style>\n",
       "<table border=\"1\" class=\"dataframe\">\n",
       "  <thead>\n",
       "    <tr style=\"text-align: right;\">\n",
       "      <th></th>\n",
       "      <th>x</th>\n",
       "    </tr>\n",
       "  </thead>\n",
       "  <tbody>\n",
       "    <tr>\n",
       "      <th>count</th>\n",
       "      <td>9.000000</td>\n",
       "    </tr>\n",
       "    <tr>\n",
       "      <th>mean</th>\n",
       "      <td>5.000000</td>\n",
       "    </tr>\n",
       "    <tr>\n",
       "      <th>std</th>\n",
       "      <td>2.738613</td>\n",
       "    </tr>\n",
       "    <tr>\n",
       "      <th>min</th>\n",
       "      <td>1.000000</td>\n",
       "    </tr>\n",
       "    <tr>\n",
       "      <th>25%</th>\n",
       "      <td>3.000000</td>\n",
       "    </tr>\n",
       "    <tr>\n",
       "      <th>50%</th>\n",
       "      <td>5.000000</td>\n",
       "    </tr>\n",
       "    <tr>\n",
       "      <th>75%</th>\n",
       "      <td>7.000000</td>\n",
       "    </tr>\n",
       "    <tr>\n",
       "      <th>max</th>\n",
       "      <td>9.000000</td>\n",
       "    </tr>\n",
       "  </tbody>\n",
       "</table>\n",
       "</div>"
      ],
      "text/plain": [
       "              x\n",
       "count  9.000000\n",
       "mean   5.000000\n",
       "std    2.738613\n",
       "min    1.000000\n",
       "25%    3.000000\n",
       "50%    5.000000\n",
       "75%    7.000000\n",
       "max    9.000000"
      ]
     },
     "execution_count": 17,
     "metadata": {},
     "output_type": "execute_result"
    }
   ],
   "source": [
    "# para coletar algumas informações sobre o dataset\n",
    "df.describe()"
   ]
  },
  {
   "cell_type": "code",
   "execution_count": null,
   "metadata": {},
   "outputs": [],
   "source": [
    "# para ler um arquivo CSV\n",
    "\n",
    "dataset = pd.read_csv('nome.csv')"
   ]
  }
 ],
 "metadata": {
  "kernelspec": {
   "display_name": "Python 3",
   "language": "python",
   "name": "python3"
  },
  "language_info": {
   "codemirror_mode": {
    "name": "ipython",
    "version": 3
   },
   "file_extension": ".py",
   "mimetype": "text/x-python",
   "name": "python",
   "nbconvert_exporter": "python",
   "pygments_lexer": "ipython3",
   "version": "3.6.5"
  }
 },
 "nbformat": 4,
 "nbformat_minor": 2
}
